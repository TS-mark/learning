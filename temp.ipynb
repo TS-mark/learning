{
 "cells": [
  {
   "cell_type": "code",
   "execution_count": 1,
   "metadata": {},
   "outputs": [
    {
     "name": "stdout",
     "output_type": "stream",
     "text": [
      "Frobenius norm squared: 5.0\n",
      "Frobenius norm squared: 5\n"
     ]
    }
   ],
   "source": [
    "import torch\n",
    "\n",
    "# 假设 m1 和 m2 是两个 PyTorch 张量\n",
    "m1 = torch.tensor([[1,3,1,1]])  # 用实际的张量数据初始化\n",
    "m2 = torch.tensor([[3,4,1,1]])  # 用实际的张量数据初始化\n",
    "\n",
    "# 计算 Frobenius 范数的平方\n",
    "frobenius_norm_squared = torch.sum((m1 - m2)**2)\n",
    "\n",
    "\n",
    "m = torch.linalg.norm(m1.float() - m2.float(), 2, 1)**2\n",
    "# sigma = torch.linalg.norm(box1[:, 2:] - box2[:, 2:], 2, 1)**2\n",
    "\n",
    "# 输出结果\n",
    "\n",
    "print(f\"Frobenius norm squared: {m.item()}\")\n",
    "print(f\"Frobenius norm squared: {frobenius_norm_squared.item()}\")"
   ]
  },
  {
   "cell_type": "code",
   "execution_count": 4,
   "metadata": {},
   "outputs": [
    {
     "data": {
      "text/plain": [
       "4"
      ]
     },
     "execution_count": 4,
     "metadata": {},
     "output_type": "execute_result"
    }
   ],
   "source": [
    "m1.size()[-1]"
   ]
  },
  {
   "cell_type": "code",
   "execution_count": 24,
   "metadata": {},
   "outputs": [
    {
     "name": "stdout",
     "output_type": "stream",
     "text": [
      "compiled: True\n"
     ]
    }
   ],
   "source": [
    "import pydantic\n",
    "print('compiled:', pydantic.compiled)\n"
   ]
  },
  {
   "cell_type": "code",
   "execution_count": null,
   "metadata": {},
   "outputs": [],
   "source": [
    "import numpy as np\n",
    "\n",
    "\n",
    "# 有框\n",
    "def drawDefaultRectangle(file_path, save_path, ob_list, label_name, color = (255,0,0), style = 1):\n",
    "    img = cv2.imread(file_path)\n",
    "    res = img\n",
    "    for ob in ob_list:\n",
    "        cv2.rectangle(res, (ob[0],ob[1]), (ob[2], ob[3]), color, style)\n",
    "        cv2.putText(res, ob[4], (ob[2],ob[3]-5), cv2.FONT_HERSHEY_SIMPLEX, 1, color, 1)\n",
    "    # print(ob)\n",
    "    cv2.imwrite(save_path, res)\n"
   ]
  }
 ],
 "metadata": {
  "kernelspec": {
   "display_name": "Python 3",
   "language": "python",
   "name": "python3"
  },
  "language_info": {
   "codemirror_mode": {
    "name": "ipython",
    "version": 3
   },
   "file_extension": ".py",
   "mimetype": "text/x-python",
   "name": "python",
   "nbconvert_exporter": "python",
   "pygments_lexer": "ipython3",
   "version": "3.10.8"
  },
  "orig_nbformat": 4,
  "vscode": {
   "interpreter": {
    "hash": "2457cb1fc7fe65b67a8bfa8297ae36ac15699474b7b28a44eb2505adebb15336"
   }
  }
 },
 "nbformat": 4,
 "nbformat_minor": 2
}
