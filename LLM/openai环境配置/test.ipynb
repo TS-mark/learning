{
 "cells": [
  {
   "cell_type": "code",
   "execution_count": 1,
   "metadata": {},
   "outputs": [
    {
     "name": "stdout",
     "output_type": "stream",
     "text": [
      "ChatCompletion(id='chatcmpl-8NuzTgkGKrILZG7j4vwo9R7B5MLB8', choices=[Choice(finish_reason='stop', index=0, message=ChatCompletionMessage(content='This is a test.', role='assistant', function_call=None, tool_calls=None))], created=1700711307, model='gpt-3.5-turbo-0613', object='chat.completion', system_fingerprint=None, usage=CompletionUsage(completion_tokens=5, prompt_tokens=12, total_tokens=17))\n"
     ]
    }
   ],
   "source": [
    "import os\n",
    "from openai import OpenAI\n",
    "\n",
    "# 加载 .env 到环境变量\n",
    "from dotenv import load_dotenv, find_dotenv\n",
    "_ = load_dotenv(find_dotenv())\n",
    "\n",
    "# 配置 OpenAI 服务\n",
    "\n",
    "client = OpenAI(\n",
    "    # defaults to os.environ.get(\"OPENAI_API_KEY\")\n",
    "    api_key=os.getenv(\"OPENAI_API_KEY\"),\n",
    "    base_url=os.getenv(\"OPENAI_API_BASE\")\n",
    ")\n",
    "\n",
    "response = client.chat.completions.create(\n",
    "    messages=[\n",
    "        {\n",
    "            \"role\": \"user\",\n",
    "            \"content\": \"Say this is a test\",\n",
    "        }\n",
    "    ],\n",
    "    model=\"gpt-3.5-turbo\",\n",
    ")\n",
    "\n",
    "print(response)"
   ]
  },
  {
   "cell_type": "code",
   "execution_count": 2,
   "metadata": {},
   "outputs": [
    {
     "data": {
      "text/plain": [
       "[Choice(finish_reason='stop', index=0, message=ChatCompletionMessage(content='This is a test.', role='assistant', function_call=None, tool_calls=None))]"
      ]
     },
     "execution_count": 2,
     "metadata": {},
     "output_type": "execute_result"
    }
   ],
   "source": [
    "response.choices"
   ]
  },
  {
   "cell_type": "code",
   "execution_count": 5,
   "metadata": {},
   "outputs": [
    {
     "name": "stdout",
     "output_type": "stream",
     "text": [
      "https://api.fe8.cn/v1/\n"
     ]
    }
   ],
   "source": [
    "from openai import OpenAI\n",
    "from dotenv import load_dotenv, find_dotenv\n",
    "import openai\n",
    "import os\n",
    "import json\n",
    "\n",
    "_ = load_dotenv(find_dotenv())  # 读取本地 .env 文件，里面定义了 OPENAI_API_KEY\n",
    "\n",
    "\n",
    "\n",
    "client = OpenAI(\n",
    "    api_key=os.getenv(\"OPENAI_API_KEY\"),\n",
    "    base_url=os.getenv(\"OPENAI_API_BASE\")\n",
    ")\n",
    "print(client.base_url)"
   ]
  },
  {
   "cell_type": "code",
   "execution_count": 4,
   "metadata": {},
   "outputs": [
    {
     "name": "stdout",
     "output_type": "stream",
     "text": [
      "Collecting elasticsearch7\n",
      "  Downloading elasticsearch7-7.17.9-py2.py3-none-any.whl (386 kB)\n",
      "     ---------------------------------------- 0.0/386.4 kB ? eta -:--:--\n",
      "     ---------------------------------------- 0.0/386.4 kB ? eta -:--:--\n",
      "     ---------------------------------------- 0.0/386.4 kB ? eta -:--:--\n",
      "     ---------------------------------------- 0.0/386.4 kB ? eta -:--:--\n",
      "     ---------------------------------------- 0.0/386.4 kB ? eta -:--:--\n",
      "     ---------------------------------------- 0.0/386.4 kB ? eta -:--:--\n",
      "     - -------------------------------------- 10.2/386.4 kB ? eta -:--:--\n",
      "     -- ---------------------------------- 30.7/386.4 kB 435.7 kB/s eta 0:00:01\n",
      "     --- --------------------------------- 41.0/386.4 kB 326.8 kB/s eta 0:00:02\n",
      "     --- --------------------------------- 41.0/386.4 kB 326.8 kB/s eta 0:00:02\n",
      "     --- --------------------------------- 41.0/386.4 kB 326.8 kB/s eta 0:00:02\n",
      "     --- --------------------------------- 41.0/386.4 kB 326.8 kB/s eta 0:00:02\n",
      "     ----- ------------------------------- 61.4/386.4 kB 192.5 kB/s eta 0:00:02\n",
      "     -------- ---------------------------- 92.2/386.4 kB 238.1 kB/s eta 0:00:02\n",
      "     ---------- ------------------------- 112.6/386.4 kB 284.4 kB/s eta 0:00:01\n",
      "     ----------- ------------------------ 122.9/386.4 kB 276.8 kB/s eta 0:00:01\n",
      "     ------------------ ----------------- 194.6/386.4 kB 368.6 kB/s eta 0:00:01\n",
      "     ------------------- ---------------- 204.8/386.4 kB 389.1 kB/s eta 0:00:01\n",
      "     -------------------- --------------- 225.3/386.4 kB 372.0 kB/s eta 0:00:01\n",
      "     ----------------------- ------------ 256.0/386.4 kB 413.7 kB/s eta 0:00:01\n",
      "     ----------------------- ------------ 256.0/386.4 kB 413.7 kB/s eta 0:00:01\n",
      "     ----------------------- ------------ 256.0/386.4 kB 413.7 kB/s eta 0:00:01\n",
      "     ----------------------- ------------ 256.0/386.4 kB 413.7 kB/s eta 0:00:01\n",
      "     ----------------------- ------------ 256.0/386.4 kB 413.7 kB/s eta 0:00:01\n",
      "     ------------------------------- ---- 337.9/386.4 kB 381.0 kB/s eta 0:00:01\n",
      "     ------------------------------------ 386.4/386.4 kB 422.1 kB/s eta 0:00:00\n",
      "Requirement already satisfied: urllib3<2,>=1.21.1 in c:\\users\\mark\\appdata\\local\\programs\\python\\python310\\lib\\site-packages (from elasticsearch7) (1.26.13)\n",
      "Requirement already satisfied: certifi in c:\\users\\mark\\appdata\\local\\programs\\python\\python310\\lib\\site-packages (from elasticsearch7) (2022.12.7)\n",
      "Installing collected packages: elasticsearch7\n",
      "Successfully installed elasticsearch7-7.17.9\n",
      "Requirement already satisfied: nltk in c:\\users\\mark\\appdata\\local\\programs\\python\\python310\\lib\\site-packages (3.8.1)\n",
      "Requirement already satisfied: click in c:\\users\\mark\\appdata\\local\\programs\\python\\python310\\lib\\site-packages (from nltk) (8.0.0)\n",
      "Requirement already satisfied: joblib in c:\\users\\mark\\appdata\\local\\programs\\python\\python310\\lib\\site-packages (from nltk) (1.3.2)\n",
      "Requirement already satisfied: regex>=2021.8.3 in c:\\users\\mark\\appdata\\local\\programs\\python\\python310\\lib\\site-packages (from nltk) (2023.10.3)\n",
      "Requirement already satisfied: tqdm in c:\\users\\mark\\appdata\\local\\programs\\python\\python310\\lib\\site-packages (from nltk) (4.65.2)\n",
      "Requirement already satisfied: colorama in c:\\users\\mark\\appdata\\local\\programs\\python\\python310\\lib\\site-packages (from click->nltk) (0.4.6)\n"
     ]
    }
   ],
   "source": [
    "# 安装 ES 客户端\n",
    "!pip install elasticsearch7\n",
    "# 安装NLTK（文本处理方法库）\n",
    "!pip install nltk"
   ]
  },
  {
   "cell_type": "code",
   "execution_count": 3,
   "metadata": {},
   "outputs": [],
   "source": [
    "def get_completion(messages, model=\"gpt-3.5-turbo-1106\"):\n",
    "    response = client.chat.completions.create(  # 注意，以前的 client.ChatCompletion 要换成 client.chat.completions\n",
    "        model=model,\n",
    "        messages=messages,\n",
    "        temperature=0.7,  # 模型输出的随机性，0 表示随机性最小\n",
    "        tools=[{  # 用 JSON 描述函数。可以定义多个。由大模型决定调用谁。也可能都不调用\n",
    "            \"type\": \"function\",\n",
    "            \"function\": {\n",
    "                \"name\": \"sum\",\n",
    "                \"description\": \"加法器，计算一组数的和\",\n",
    "                \"parameters\": {\n",
    "                    \"type\": \"object\",\n",
    "                    \"properties\": {\n",
    "                        \"numbers\": {\n",
    "                            \"type\": \"array\",\n",
    "                            \"items\": {\n",
    "                                \"type\": \"number\"\n",
    "                            }\n",
    "                        }\n",
    "                    }\n",
    "                }\n",
    "            }\n",
    "        }],\n",
    "    )\n",
    "    return response.choices[0].message"
   ]
  }
 ],
 "metadata": {
  "kernelspec": {
   "display_name": "Python 3",
   "language": "python",
   "name": "python3"
  },
  "language_info": {
   "codemirror_mode": {
    "name": "ipython",
    "version": 3
   },
   "file_extension": ".py",
   "mimetype": "text/x-python",
   "name": "python",
   "nbconvert_exporter": "python",
   "pygments_lexer": "ipython3",
   "version": "3.10.8"
  },
  "orig_nbformat": 4
 },
 "nbformat": 4,
 "nbformat_minor": 2
}
