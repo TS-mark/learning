{
 "cells": [
  {
   "attachments": {},
   "cell_type": "markdown",
   "metadata": {},
   "source": [
    "### 目的：查看onnx导出文件每一层的中间结果"
   ]
  },
  {
   "cell_type": "code",
   "execution_count": 1,
   "metadata": {},
   "outputs": [],
   "source": [
    "import onnx\n",
    "from onnx import shape_inference\n",
    "import glob\n",
    "import os\n",
    "# model = 'best.onnx'\n",
    "# onnx.save(onnx.shape_inference.infer_shapes(onnx.load(model)), model)"
   ]
  },
  {
   "cell_type": "code",
   "execution_count": 2,
   "metadata": {},
   "outputs": [
    {
     "name": "stdout",
     "output_type": "stream",
     "text": [
      "E:\\ultralytics-main\\ultralytics\\yolo\\engine\\yolov8n.onnx\n"
     ]
    }
   ],
   "source": [
    "file_dir = r\"E:\\ultralytics-main\\ultralytics\\yolo\\engine\"\n",
    "onnx_file = glob.glob(file_dir+r\"/*.onnx\")\n",
    "# print(onnx_file)\n",
    "for m in onnx_file:\n",
    "    print(m)\n",
    "    onnx.save(onnx.shape_inference.infer_shapes(onnx.load(m)),m)"
   ]
  },
  {
   "cell_type": "code",
   "execution_count": 8,
   "metadata": {},
   "outputs": [
    {
     "data": {
      "text/plain": [
       "['events.out.tfevents.1677053093.aa8fea7cc2fd.298678.0',\n",
       " 'hyp.yaml',\n",
       " 'labels.jpg',\n",
       " 'labels_correlogram.jpg',\n",
       " 'opt.yaml',\n",
       " 'results.csv',\n",
       " 'train_batch0.jpg',\n",
       " 'train_batch1.jpg',\n",
       " 'train_batch2.jpg',\n",
       " 'weights']"
      ]
     },
     "execution_count": 8,
     "metadata": {},
     "output_type": "execute_result"
    }
   ],
   "source": []
  }
 ],
 "metadata": {
  "kernelspec": {
   "display_name": "Python 3",
   "language": "python",
   "name": "python3"
  },
  "language_info": {
   "codemirror_mode": {
    "name": "ipython",
    "version": 3
   },
   "file_extension": ".py",
   "mimetype": "text/x-python",
   "name": "python",
   "nbconvert_exporter": "python",
   "pygments_lexer": "ipython3",
   "version": "3.10.8"
  },
  "orig_nbformat": 4
 },
 "nbformat": 4,
 "nbformat_minor": 2
}
