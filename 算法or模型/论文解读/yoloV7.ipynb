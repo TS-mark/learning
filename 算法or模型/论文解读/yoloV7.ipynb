{
 "cells": [
  {
   "cell_type": "code",
   "execution_count": null,
   "metadata": {},
   "outputs": [],
   "source": []
  },
  {
   "cell_type": "markdown",
   "metadata": {},
   "source": [
    "\n",
    "+ data\n",
    "    - hyps:超参数\n",
    "    - images:\n",
    "    - scripts:数据相关脚本\n",
    "    * 相关数据定义(.yaml)\n",
    "+ models\n",
    "    * 模型配置文件（.yaml）\n",
    "    * yolo.py:将配置文件翻译成模型\n",
    "    * common.py:模型文件中一些网络层的定义（例如Conv）\n",
    "+ runs\n",
    "    * 运行文件的生成（detect、train）\n",
    "+ utils\n",
    "    * todo\n",
    "+ weights\n",
    "    * 权重文件（例如yoloV7.pt）\n",
    "* detect.py 加载训练权重\n",
    "* expect.py 修改权重文件格式\n",
    "* train.py 定义模型训练文件策略（dataloader、模型初始化、模型训练、正向传播、反向传播、测试结果）"
   ]
  },
  {
   "cell_type": "markdown",
   "metadata": {},
   "source": [
    "## 文件解读\n",
    "----"
   ]
  },
  {
   "cell_type": "markdown",
   "metadata": {},
   "source": [
    "### cfg/yolov7.yaml\n",
    "\n",
    "1. anchors:\n",
    "[x,y,   x,y,  x,y]\n",
    "2. backbone:\n",
    "- [[-1, 1, conv, []]]\n",
    "+ 说明： \n",
    "    1. 第一个参数：输入从哪层来，-1指上一层输入值\n",
    "    2. 第二个参数：该层重复的次数\n",
    "    3. 第三个参数：网络模型，Conv、C3、SPPF（yoloV5的层）\n",
    "    4. 第四个参数：arguments[输出channel， 卷积核大小， padding， stride]\n",
    "---"
   ]
  },
  {
   "cell_type": "markdown",
   "metadata": {},
   "source": [
    "### train.py\n",
    "\n",
    "#### import模块-->先埋个坑, 之后填\n",
    "```python\n",
    "from torch.cuda import amp # 使用混合精度，可以加快训练速度\n",
    "from torch.nn.parallel import DistributedDataParallel # 并行计算\n",
    "from tqdm.auto import tqdm # 进度条模块\n",
    "```\n",
    "\n",
    "#### 参数\n",
    "|参数名|功能|值|\n",
    "|---|---|---|\n",
    "|weights|权重文件||\n",
    "|cfg|模型配置文件||\n",
    "|data|加载数据配置文件||\n",
    "|hyp|超参数||\n",
    "|epochs|||\n",
    "|rect|是否rectangular training||\n",
    "|evolve|自动选择一些超参数|store-true|\n",
    "|cache|是否使用cache加载数据|好像用不上|\n",
    "|image-weights|参数权重|store_true|\n",
    "|multi-scale|多尺度训练|store_true|\n",
    "|single-cls|是否单分类|store_true|\n",
    "|optimizer|激活[SGD、Adam、AdamW]||\n",
    "|sync-bn|syncBatchNorm<br>多GPU训练,参考这个[文章](https://zhuanlan.zhihu.com/p/555881100)理解||\n",
    "|workers|指dataloader创建多少进程运行||\n",
    "|project&name|结果保存地址||\n",
    "|cos-lr|余弦退火learning rate||\n",
    "\n",
    "#### resume training\n",
    "加载预训练模型（ckpt）\n"
   ]
  },
  {
   "cell_type": "markdown",
   "metadata": {},
   "source": []
  },
  {
   "cell_type": "code",
   "execution_count": null,
   "metadata": {},
   "outputs": [],
   "source": []
  },
  {
   "cell_type": "markdown",
   "metadata": {},
   "source": []
  }
 ],
 "metadata": {
  "kernelspec": {
   "display_name": "Python 3.10.8 64-bit",
   "language": "python",
   "name": "python3"
  },
  "language_info": {
   "name": "python",
   "version": "3.10.8"
  },
  "orig_nbformat": 4,
  "vscode": {
   "interpreter": {
    "hash": "bebf9730dc43cfbc35fb329a82a69476f49cde6de038a2bbfc26f12404ad85fb"
   }
  }
 },
 "nbformat": 4,
 "nbformat_minor": 2
}
