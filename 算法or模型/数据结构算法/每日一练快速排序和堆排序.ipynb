{
 "cells": [
  {
   "cell_type": "code",
   "execution_count": null,
   "metadata": {},
   "outputs": [],
   "source": [
    "def quick_sort(nums):\n",
    "    def QS(st, end):\n",
    "        if st >= end:\n",
    "            return\n",
    "        i = st+1\n",
    "        ed = end\n",
    "        while(ed>=i):\n",
    "            if nums[st] < nums[i]:\n",
    "                nums[ed], nums[i] = nums[i], nums[ed]\n",
    "                ed -= 1\n",
    "            else:\n",
    "                i += 1\n",
    "        mid = min(i, ed)\n",
    "        nums[st], nums[mid] = nums[mid], nums[st]\n",
    "        QS(st, mid - 1)\n",
    "        QS(mid + 1, end)\n",
    "        \n",
    "    QS(0, len(nums) - 1)\n",
    "    return nums\n",
    "            "
   ]
  },
  {
   "cell_type": "code",
   "execution_count": 1,
   "metadata": {},
   "outputs": [
    {
     "data": {
      "text/plain": [
       "[22]"
      ]
     },
     "execution_count": 1,
     "metadata": {},
     "output_type": "execute_result"
    }
   ],
   "source": [
    "from heapq import *\n",
    "res = []\n",
    "heappush(res,22)\n",
    "res"
   ]
  },
  {
   "cell_type": "code",
   "execution_count": 1,
   "metadata": {},
   "outputs": [],
   "source": [
    "# 大顶堆\n",
    "from heapq import *\n",
    "def heap_sort(nums):\n",
    "    temp_res = []\n",
    "    res = []\n",
    "    for i in nums:\n",
    "        heappush(temp_res, -i)\n",
    "    while(temp_res):\n",
    "        res.append((-1)*heappop(temp_res))\n",
    "\n",
    "    return res\n"
   ]
  },
  {
   "cell_type": "code",
   "execution_count": 39,
   "metadata": {},
   "outputs": [
    {
     "data": {
      "text/plain": [
       "[3, 33, 48, 50, 50, 62, 76, 80, 88, 88]"
      ]
     },
     "execution_count": 39,
     "metadata": {},
     "output_type": "execute_result"
    }
   ],
   "source": [
    "import numpy as np\n",
    "nums = np.random.randint(1,100,10)\n",
    "quick_sort(nums.tolist())"
   ]
  },
  {
   "cell_type": "code",
   "execution_count": 48,
   "metadata": {},
   "outputs": [],
   "source": [
    "def quick_sort(nums):\n",
    "    def QS(st, end):\n",
    "        if st >= end:\n",
    "            return\n",
    "        i = st+1\n",
    "        ed = end\n",
    "        while (i<=ed):\n",
    "            if nums[st] < nums[i]:\n",
    "                nums[ed], nums[i] = nums[i], nums[ed]\n",
    "                ed -= 1\n",
    "            else:\n",
    "                i += 1\n",
    "        mid = min(i, ed)\n",
    "        nums[mid], nums[st] = nums[st], nums[mid]\n",
    "        QS(st, mid-1)\n",
    "        QS(mid+1, end)\n",
    "    QS(0, len(nums)-1)\n",
    "    return nums"
   ]
  },
  {
   "cell_type": "code",
   "execution_count": 49,
   "metadata": {},
   "outputs": [
    {
     "data": {
      "text/plain": [
       "[24, 24, 29, 48, 53, 69, 70, 81, 91, 96]"
      ]
     },
     "execution_count": 49,
     "metadata": {},
     "output_type": "execute_result"
    }
   ],
   "source": [
    "import numpy as np\n",
    "nums = np.random.randint(1,100,10)\n",
    "quick_sort(nums.tolist())"
   ]
  },
  {
   "cell_type": "code",
   "execution_count": 4,
   "metadata": {},
   "outputs": [
    {
     "data": {
      "text/plain": [
       "1"
      ]
     },
     "execution_count": 4,
     "metadata": {},
     "output_type": "execute_result"
    }
   ],
   "source": [
    "11&1"
   ]
  },
  {
   "cell_type": "code",
   "execution_count": 8,
   "metadata": {},
   "outputs": [
    {
     "data": {
      "text/plain": [
       "4"
      ]
     },
     "execution_count": 8,
     "metadata": {},
     "output_type": "execute_result"
    }
   ],
   "source": [
    "7&4"
   ]
  },
  {
   "cell_type": "code",
   "execution_count": 11,
   "metadata": {},
   "outputs": [],
   "source": [
    "s = [1,2,3,5,7,8,9,4,23,5,6,1]\n",
    "s[2:9].sort()"
   ]
  },
  {
   "cell_type": "code",
   "execution_count": 13,
   "metadata": {},
   "outputs": [
    {
     "data": {
      "text/plain": [
       "[3, 5, 7, 8, 9, 4, 23]"
      ]
     },
     "execution_count": 13,
     "metadata": {},
     "output_type": "execute_result"
    }
   ],
   "source": [
    "s[2:9]"
   ]
  },
  {
   "cell_type": "code",
   "execution_count": 14,
   "metadata": {},
   "outputs": [],
   "source": [
    "s.sort()"
   ]
  },
  {
   "cell_type": "code",
   "execution_count": 15,
   "metadata": {},
   "outputs": [
    {
     "data": {
      "text/plain": [
       "[1, 1, 2, 3, 4, 5, 5, 6, 7, 8, 9, 23]"
      ]
     },
     "execution_count": 15,
     "metadata": {},
     "output_type": "execute_result"
    }
   ],
   "source": [
    "s"
   ]
  },
  {
   "cell_type": "code",
   "execution_count": null,
   "metadata": {},
   "outputs": [],
   "source": []
  }
 ],
 "metadata": {
  "kernelspec": {
   "display_name": "Python 3",
   "language": "python",
   "name": "python3"
  },
  "language_info": {
   "codemirror_mode": {
    "name": "ipython",
    "version": 3
   },
   "file_extension": ".py",
   "mimetype": "text/x-python",
   "name": "python",
   "nbconvert_exporter": "python",
   "pygments_lexer": "ipython3",
   "version": "3.10.8"
  }
 },
 "nbformat": 4,
 "nbformat_minor": 4
}
