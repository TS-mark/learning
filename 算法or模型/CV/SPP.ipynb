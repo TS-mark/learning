{
 "cells": [
  {
   "cell_type": "code",
   "execution_count": 1,
   "metadata": {},
   "outputs": [],
   "source": [
    "import torch\n",
    "from torch import nn\n",
    "\n",
    "\n",
    "\n",
    "\n",
    "class SPPF(nn.Module):\n",
    "    # Spatial Pyramid Pooling - Fast (SPPF) layer for YOLOv5 by Glenn Jocher\n",
    "    def __init__(self, c1, c2, k=5):  # equivalent to SPP(k=(5, 9, 13))\n",
    "        super().__init__()\n",
    "        c_ = c1 // 2  # hidden channels\n",
    "        self.cv1 = Conv(c1, c_, 1, 1)\n",
    "        self.cv2 = Conv(c_ * 4, c2, 1, 1)\n",
    "        self.m = nn.MaxPool2d(kernel_size=k, stride=1, padding=k // 2)\n",
    "        # #修改成3*3核\n",
    "        # self.mk = nn.MaxPool2d(kernel_size=3, stride=1, padding=3 // 2)\n",
    "\n",
    "    def forward(self, x):\n",
    "        x = self.cv1(x)\n",
    "        # with warnings.catch_warnings():\n",
    "        #     warnings.simplefilter('ignore')  # suppress torch 1.9.0 max_pool2d() warning\n",
    "            # y1 = self.m(x)\n",
    "            # y2 = self.m(y1)\n",
    "            # return self.cv2(torch.cat((x, y1, y2, self.m(y2)), 1))\n",
    "        #修改成3*3核\n",
    "        y1 = self.m(x)\n",
    "        y2 = self.m(y1)\n",
    "        return self.cv2(torch.cat((x, y1, y2, self.m(y2)), 1))\n",
    "\n",
    "\n",
    "class Conv(nn.Module):\n",
    "    # Standard convolution with args(ch_in, ch_out, kernel, stride, padding, groups, dilation, activation)\n",
    "    default_act = nn.SiLU()  # default activation\n",
    "\n",
    "    def __init__(self, c1, c2, k=1, s=1, p=None, g=1, d=1, act=True):\n",
    "        super().__init__()\n",
    "        self.conv = nn.Conv2d(c1, c2, k, s, autopad(k, p, d), groups=g, dilation=d, bias=False)\n",
    "        self.bn = nn.BatchNorm2d(c2)\n",
    "        self.act = self.default_act if act is True else act if isinstance(act, nn.Module) else nn.Identity()\n",
    "\n",
    "    def forward(self, x):\n",
    "        return self.act(self.bn(self.conv(x)))\n",
    "\n",
    "    def forward_fuse(self, x):\n",
    "        return self.act(self.conv(x))\n",
    "    \n",
    "    \n",
    "def autopad(k, p=None, d=1):  # kernel, padding, dilation\n",
    "    # Pad to 'same' shape outputs\n",
    "    if d > 1:\n",
    "        k = d * (k - 1) + 1 if isinstance(k, int) else [d * (x - 1) + 1 for x in k]  # actual kernel-size\n",
    "    if p is None:\n",
    "        p = k // 2 if isinstance(k, int) else [x // 2 for x in k]  # auto-pad\n",
    "    return p"
   ]
  },
  {
   "cell_type": "code",
   "execution_count": null,
   "metadata": {},
   "outputs": [],
   "source": [
    "# 创建 SPP 模块，设置金字塔层级\n",
    "spp = SPPF(levels=[1, 2, 4])\n",
    "\n",
    "# 输入图像1，尺寸为 640x640\n",
    "image1 = torch.randn(1, 3, 640, 640)\n",
    "spp_features1 = spp(image1)\n",
    "\n",
    "# 输入图像2，尺寸为 320x320\n",
    "image2 = torch.randn(1, 3, 320, 320)\n",
    "spp_features2 = spp(image2)\n",
    "\n",
    "# 将 SPP 特征向量作为模型的输入进行训练或预测\n",
    "model_input = torch.cat([spp_features1, spp_features2], dim=1)"
   ]
  }
 ],
 "metadata": {
  "kernelspec": {
   "display_name": "Python 3",
   "language": "python",
   "name": "python3"
  },
  "language_info": {
   "codemirror_mode": {
    "name": "ipython",
    "version": 3
   },
   "file_extension": ".py",
   "mimetype": "text/x-python",
   "name": "python",
   "nbconvert_exporter": "python",
   "pygments_lexer": "ipython3",
   "version": "3.10.8"
  },
  "orig_nbformat": 4
 },
 "nbformat": 4,
 "nbformat_minor": 2
}
