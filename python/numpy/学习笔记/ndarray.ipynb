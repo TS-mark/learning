{
 "cells": [
  {
   "cell_type": "code",
   "execution_count": null,
   "metadata": {},
   "outputs": [],
   "source": [
    "import numpy as np"
   ]
  },
  {
   "attachments": {},
   "cell_type": "markdown",
   "metadata": {},
   "source": [
    "ndarray存放同类型元素的数组  \n",
    "ndarray在内存中都有相同存储大小的区域  \n",
    "组成：\n",
    "![](./img/27.png)\n",
    "* 一个指向数据的指针\n",
    "* 数据类型或dtype，描述在数组中的固定大小值得格子\n",
    "* 一个表示数组形状(shape)的元组，表示各维度大小的元组\n",
    "* 一个跨度元组(stride)"
   ]
  },
  {
   "attachments": {},
   "cell_type": "markdown",
   "metadata": {},
   "source": [
    "array函数\n",
    "asarray函数，跟array基本一致\n",
    "empty未初始化，值可能是随机的\n",
    "zeros、ones\n",
    "full(object, full_values = 222)\n",
    "eye生成对角线为1，其余为0的矩阵\n",
    "arange\n",
    "frombuffer(x, dtype = \"S1\"),以流的形式读入\n",
    "fromiter(x,dtype = \"f\")\n",
    "linspace()"
   ]
  },
  {
   "attachments": {},
   "cell_type": "markdown",
   "metadata": {},
   "source": [
    "random\n",
    "random.rand(3,2)\n",
    "random.random(4) #生成4个0-1随机浮点数\n",
    "random.randint(2,7,5) #生成5个2-7随机数\n",
    "random.randn(2,4)#生成以0为均值，1为标准差的正态分布的2*4数组\n",
    "random.normal(loc = 1, scale = 2, size = 5)#生成以1为均值，2为标准差的正态分布的5个数"
   ]
  },
  {
   "cell_type": "code",
   "execution_count": 40,
   "metadata": {},
   "outputs": [
    {
     "name": "stdout",
     "output_type": "stream",
     "text": [
      "[4 5 3 4 5]\n",
      "[[ 1.35225526 -0.6116454  -0.23108503 -0.39452973]\n",
      " [ 1.60014278 -0.4635966  -2.01949381 -1.53948183]]\n"
     ]
    }
   ],
   "source": [
    "print(np.random.randint(2,7,5))\n",
    "print(np.random.randn(2,4))"
   ]
  },
  {
   "cell_type": "code",
   "execution_count": 35,
   "metadata": {},
   "outputs": [
    {
     "name": "stdout",
     "output_type": "stream",
     "text": [
      "[1 2 3 4 5]\n",
      "<class 'numpy.ndarray'>\n",
      "---------\n",
      "[[1 2 3]\n",
      " [4 5 6]]\n",
      "<class 'numpy.ndarray'>\n",
      "---------\n",
      "[[1 2 3 4 5 6 7 8 9 0]]\n",
      "---------\n",
      "[(b'sss', 18, 94.5) (b'ggg', 25, 55. )]\n",
      "---------\n",
      "[[1 2]\n",
      " [3 4]\n",
      " [5 6]]\n",
      "---------\n"
     ]
    }
   ],
   "source": [
    "# 一维数组\n",
    "arr = np.array([1,2,3,4,5])\n",
    "print(arr)\n",
    "print(type(arr))\n",
    "print('---------')\n",
    "# 多维数组\n",
    "arr = np.array([[1,2,3],[4,5,6]])\n",
    "print(arr)\n",
    "print(type(arr))\n",
    "print('---------')\n",
    "arr = np.array([1,2,3,4,5,6,7,8,9,0], ndmin = 2)# 限定最小维度\n",
    "print(arr)\n",
    "print('---------')\n",
    "#结构化数据\n",
    "student = np.dtype([(\"name\",\"S20\"),(\"age\",\"i4\"),(\"marks\",\"f4\")])\n",
    "arr = np.array([(\"sss\",18,94.5),(\"ggg\",25,55)],dtype = student)\n",
    "print(arr)\n",
    "print('---------')\n",
    "arr = np.empty([3,2],dtype = int)\n",
    "print(arr)\n",
    "print('---------')"
   ]
  },
  {
   "cell_type": "code",
   "execution_count": 37,
   "metadata": {},
   "outputs": [
    {
     "name": "stdout",
     "output_type": "stream",
     "text": [
      "[0. 0. 0. 0. 0. 0. 0. 0. 0. 0.]\n",
      "---------\n",
      "[0 0 0 0 0 0 0 0 0 0]\n",
      "---------\n",
      "[1. 1. 1. 1. 1. 1. 1. 1. 1. 1.]\n",
      "---------\n",
      "[99 99 99 99 99 99 99 99 99 99]\n",
      "---------\n",
      "[[1 0 0 0]\n",
      " [0 1 0 0]\n",
      " [0 0 1 0]\n",
      " [0 0 0 1]]\n",
      "[ 1  3  5  7  9 11]\n",
      "---------\n"
     ]
    }
   ],
   "source": [
    "arr = np.zeros(10)\n",
    "print(arr)\n",
    "print('---------')\n",
    "arr = np.zeros(10,dtype = int)\n",
    "print(arr)\n",
    "print('---------')\n",
    "arr = np.ones(10)\n",
    "print(arr)\n",
    "print('---------')\n",
    "arr = np.full(10,99)\n",
    "print(arr)\n",
    "print('---------')\n",
    "arr = np.eye(4,dtype = \"i2\")\n",
    "print(arr)\n",
    "arr = np.arange(1,12,2)\n",
    "print(arr)\n",
    "print('---------')"
   ]
  },
  {
   "cell_type": "code",
   "execution_count": 32,
   "metadata": {},
   "outputs": [
    {
     "name": "stdout",
     "output_type": "stream",
     "text": [
      "ffsfs\n",
      "[b'f' b'f' b's' b'f' b'f']\n"
     ]
    }
   ],
   "source": [
    "arr = np.array(\"ffsfs\")\n",
    "print(arr)\n",
    "arr = np.frombuffer(b\"ffsff\",dtype = \"S1\")\n",
    "print(arr)"
   ]
  },
  {
   "cell_type": "code",
   "execution_count": 46,
   "metadata": {},
   "outputs": [
    {
     "name": "stdout",
     "output_type": "stream",
     "text": [
      "6\n",
      "(2, 3)\n",
      "4\n",
      "  C_CONTIGUOUS : True\n",
      "  F_CONTIGUOUS : False\n",
      "  OWNDATA : True\n",
      "  WRITEABLE : True\n",
      "  ALIGNED : True\n",
      "  WRITEBACKIFCOPY : False\n",
      "\n"
     ]
    }
   ],
   "source": [
    "arr = np.array([[1,2,3],[4,5,6]])\n",
    "print(arr.size)\n",
    "print(arr.shape)\n",
    "print(arr.itemsize) # 元素所占字节数\n",
    "print(arr.flags)\n"
   ]
  },
  {
   "attachments": {},
   "cell_type": "markdown",
   "metadata": {},
   "source": [
    "  C_CONTIGUOUS : True 行项是否连续\n",
    "  F_CONTIGUOUS : False 数据是否在单一风格的fortran风格的连续段中\n",
    "  OWNDATA : True\n",
    "  WRITEABLE : True\n",
    "  ALIGNED : True\n",
    "  WRITEBACKIFCOPY : False"
   ]
  },
  {
   "attachments": {},
   "cell_type": "markdown",
   "metadata": {},
   "source": [
    "## 切片 & 索引"
   ]
  },
  {
   "cell_type": "code",
   "execution_count": 49,
   "metadata": {},
   "outputs": [
    {
     "name": "stdout",
     "output_type": "stream",
     "text": [
      "[3 5 7]\n",
      "[3 5 7]\n"
     ]
    }
   ],
   "source": [
    "arr = np.arange(10)\n",
    "s = slice(3,9,2)\n",
    "print(arr[s])\n",
    "print(arr[3:9:2])"
   ]
  },
  {
   "cell_type": "code",
   "execution_count": 51,
   "metadata": {},
   "outputs": [
    {
     "name": "stdout",
     "output_type": "stream",
     "text": [
      "[ 1  4  7 10 13]\n",
      "[[3 4 5]\n",
      " [6 7 8]]\n"
     ]
    }
   ],
   "source": [
    "arr = np.arange(15)\n",
    "arr.shape = (5, 3)\n",
    "print(arr[..., 1])\n",
    "print(arr[1:3, ...])"
   ]
  },
  {
   "cell_type": "code",
   "execution_count": null,
   "metadata": {},
   "outputs": [],
   "source": []
  }
 ],
 "metadata": {
  "kernelspec": {
   "display_name": "Python 3",
   "language": "python",
   "name": "python3"
  },
  "language_info": {
   "codemirror_mode": {
    "name": "ipython",
    "version": 3
   },
   "file_extension": ".py",
   "mimetype": "text/x-python",
   "name": "python",
   "nbconvert_exporter": "python",
   "pygments_lexer": "ipython3",
   "version": "3.10.8"
  },
  "orig_nbformat": 4,
  "vscode": {
   "interpreter": {
    "hash": "2457cb1fc7fe65b67a8bfa8297ae36ac15699474b7b28a44eb2505adebb15336"
   }
  }
 },
 "nbformat": 4,
 "nbformat_minor": 2
}
