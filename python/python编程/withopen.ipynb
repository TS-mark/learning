{
 "cells": [
  {
   "attachments": {},
   "cell_type": "markdown",
   "metadata": {},
   "source": [
    "## with open打开多个文件的代码"
   ]
  },
  {
   "cell_type": "code",
   "execution_count": null,
   "metadata": {},
   "outputs": [],
   "source": [
    "with open(\"a.txt\", \"w\") as f1, open(\"b.txt\", \"w\") as f2:\n",
    "    f1.write(\"a\")\n",
    "    f2.write(\"b\")"
   ]
  }
 ],
 "metadata": {
  "kernelspec": {
   "display_name": "Python 3",
   "language": "python",
   "name": "python3"
  },
  "language_info": {
   "name": "python",
   "version": "3.10.8 (tags/v3.10.8:aaaf517, Oct 11 2022, 16:50:30) [MSC v.1933 64 bit (AMD64)]"
  },
  "orig_nbformat": 4,
  "vscode": {
   "interpreter": {
    "hash": "2457cb1fc7fe65b67a8bfa8297ae36ac15699474b7b28a44eb2505adebb15336"
   }
  }
 },
 "nbformat": 4,
 "nbformat_minor": 2
}
