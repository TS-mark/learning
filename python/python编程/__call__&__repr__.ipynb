{
 "cells": [
  {
   "attachments": {},
   "cell_type": "markdown",
   "metadata": {},
   "source": [
    "## 两个例子说明__call__的作用"
   ]
  },
  {
   "cell_type": "code",
   "execution_count": 2,
   "metadata": {},
   "outputs": [
    {
     "name": "stdout",
     "output_type": "stream",
     "text": [
      "init\n",
      "call z c\n"
     ]
    }
   ],
   "source": [
    "class A:\n",
    "    def __init__(self, asd = None):\n",
    "        self.name = asd\n",
    "        print(\"init\")\n",
    "    def __call__(self, name = None, add = None):\n",
    "        print(\"call\", name, add)\n",
    "a = A()\n",
    "a(\"z\",\"c\")"
   ]
  },
  {
   "cell_type": "code",
   "execution_count": 3,
   "metadata": {},
   "outputs": [
    {
     "name": "stdout",
     "output_type": "stream",
     "text": [
      "init\n"
     ]
    },
    {
     "ename": "TypeError",
     "evalue": "'A' object is not callable",
     "output_type": "error",
     "traceback": [
      "\u001b[1;31m---------------------------------------------------------------------------\u001b[0m",
      "\u001b[1;31mTypeError\u001b[0m                                 Traceback (most recent call last)",
      "Cell \u001b[1;32mIn[3], line 8\u001b[0m\n\u001b[0;32m      5\u001b[0m     \u001b[39m# def __call__(self, name = None, add = None):\u001b[39;00m\n\u001b[0;32m      6\u001b[0m     \u001b[39m#     print(\"call\", name, add)\u001b[39;00m\n\u001b[0;32m      7\u001b[0m a \u001b[39m=\u001b[39m A()\n\u001b[1;32m----> 8\u001b[0m a()\n",
      "\u001b[1;31mTypeError\u001b[0m: 'A' object is not callable"
     ]
    }
   ],
   "source": [
    "class A:\n",
    "    def __init__(self, asd = None):\n",
    "        self.name = asd\n",
    "        print(\"init\")\n",
    "    # def __call__(self, name = None, add = None):\n",
    "    #     print(\"call\", name, add)\n",
    "a = A()\n",
    "a()"
   ]
  },
  {
   "attachments": {},
   "cell_type": "markdown",
   "metadata": {},
   "source": [
    "## 两个例子说明__repr__的作用\n",
    "\n",
    "__repr__是说明函数信息的，使对象可以使用print打印__repr__return的信息"
   ]
  },
  {
   "cell_type": "code",
   "execution_count": 4,
   "metadata": {},
   "outputs": [
    {
     "name": "stdout",
     "output_type": "stream",
     "text": [
      "callasd\n"
     ]
    }
   ],
   "source": [
    "class A:\n",
    "    def __init__(self, asd = \"asd\"):\n",
    "        self.name = asd\n",
    "        # print(\"init\")\n",
    "    def __repr__(self):\n",
    "        return \"call\" + self.name\n",
    "a = A()\n",
    "print(a)"
   ]
  },
  {
   "cell_type": "code",
   "execution_count": 5,
   "metadata": {},
   "outputs": [
    {
     "name": "stdout",
     "output_type": "stream",
     "text": [
      "<__main__.A object at 0x0000016CE3B68E20>\n"
     ]
    }
   ],
   "source": [
    "class A:\n",
    "    def __init__(self, asd = None):\n",
    "        self.name = asd\n",
    "        \n",
    "    # def __repr__(self):\n",
    "    #     return \"call\" + self.name\n",
    "a = A()\n",
    "print(a)"
   ]
  }
 ],
 "metadata": {
  "kernelspec": {
   "display_name": "Python 3",
   "language": "python",
   "name": "python3"
  },
  "language_info": {
   "codemirror_mode": {
    "name": "ipython",
    "version": 3
   },
   "file_extension": ".py",
   "mimetype": "text/x-python",
   "name": "python",
   "nbconvert_exporter": "python",
   "pygments_lexer": "ipython3",
   "version": "3.10.8"
  },
  "orig_nbformat": 4,
  "vscode": {
   "interpreter": {
    "hash": "2457cb1fc7fe65b67a8bfa8297ae36ac15699474b7b28a44eb2505adebb15336"
   }
  }
 },
 "nbformat": 4,
 "nbformat_minor": 2
}
