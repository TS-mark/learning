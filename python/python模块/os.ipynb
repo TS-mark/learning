{
 "cells": [
  {
   "cell_type": "markdown",
   "metadata": {},
   "source": []
  },
  {
   "cell_type": "markdown",
   "metadata": {},
   "source": [
    "# os模块使用函数"
   ]
  },
  {
   "attachments": {},
   "cell_type": "markdown",
   "metadata": {},
   "source": [
    "## os函数以及功能\n",
    "\n",
    "---\n",
    "\n",
    "|函数名|功能|用法|\n",
    "|-|-|-|\n",
    "|os.path.join(path1、path2)|连接两个目录path1、path2||\n",
    "|os.path.exists(dir)|判断是否存在dir这个目录|return: bool|\n",
    "|os.path.makedirs(dis)|创造dis目录，一般和<br>exists结合使用，先判断再创造||\n",
    "|os.path.listdir(path)|获取path目录下的所有文件|return: list|\n",
    "|os.path.isfile(path)<br>os.path.isdir(path)|判断是否是文件还是路径|return: bool|\n",
    "|os.path.abspath(\".\")|获取当前文件的绝对路径<br>将传入文件的\".\"替换成file（str）可以得到file的目录路径|return: str|\n",
    "|os.remove(path)|删除文件||\n",
    "|shutil.copy(old_path,new_path)|将文件从旧目录copy到新目录|import shutil|\n",
    "|shutil.move(old_path,new_path)|移动文件||\n",
    "|os.rename(old_path,new_path)|移动文件||"
   ]
  },
  {
   "cell_type": "code",
   "execution_count": 4,
   "metadata": {},
   "outputs": [
    {
     "name": "stdout",
     "output_type": "stream",
     "text": [
      "z:\\learning documents\\python模块\n",
      "<class 'str'>\n"
     ]
    }
   ],
   "source": [
    "print(os.getcwd())\n",
    "print(type(os.getcwd()))"
   ]
  },
  {
   "cell_type": "code",
   "execution_count": 6,
   "metadata": {},
   "outputs": [
    {
     "name": "stdout",
     "output_type": "stream",
     "text": [
      "z:\\learning documents\\python模块\n",
      "<class 'str'>\n"
     ]
    }
   ],
   "source": [
    "print(os.path.abspath(\".\"))\n",
    "print(type(os.getcwd()))"
   ]
  },
  {
   "cell_type": "code",
   "execution_count": 1,
   "metadata": {},
   "outputs": [],
   "source": [
    "## 生成目标目录\n",
    "dir_path = r\"C:\\Users\\Mark\\Documents\\datasets\\tt100K\\train\"\n",
    "\n",
    "if not os.path.exists(dir_path):\n",
    "    os.makedirs(dir_path)"
   ]
  }
 ],
 "metadata": {
  "kernelspec": {
   "display_name": "Python 3.10.8 64-bit",
   "language": "python",
   "name": "python3"
  },
  "language_info": {
   "codemirror_mode": {
    "name": "ipython",
    "version": 3
   },
   "file_extension": ".py",
   "mimetype": "text/x-python",
   "name": "python",
   "nbconvert_exporter": "python",
   "pygments_lexer": "ipython3",
   "version": "3.10.8"
  },
  "orig_nbformat": 4,
  "vscode": {
   "interpreter": {
    "hash": "bebf9730dc43cfbc35fb329a82a69476f49cde6de038a2bbfc26f12404ad85fb"
   }
  }
 },
 "nbformat": 4,
 "nbformat_minor": 2
}
