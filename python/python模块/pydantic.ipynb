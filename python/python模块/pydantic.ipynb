{
 "cells": [
  {
   "attachments": {},
   "cell_type": "markdown",
   "metadata": {},
   "source": [
    "# pydantic\n",
    "\n",
    "pydantic库是python中用于数据接口定义检查与设置管理的库。  \n",
    "\n",
    "数据类型检测"
   ]
  },
  {
   "cell_type": "code",
   "execution_count": 13,
   "metadata": {},
   "outputs": [],
   "source": [
    "from pydantic import BaseModel,EmailStr\n",
    "\n",
    "class User(BaseModel):\n",
    "    name: str\n",
    "    age: int\n",
    "    email: EmailStr"
   ]
  },
  {
   "cell_type": "code",
   "execution_count": 14,
   "metadata": {},
   "outputs": [],
   "source": [
    "user = User(name=\"Alice\", age=30, email=\"alice@example.com\")\n",
    "\"\"\"pydantic可以自动将str转换为int，如果可以的话\"\"\""
   ]
  },
  {
   "cell_type": "code",
   "execution_count": 15,
   "metadata": {},
   "outputs": [
    {
     "ename": "ValidationError",
     "evalue": "1 validation error for User\nemail\n  value is not a valid email address (type=value_error.email)",
     "output_type": "error",
     "traceback": [
      "\u001b[1;31m---------------------------------------------------------------------------\u001b[0m",
      "\u001b[1;31mValidationError\u001b[0m                           Traceback (most recent call last)",
      "Cell \u001b[1;32mIn[15], line 1\u001b[0m\n\u001b[1;32m----> 1\u001b[0m user \u001b[39m=\u001b[39m User(name\u001b[39m=\u001b[39;49m\u001b[39m\"\u001b[39;49m\u001b[39mAlice\u001b[39;49m\u001b[39m\"\u001b[39;49m, age\u001b[39m=\u001b[39;49m\u001b[39m\"\u001b[39;49m\u001b[39m34\u001b[39;49m\u001b[39m\"\u001b[39;49m, email\u001b[39m=\u001b[39;49m\u001b[39m\"\u001b[39;49m\u001b[39malice\u001b[39;49m\u001b[39m\"\u001b[39;49m)  \u001b[39m# 错误：年龄应该是int类型\u001b[39;00m\n",
      "File \u001b[1;32mc:\\Users\\mark\\AppData\\Local\\Programs\\Python\\Python310\\lib\\site-packages\\pydantic\\main.py:342\u001b[0m, in \u001b[0;36mpydantic.main.BaseModel.__init__\u001b[1;34m()\u001b[0m\n",
      "\u001b[1;31mValidationError\u001b[0m: 1 validation error for User\nemail\n  value is not a valid email address (type=value_error.email)"
     ]
    }
   ],
   "source": [
    "user = User(name=\"Alice\", age=\"34\", email=\"alice\")  # 错误：年龄应该是int类型"
   ]
  },
  {
   "attachments": {},
   "cell_type": "markdown",
   "metadata": {},
   "source": [
    "## pydantic validator\n",
    "可以通过内置的验证器来验证验证数据输入格式是否正确"
   ]
  },
  {
   "cell_type": "code",
   "execution_count": 17,
   "metadata": {},
   "outputs": [],
   "source": [
    "from pydantic import BaseModel, EmailStr, validator\n",
    "class User(BaseModel):\n",
    "    name:str\n",
    "    age:int\n",
    "    email:EmailStr\n",
    "\n",
    "    @validator(\"age\")\n",
    "    def check_age(cls, age):\n",
    "        if age < 18:\n",
    "            raise ValueError(\"用户年龄需要大于18岁\")\n",
    "        return age\n",
    "    \n",
    "\n"
   ]
  },
  {
   "cell_type": "code",
   "execution_count": 18,
   "metadata": {},
   "outputs": [
    {
     "ename": "ValidationError",
     "evalue": "1 validation error for User\nage\n  用户年龄需要大于18岁 (type=value_error)",
     "output_type": "error",
     "traceback": [
      "\u001b[1;31m---------------------------------------------------------------------------\u001b[0m",
      "\u001b[1;31mValidationError\u001b[0m                           Traceback (most recent call last)",
      "Cell \u001b[1;32mIn[18], line 1\u001b[0m\n\u001b[1;32m----> 1\u001b[0m user \u001b[39m=\u001b[39m User(name\u001b[39m=\u001b[39;49m\u001b[39m\"\u001b[39;49m\u001b[39mAlice\u001b[39;49m\u001b[39m\"\u001b[39;49m, age\u001b[39m=\u001b[39;49m\u001b[39m17\u001b[39;49m, email\u001b[39m=\u001b[39;49m\u001b[39m\"\u001b[39;49m\u001b[39malice@example.com\u001b[39;49m\u001b[39m\"\u001b[39;49m)  \u001b[39m# 错误：用户年龄必须大于18岁\u001b[39;00m\n",
      "File \u001b[1;32mc:\\Users\\mark\\AppData\\Local\\Programs\\Python\\Python310\\lib\\site-packages\\pydantic\\main.py:342\u001b[0m, in \u001b[0;36mpydantic.main.BaseModel.__init__\u001b[1;34m()\u001b[0m\n",
      "\u001b[1;31mValidationError\u001b[0m: 1 validation error for User\nage\n  用户年龄需要大于18岁 (type=value_error)"
     ]
    }
   ],
   "source": [
    "user = User(name=\"Alice\", age=17, email=\"alice@example.com\")  # 错误：用户年龄必须大于18岁"
   ]
  },
  {
   "attachments": {},
   "cell_type": "markdown",
   "metadata": {},
   "source": [
    "## Field对象\n",
    "\n",
    "field对象是pydantic中来定义字段的描述、默认值、取值范围等。"
   ]
  },
  {
   "cell_type": "code",
   "execution_count": 21,
   "metadata": {},
   "outputs": [],
   "source": [
    "from pydantic import BaseModel, Field\n",
    "\"\"\"不在Field范围内，会爆出异常\"\"\"\n",
    "class Product(BaseModel):\n",
    "    name: str\n",
    "    price: float = Field(description=\"商品价格\", gt=1, lt=1000)\n",
    "\n",
    "product = Product(name = \"Laptop\", price = 2)"
   ]
  },
  {
   "attachments": {},
   "cell_type": "markdown",
   "metadata": {},
   "source": [
    "### Field参数\n",
    "\n",
    "* default：定义字段的默认值。如果未提供该值，则默认为None。\n",
    "* alias：定义字段的别名。这在处理不符合Python变量命名规则的字段名时非常有用（例如，包含空格或连字符的字段名）。\n",
    "* title：定义字段的标题。这在生成文档时非常有用。\n",
    "* description：定义字段的描述信息。这在生成文档时非常有用。\n",
    "* min_length和max_length：针对字符串类型的字段定义最小和最大长度限制。\n",
    "* gt、ge、lt和le：针对数值类型的字段定义大于（gt）、大于等于（ge）、小于（lt）和小于等于（le）的限制。\n"
   ]
  },
  {
   "cell_type": "markdown",
   "metadata": {},
   "source": []
  }
 ],
 "metadata": {
  "kernelspec": {
   "display_name": "Python 3",
   "language": "python",
   "name": "python3"
  },
  "language_info": {
   "codemirror_mode": {
    "name": "ipython",
    "version": 3
   },
   "file_extension": ".py",
   "mimetype": "text/x-python",
   "name": "python",
   "nbconvert_exporter": "python",
   "pygments_lexer": "ipython3",
   "version": "3.10.8"
  },
  "orig_nbformat": 4
 },
 "nbformat": 4,
 "nbformat_minor": 2
}
