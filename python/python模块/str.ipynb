{
 "cells": [
  {
   "cell_type": "code",
   "execution_count": 1,
   "metadata": {},
   "outputs": [
    {
     "name": "stdout",
     "output_type": "stream",
     "text": [
      "存在\n"
     ]
    }
   ],
   "source": [
    "# 判断字符串中是否包含另一个字符串，判断一个字符是否在另一个字符串中\n",
    "def demo(str1 = \"b\", str2 = \"abc\"):\n",
    "    str1=\"b\"\n",
    "    str2=\"abc\"\n",
    "    if str1 in str2:\n",
    "        print(\"存在\")\n",
    "    else:\n",
    "        print(\"不存在\")    \n",
    "demo()"
   ]
  },
  {
   "cell_type": "code",
   "execution_count": null,
   "metadata": {},
   "outputs": [],
   "source": []
  },
  {
   "attachments": {},
   "cell_type": "markdown",
   "metadata": {},
   "source": [
    "|函数|例子|解释|\n",
    "|---|---|---|\n",
    "|str.join(str)|  ||\n",
    "|str.format()|\"网站名：{name}, 地址 {url}\".format(name=\"菜鸟教程\", url=\"www.runoob.com\")||\n",
    "||\"{1} {0} {1}\".format(\"hello\", \"world\")  # 设置指定位置|字符串格式化输出|"
   ]
  },
  {
   "cell_type": "code",
   "execution_count": 3,
   "metadata": {},
   "outputs": [
    {
     "name": "stdout",
     "output_type": "stream",
     "text": [
      "1\n",
      "-1\n"
     ]
    }
   ],
   "source": [
    "a = \"nmmnb\"\n",
    "# b = \"mm\"\n",
    "print(a.find(\"mm\")) # 返回字符位置\n",
    "print(a.find(\"gg\")) # 没有返回-1"
   ]
  }
 ],
 "metadata": {
  "kernelspec": {
   "display_name": "Python 3",
   "language": "python",
   "name": "python3"
  },
  "language_info": {
   "codemirror_mode": {
    "name": "ipython",
    "version": 3
   },
   "file_extension": ".py",
   "mimetype": "text/x-python",
   "name": "python",
   "nbconvert_exporter": "python",
   "pygments_lexer": "ipython3",
   "version": "3.10.8"
  },
  "orig_nbformat": 4,
  "vscode": {
   "interpreter": {
    "hash": "2457cb1fc7fe65b67a8bfa8297ae36ac15699474b7b28a44eb2505adebb15336"
   }
  }
 },
 "nbformat": 4,
 "nbformat_minor": 2
}
