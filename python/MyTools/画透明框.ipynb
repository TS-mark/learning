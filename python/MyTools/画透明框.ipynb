{
 "cells": [
  {
   "cell_type": "code",
   "execution_count": 8,
   "id": "980c1b0e",
   "metadata": {},
   "outputs": [],
   "source": [
    "# 画个透明框，xyxy，color\n",
    "# 将处理后的视频保存为output.avi文件\n",
    "import cv2  # OpenCV\n",
    "import numpy as np\n",
    "# import matplotlib.pyplot as plt\n",
    "\n",
    "def drawTransparentRectangle(file_path, save_path, x_min=1, y_min=1, x_max=100, y_max=100, color = (255,255,255), style = -1):\n",
    "    img = cv2.imread(file_path)\n",
    "    zeros = np.zeros((img.shape), dtype = np.uint8)\n",
    "    cv2.rectangle(zeros, (x_min,y_min), (x_max, y_max), color, style)\n",
    "    res = zeros*0.4 + img\n",
    "    print(type(res), res.shape)\n",
    "    res[res>255] = 255\n",
    "    cv2.imwrite(save_path, res)\n",
    "\n"
   ]
  },
  {
   "cell_type": "code",
   "execution_count": 9,
   "id": "c5564a09",
   "metadata": {},
   "outputs": [
    {
     "name": "stdout",
     "output_type": "stream",
     "text": [
      "<class 'numpy.ndarray'> (425, 640, 3)\n"
     ]
    }
   ],
   "source": [
    "drawTransparentRectangle(\"a.jpg\",\"b.jpg\")"
   ]
  },
  {
   "cell_type": "code",
   "execution_count": null,
   "id": "3cd02a81",
   "metadata": {},
   "outputs": [],
   "source": []
  }
 ],
 "metadata": {
  "kernelspec": {
   "display_name": "Python 3.10.8 64-bit",
   "language": "python",
   "name": "python3"
  },
  "language_info": {
   "codemirror_mode": {
    "name": "ipython",
    "version": 3
   },
   "file_extension": ".py",
   "mimetype": "text/x-python",
   "name": "python",
   "nbconvert_exporter": "python",
   "pygments_lexer": "ipython3",
   "version": "3.10.8"
  },
  "vscode": {
   "interpreter": {
    "hash": "bebf9730dc43cfbc35fb329a82a69476f49cde6de038a2bbfc26f12404ad85fb"
   }
  }
 },
 "nbformat": 4,
 "nbformat_minor": 5
}
