{
 "cells": [
  {
   "cell_type": "code",
   "execution_count": 1,
   "metadata": {},
   "outputs": [],
   "source": [
    "import cv2\n",
    "import glob"
   ]
  },
  {
   "cell_type": "code",
   "execution_count": 2,
   "metadata": {},
   "outputs": [
    {
     "data": {
      "text/plain": [
       "['Z:\\\\datasets/zhuanli\\\\3-1.jpg',\n",
       " 'Z:\\\\datasets/zhuanli\\\\3-2.jpg',\n",
       " 'Z:\\\\datasets/zhuanli\\\\3-3.jpg',\n",
       " 'Z:\\\\datasets/zhuanli\\\\3-4.jpg',\n",
       " 'Z:\\\\datasets/zhuanli\\\\3-5.jpg',\n",
       " 'Z:\\\\datasets/zhuanli\\\\3-6.jpg',\n",
       " 'Z:\\\\datasets/zhuanli\\\\3-7.jpg']"
      ]
     },
     "execution_count": 2,
     "metadata": {},
     "output_type": "execute_result"
    }
   ],
   "source": [
    "pic = r'Z:\\datasets/zhuanli/'\n",
    "pic_list = glob.glob(pic + '*.jpg')\n",
    "pic_list"
   ]
  },
  {
   "cell_type": "code",
   "execution_count": 3,
   "metadata": {},
   "outputs": [
    {
     "name": "stdout",
     "output_type": "stream",
     "text": [
      "(305, 411)\n",
      "(355, 260)\n",
      "(145, 623)\n",
      "(126, 604)\n",
      "(366, 802)\n",
      "(232, 749)\n",
      "(288, 930)\n"
     ]
    }
   ],
   "source": [
    "## /*这段代码可能不太适合中文路径，应该是openCV不支持*/\n",
    "\n",
    "for pic_path in pic_list:\n",
    "    imageGray2 = cv2.imread(pic_path, cv2.IMREAD_GRAYSCALE)\n",
    "    print(imageGray2.shape)\n",
    "    if pic_path.endswith(\".png\"):\n",
    "        save_path = pic_path.replace(\".png\", \"_gray.png\")\n",
    "        \n",
    "    if pic_path.endswith(\".jpg\"):\n",
    "        save_path = pic_path.replace(\".jpg\", \"_gray.jpg\")\n",
    "    cv2.imwrite(save_path, imageGray2)"
   ]
  },
  {
   "cell_type": "code",
   "execution_count": 5,
   "metadata": {},
   "outputs": [],
   "source": [
    "# pic_path = r\"Z:\\\\enmm\\\\交通标志示例.jpg\"\n",
    "# imageGray2 = cv2.imread(pic_path, cv2.IMREAD_GRAYSCALE)\n",
    "# print(imageGray2.shape)\n",
    "# if pic_path.endswith(\".png\"):\n",
    "#     save_path = pic_path.replace(\".png\", \"_gray.png\")\n",
    "    \n",
    "# if pic_path.endswith(\".jpg\"):\n",
    "#     save_path = pic_path.replace(\".jpg\", \"_gray.jpg\")\n",
    "# cv2.imwrite(save_path, imageGray2)\n"
   ]
  },
  {
   "cell_type": "code",
   "execution_count": null,
   "metadata": {},
   "outputs": [],
   "source": []
  },
  {
   "cell_type": "markdown",
   "metadata": {},
   "source": []
  }
 ],
 "metadata": {
  "kernelspec": {
   "display_name": "Python 3",
   "language": "python",
   "name": "python3"
  },
  "language_info": {
   "codemirror_mode": {
    "name": "ipython",
    "version": 3
   },
   "file_extension": ".py",
   "mimetype": "text/x-python",
   "name": "python",
   "nbconvert_exporter": "python",
   "pygments_lexer": "ipython3",
   "version": "3.10.8"
  },
  "orig_nbformat": 4,
  "vscode": {
   "interpreter": {
    "hash": "2457cb1fc7fe65b67a8bfa8297ae36ac15699474b7b28a44eb2505adebb15336"
   }
  }
 },
 "nbformat": 4,
 "nbformat_minor": 2
}
