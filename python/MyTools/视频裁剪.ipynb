{
 "cells": [
  {
   "cell_type": "code",
   "execution_count": 4,
   "id": "980c1b0e",
   "metadata": {},
   "outputs": [],
   "source": [
    "# 功能：对视频文件进行剪切。\n",
    "# 剪切指定长度的视频，选择要裁剪的视频，选择开始时间点和停止时间点即可。\n",
    "# 将处理后的视频保存为output.avi文件\n",
    "import cv2  # OpenCV\n",
    "\n",
    "\n",
    "def CropVideo(file_path, save_path = \"./cropvideo.mp4\", start_time = 0, stop_time = 2):\n",
    "    cap = cv2.VideoCapture(file_path)  # 打开视频文件\n",
    "    frames = cap.get(cv2.CAP_PROP_FRAME_COUNT)  # 获得视频文件的帧数\n",
    "    fps = cap.get(cv2.CAP_PROP_FPS)  # 获得视频文件的帧率\n",
    "    width = cap.get(cv2.CAP_PROP_FRAME_WIDTH)  # 获得视频文件的帧宽\n",
    "    height = cap.get(cv2.CAP_PROP_FRAME_HEIGHT)  # 获得视频文件的帧高\n",
    "    # 创建保存视频文件类对象\n",
    "    fourcc = cv2.VideoWriter_fourcc(*'XVID')\n",
    "    out = cv2.VideoWriter(save_path, fourcc, fps, (int(width), int(height)))\n",
    "    # 计算视频长度/s\n",
    "    video_length = frames / fps\n",
    "    if start_time > stop_time or stop_time > video_length:\n",
    "        print(f\"error,start time:{start_time} must less stop_\\\n",
    "              time:{stop_time} and video length:{video_length}\")\n",
    "        return None\n",
    "    # 设置帧读取的开始位置\n",
    "    cap.set(cv2.CAP_PROP_POS_FRAMES, start_time * fps)\n",
    "    pos = cap.get(cv2.CAP_PROP_POS_FRAMES)  # 获得帧位置\n",
    "    while (pos <= stop_time * fps):\n",
    "        ret, frame = cap.read()  # 捕获一帧图像\n",
    "        out.write(frame)  # 保存帧\n",
    "        pos = cap.get(cv2.CAP_PROP_POS_FRAMES)\n",
    "    cap.release()\n",
    "    out.release()"
   ]
  },
  {
   "cell_type": "code",
   "execution_count": 6,
   "id": "09e6a1ab",
   "metadata": {},
   "outputs": [],
   "source": [
    "if __name__ == \"__main__\":\n",
    "    filepath = r\"Z:\\datasets\\202333_35-28-23_0.mp4\"  # 需要裁剪的视频文件\n",
    "    savepath = r\"C:\\Users\\Mark\\Videos\\test.mp4\" #保存目录\n",
    "    CropVideo(filepath, savepath, 0, 120)"
   ]
  },
  {
   "cell_type": "code",
   "execution_count": null,
   "id": "dba0dfa4",
   "metadata": {},
   "outputs": [],
   "source": []
  }
 ],
 "metadata": {
  "kernelspec": {
   "display_name": "Python 3.10.8 64-bit",
   "language": "python",
   "name": "python3"
  },
  "language_info": {
   "codemirror_mode": {
    "name": "ipython",
    "version": 3
   },
   "file_extension": ".py",
   "mimetype": "text/x-python",
   "name": "python",
   "nbconvert_exporter": "python",
   "pygments_lexer": "ipython3",
   "version": "3.10.8"
  },
  "vscode": {
   "interpreter": {
    "hash": "bebf9730dc43cfbc35fb329a82a69476f49cde6de038a2bbfc26f12404ad85fb"
   }
  }
 },
 "nbformat": 4,
 "nbformat_minor": 5
}
