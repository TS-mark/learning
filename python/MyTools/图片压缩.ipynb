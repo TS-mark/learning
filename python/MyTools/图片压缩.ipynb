{
 "cells": [
  {
   "cell_type": "code",
   "execution_count": 1,
   "metadata": {},
   "outputs": [
    {
     "name": "stderr",
     "output_type": "stream",
     "text": [
      "C:\\Users\\mark\\AppData\\Local\\Temp\\ipykernel_11036\\3233002030.py:21: DeprecationWarning: ANTIALIAS is deprecated and will be removed in Pillow 10 (2023-07-01). Use Resampling.LANCZOS instead.\n",
      "  out = im.resize((x_1, y_1), Image.ANTIALIAS)  # 改变尺寸，保持图片高品质\n"
     ]
    }
   ],
   "source": [
    "'''\n",
    "实现图片压缩\n",
    "1.保持图片大小比例不变\n",
    "2.使用Image里面的resize进行\n",
    "\n",
    "'''\n",
    "\n",
    "from PIL import Image\n",
    "import os\n",
    "'''\n",
    "将图片文件保存为new_width大小\n",
    "'''\n",
    "def photo_compression(pho_path, save_path, new_width = 960, photo_type = \".jpg\"):\n",
    "    #获取文件夹里面的图片\n",
    "    path_list=[pho_path+\"\\\\\"+i for i in os.listdir(pho_path)]\n",
    "    # print(path_list)\n",
    "    #循环图片路径，依次对图片进行压缩\n",
    "    for path in path_list:\n",
    "        #将该目录下所有photo_type的文件进行转换\n",
    "        if path.endswith(photo_type):\n",
    "            im = Image.open(path)\n",
    "            (x, y) = im.size  # 读取图片尺寸（像素）\n",
    "            x_1 = new_width  # 定义缩小后的标准宽度\n",
    "            y_1 = int(y * x_1 / x)  # 计算缩小后的高度\n",
    "            out = im.resize((x_1, y_1), Image.ANTIALIAS)  # 改变尺寸，保持图片高品质\n",
    "            #判断图片的通道模式，若图片在RGBA模式下，需先将其转变为RGB模式\n",
    "            if out.mode=='RGBA':\n",
    "                #转化为rgb格式\n",
    "                out=out.convert('RGB')\n",
    "            #最后保存为jpg格式的图片，这里因为图片本身为jpg所以后缀不更改\n",
    "            out.save(save_path + '\\\\{}'.format(path.split(\"\\\\\")[-1]))\n",
    "    \n"
   ]
  }
 ],
 "metadata": {
  "kernelspec": {
   "display_name": "Python 3",
   "language": "python",
   "name": "python3"
  },
  "language_info": {
   "codemirror_mode": {
    "name": "ipython",
    "version": 3
   },
   "file_extension": ".py",
   "mimetype": "text/x-python",
   "name": "python",
   "nbconvert_exporter": "python",
   "pygments_lexer": "ipython3",
   "version": "3.10.8"
  },
  "orig_nbformat": 4,
  "vscode": {
   "interpreter": {
    "hash": "2457cb1fc7fe65b67a8bfa8297ae36ac15699474b7b28a44eb2505adebb15336"
   }
  }
 },
 "nbformat": 4,
 "nbformat_minor": 2
}
