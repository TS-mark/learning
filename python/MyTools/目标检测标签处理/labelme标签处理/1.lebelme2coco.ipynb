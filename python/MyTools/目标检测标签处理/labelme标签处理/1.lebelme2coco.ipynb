{
 "cells": [
  {
   "cell_type": "code",
   "execution_count": 2,
   "id": "f4424c05",
   "metadata": {},
   "outputs": [],
   "source": [
    "import os\n",
    "import json\n",
    "import pandas as pd\n",
    "# import shutil\n"
   ]
  },
  {
   "cell_type": "code",
   "execution_count": 3,
   "id": "94e143c4",
   "metadata": {},
   "outputs": [],
   "source": [
    "def labelme2coco(dir_path, o_path, label_column):\n",
    "    #  = []\n",
    "    with open(o_path, \"r\") as f2:\n",
    "        # print(type(f2.read()))\n",
    "        a = f2.read().replace(\"\\\\\",\"\\\\\\\\\")\n",
    "        \n",
    "        lz = json.loads(a)\n",
    "        objs = []\n",
    "        try:\n",
    "            height = lz[\"imageHeight\"]\n",
    "            width = lz[\"imageWidth\"]\n",
    "            for lb in lz[\"shapes\"]:\n",
    "                temp = []\n",
    "                if lb[\"label\"] not in label_column:\n",
    "                    print(\"error, label {} not in default label\".format(lb[\"label\"]))\n",
    "                    label_column.append(lb[\"label\"])\n",
    "                temp.append(str(label_column.index(lb[\"label\"]))) # 如果需要修改label，在这里修改一下\n",
    "                temp.append(\"%.6f\" % ((lb[\"points\"][0][0]+lb[\"points\"][1][0])/2/width))\n",
    "                temp.append(\"%.6f\" % ((lb[\"points\"][0][1]+lb[\"points\"][1][1])/2/height))\n",
    "                temp.append(\"%.6f\" % (abs(lb[\"points\"][1][0]-lb[\"points\"][0][0])/width))\n",
    "                temp.append(\"%.6f\" % (abs(lb[\"points\"][1][1]-lb[\"points\"][0][1])/height))\n",
    "                objs.append(\" \".join(temp))\n",
    "        except:\n",
    "            print(\"pic {} label not right!\".format(o_path))\n",
    "    \n",
    "    if objs:\n",
    "        with open(dir_path, \"w\") as f1:\n",
    "            # f1.write('\\n')\n",
    "            f1.write(\"\\n\".join(objs))\n",
    "    else:\n",
    "        print(\"label {} is null!\".format(o_path))\n"
   ]
  },
  {
   "cell_type": "code",
   "execution_count": 4,
   "id": "0777d576",
   "metadata": {},
   "outputs": [
    {
     "name": "stdout",
     "output_type": "stream",
     "text": [
      "pic Z:\\datasets\\TDA4TFL_技术平台部_20230925\\TDA4TFL_技术平台部_20230925\\1686261474317905922\\N-202333_35-47-33_2272_23_16578.json label not right!\n",
      "label Z:\\datasets\\TDA4TFL_技术平台部_20230925\\TDA4TFL_技术平台部_20230925\\1686261474317905922\\N-202333_35-47-33_2272_23_16578.json is null!\n",
      "pic Z:\\datasets\\TDA4TFL_技术平台部_20230925\\TDA4TFL_技术平台部_20230925\\1686261474317905922\\N-202333_35-47-33_2272_24_85290.json label not right!\n",
      "label Z:\\datasets\\TDA4TFL_技术平台部_20230925\\TDA4TFL_技术平台部_20230925\\1686261474317905922\\N-202333_35-47-33_2272_24_85290.json is null!\n",
      "pic Z:\\datasets\\TDA4TFL_技术平台部_20230925\\TDA4TFL_技术平台部_20230925\\1686261474317905922\\N-202333_35-47-33_2272_25_85594.json label not right!\n",
      "label Z:\\datasets\\TDA4TFL_技术平台部_20230925\\TDA4TFL_技术平台部_20230925\\1686261474317905922\\N-202333_35-47-33_2272_25_85594.json is null!\n",
      "pic Z:\\datasets\\TDA4TFL_技术平台部_20230925\\TDA4TFL_技术平台部_20230925\\1686261474317905922\\N-202333_35-47-33_2272_26_92971.json label not right!\n",
      "label Z:\\datasets\\TDA4TFL_技术平台部_20230925\\TDA4TFL_技术平台部_20230925\\1686261474317905922\\N-202333_35-47-33_2272_26_92971.json is null!\n",
      "pic Z:\\datasets\\TDA4TFL_技术平台部_20230925\\TDA4TFL_技术平台部_20230925\\1686261474317905922\\N-202333_35-47-33_2272_27_59734.json label not right!\n",
      "label Z:\\datasets\\TDA4TFL_技术平台部_20230925\\TDA4TFL_技术平台部_20230925\\1686261474317905922\\N-202333_35-47-33_2272_27_59734.json is null!\n"
     ]
    }
   ],
   "source": [
    "path = r\"Z:\\datasets\\TDA4TFL_技术平台部_20230925\\TDA4TFL_技术平台部_20230925\\1686261474317905922\"\n",
    "dir_path = r\"Z:\\datasets\\TDA4TFL_技术平台部_20230925\\TDA4TFL_技术平台部_20230925\\labels\"\n",
    "if not os.path.exists(dir_path):\n",
    "    # print(1)\n",
    "    os.makedirs(dir_path)\n",
    "filename = \"\"\n",
    "#读取文件列表\n",
    "file_list = os.listdir(path)\n",
    "\n",
    "\n",
    "label_index = []\n",
    "with open(r\"Z:\\datasets\\交通灯标签2.txt\",\"r\") as f:\n",
    "    for i in f.readlines(): \n",
    "        label_index.append(i.replace(\"\\n\",\"\"))\n",
    "for i in file_list:\n",
    "    if i.endswith(\".json\"):\n",
    "        dpath = os.path.join(dir_path, i.replace(\"json\", \"txt\"))\n",
    "        opath = os.path.join(path, i)\n",
    "        labelme2coco(dpath, opath, label_index)\n",
    "\n",
    "\n",
    "# li = pd.DataFrame(label_index)\n",
    "# label_path = os.path.join(dir_path, \"index.csv\")\n",
    "# li.to_csv(label_path,index = False)"
   ]
  },
  {
   "cell_type": "code",
   "execution_count": null,
   "id": "7daec994",
   "metadata": {},
   "outputs": [],
   "source": []
  }
 ],
 "metadata": {
  "kernelspec": {
   "display_name": "Python 3",
   "language": "python",
   "name": "python3"
  },
  "language_info": {
   "codemirror_mode": {
    "name": "ipython",
    "version": 3
   },
   "file_extension": ".py",
   "mimetype": "text/x-python",
   "name": "python",
   "nbconvert_exporter": "python",
   "pygments_lexer": "ipython3",
   "version": "3.10.8"
  },
  "vscode": {
   "interpreter": {
    "hash": "2457cb1fc7fe65b67a8bfa8297ae36ac15699474b7b28a44eb2505adebb15336"
   }
  }
 },
 "nbformat": 4,
 "nbformat_minor": 5
}
