{
 "cells": [
  {
   "cell_type": "code",
   "execution_count": 1,
   "metadata": {},
   "outputs": [],
   "source": [
    "# import shutil\n",
    "import os\n",
    "import pandas as pd"
   ]
  },
  {
   "cell_type": "code",
   "execution_count": 2,
   "metadata": {},
   "outputs": [],
   "source": [
    "static_path = r\"G:\\datasets\\classifier\\classifier\"\n",
    "label_path = r\"Z:\\datasets\\交通灯标签2.txt\"\n",
    "\n",
    "lb = pd.read_csv(label_path,header=None)\n",
    "lb.to_csv(label_path, index = True)"
   ]
  },
  {
   "cell_type": "code",
   "execution_count": 3,
   "metadata": {},
   "outputs": [
    {
     "data": {
      "text/plain": [
       "'GO'"
      ]
     },
     "execution_count": 3,
     "metadata": {},
     "output_type": "execute_result"
    }
   ],
   "source": [
    "lb.iloc[0,0]"
   ]
  },
  {
   "cell_type": "code",
   "execution_count": 4,
   "metadata": {},
   "outputs": [
    {
     "data": {
      "text/plain": [
       "'GO'"
      ]
     },
     "execution_count": 4,
     "metadata": {},
     "output_type": "execute_result"
    }
   ],
   "source": [
    "lb.iloc[int(0),0]"
   ]
  },
  {
   "cell_type": "code",
   "execution_count": 5,
   "metadata": {},
   "outputs": [
    {
     "ename": "FileNotFoundError",
     "evalue": "[WinError 3] 系统找不到指定的路径。: 'G:\\\\datasets\\\\classifier\\\\classifier\\\\0'",
     "output_type": "error",
     "traceback": [
      "\u001b[1;31m---------------------------------------------------------------------------\u001b[0m",
      "\u001b[1;31mFileNotFoundError\u001b[0m                         Traceback (most recent call last)",
      "Cell \u001b[1;32mIn[5], line 1\u001b[0m\n\u001b[1;32m----> 1\u001b[0m \u001b[39m\"\u001b[39m\u001b[39m{}\u001b[39;00m\u001b[39m,\u001b[39m\u001b[39m{}\u001b[39;00m\u001b[39m\\n\u001b[39;00m\u001b[39m\"\u001b[39m\u001b[39m.\u001b[39mformat(lb\u001b[39m.\u001b[39miloc[\u001b[39mint\u001b[39m(\u001b[39m0\u001b[39m),\u001b[39m0\u001b[39m],\u001b[39mlen\u001b[39m(os\u001b[39m.\u001b[39;49mlistdir(os\u001b[39m.\u001b[39;49mpath\u001b[39m.\u001b[39;49mjoin(static_path,\u001b[39m\"\u001b[39;49m\u001b[39m0\u001b[39;49m\u001b[39m\"\u001b[39;49m))))\n",
      "\u001b[1;31mFileNotFoundError\u001b[0m: [WinError 3] 系统找不到指定的路径。: 'G:\\\\datasets\\\\classifier\\\\classifier\\\\0'"
     ]
    }
   ],
   "source": [
    "\"{},{}\\n\".format(lb.iloc[int(0),0],len(os.listdir(os.path.join(static_path,\"0\"))))"
   ]
  },
  {
   "cell_type": "code",
   "execution_count": 6,
   "metadata": {},
   "outputs": [
    {
     "ename": "FileNotFoundError",
     "evalue": "[WinError 3] 系统找不到指定的路径。: 'G:\\\\datasets\\\\classifier\\\\classifier'",
     "output_type": "error",
     "traceback": [
      "\u001b[1;31m---------------------------------------------------------------------------\u001b[0m",
      "\u001b[1;31mFileNotFoundError\u001b[0m                         Traceback (most recent call last)",
      "Cell \u001b[1;32mIn[6], line 1\u001b[0m\n\u001b[1;32m----> 1\u001b[0m \u001b[39mdir\u001b[39m \u001b[39m=\u001b[39m os\u001b[39m.\u001b[39;49mlistdir(static_path)\n\u001b[0;32m      2\u001b[0m stat_result_path \u001b[39m=\u001b[39m \u001b[39mr\u001b[39m\u001b[39m\"\u001b[39m\u001b[39mG:\u001b[39m\u001b[39m\\\u001b[39m\u001b[39mdatasets\u001b[39m\u001b[39m\\\u001b[39m\u001b[39mclassifier\u001b[39m\u001b[39m\\\u001b[39m\u001b[39mstatic_res1.txt\u001b[39m\u001b[39m\"\u001b[39m\n\u001b[0;32m      3\u001b[0m \u001b[39mwith\u001b[39;00m \u001b[39mopen\u001b[39m(stat_result_path,\u001b[39m\"\u001b[39m\u001b[39mw\u001b[39m\u001b[39m\"\u001b[39m) \u001b[39mas\u001b[39;00m write_file:\n",
      "\u001b[1;31mFileNotFoundError\u001b[0m: [WinError 3] 系统找不到指定的路径。: 'G:\\\\datasets\\\\classifier\\\\classifier'"
     ]
    }
   ],
   "source": [
    "\n",
    "dir = os.listdir(static_path)\n",
    "stat_result_path = r\"G:\\datasets\\classifier\\static_res1.txt\"\n",
    "with open(stat_result_path,\"w\") as write_file:\n",
    "    for i in dir:\n",
    "        if (int(i)>=50):\n",
    "            continue\n",
    "        print(\"{},{},{}\\n\".format(i,lb.iloc[int(i),0],len(os.listdir(os.path.join(static_path,i)))))\n",
    "        write_file.write(\"{},{}\\n\".format(lb.iloc[int(i),0],len(os.listdir(os.path.join(static_path,i)))))\n",
    "        "
   ]
  },
  {
   "cell_type": "code",
   "execution_count": null,
   "metadata": {},
   "outputs": [],
   "source": []
  }
 ],
 "metadata": {
  "kernelspec": {
   "display_name": "Python 3",
   "language": "python",
   "name": "python3"
  },
  "language_info": {
   "codemirror_mode": {
    "name": "ipython",
    "version": 3
   },
   "file_extension": ".py",
   "mimetype": "text/x-python",
   "name": "python",
   "nbconvert_exporter": "python",
   "pygments_lexer": "ipython3",
   "version": "3.10.8"
  },
  "orig_nbformat": 4
 },
 "nbformat": 4,
 "nbformat_minor": 2
}
