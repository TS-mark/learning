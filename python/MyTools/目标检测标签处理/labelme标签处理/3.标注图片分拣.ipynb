{
 "cells": [
  {
   "cell_type": "code",
   "execution_count": 1,
   "metadata": {},
   "outputs": [],
   "source": [
    "import os\n",
    "import shutil"
   ]
  },
  {
   "attachments": {},
   "cell_type": "markdown",
   "metadata": {},
   "source": [
    "### 由于标出的图片存在标错的类别或者不合适的样本，则需要将这些图片和其json标签放到一个error_pic 文件夹里，其余图片放到YOLO数据集划分中"
   ]
  },
  {
   "cell_type": "code",
   "execution_count": 2,
   "metadata": {},
   "outputs": [],
   "source": [
    "err_path = \"g:\\\\datasets\\\\classifier\\\\error\"\n",
    "\n",
    "\n",
    "ori_path = r\"G:\\TDA4TFL_技术平台部近期数据\"\n",
    "tobetrained_path = r\"G:\\TDA4TFL_技术平台部近期数据\\toBeTrained\"\n",
    "if not os.path.exists(os.path.join(tobetrained_path,\"images\")):\n",
    "    os.makedirs(os.path.join(tobetrained_path,\"images\"))\n",
    "if not os.path.exists(os.path.join(tobetrained_path,\"labels\")):\n",
    "    os.makedirs(os.path.join(tobetrained_path,\"labels\"))\n",
    "# relabeled_pic_path = r\"g:\\datasets\\returned\"\n",
    "# if not os.path.exists(relabeled_pic_path):\n",
    "#     os.makedirs(relabeled_pic_path)"
   ]
  },
  {
   "attachments": {},
   "cell_type": "markdown",
   "metadata": {},
   "source": []
  },
  {
   "cell_type": "code",
   "execution_count": 9,
   "metadata": {},
   "outputs": [],
   "source": [
    "## 返工图片\n",
    "\n",
    "bad_pic = os.listdir(err_path)\n",
    "for pic in bad_pic:\n",
    "    pic_path = pic.split(\"__\")[0] + \".jpg\"\n",
    "    label_path = pic.split(\"__\")[0] + \".json\"\n",
    "    tmp_ori_pic = os.path.join(ori_path, \"images\" , pic_path)\n",
    "    tmp_ori_label = os.path.join(ori_path, \"labels_json\", label_path)\n",
    "    if os.path.exists(tmp_ori_pic):\n",
    "        shutil.move(tmp_ori_pic, os.path.join(relabeled_pic_path, pic_path))\n",
    "        shutil.move(tmp_ori_label, os.path.join(relabeled_pic_path, label_path))\n",
    "    else:\n",
    "        if not os.path.exists(os.path.join(relabeled_pic_path, pic_path)):\n",
    "            print(\"error, pic {} not found\".format(tmp_ori_pic))\n",
    "    \n",
    "# trained = os.listdir(ori_pic_path)"
   ]
  },
  {
   "cell_type": "code",
   "execution_count": 3,
   "metadata": {},
   "outputs": [],
   "source": [
    "## 训练图片\n",
    "'''\n",
    "运行了这段代码后，{ori_path}/images中剩下的图片为不含标签的图片，可以进行再次筛选，或者删除\n",
    "'''\n",
    "\n",
    "good_label = os.listdir(os.path.join(ori_path,\"labelsgg\"))\n",
    "for label in good_label:\n",
    "    # dir = os.path.join(tobetrained_path, \"labels\", label)\n",
    "    # ori = os.path.join(os.path.join(ori_path,\"labels\", label))\n",
    "    pic = label.replace(\".txt\",\".jpg\")\n",
    "    if os.path.exists(os.path.join(ori_path, \"images\", pic)):\n",
    "        shutil.move(os.path.join(ori_path, \"images\", pic), \n",
    "                    os.path.join(tobetrained_path, \"images\", pic), \n",
    "                    )\n",
    "        shutil.move(os.path.join(ori_path, \"labelsgg\", label), \n",
    "                    os.path.join(tobetrained_path, \"labels\", label), \n",
    "                    )\n",
    "    else:\n",
    "        print(\"image {} not found its label\".format(os.path.join(ori_path, \"images\", pic)))"
   ]
  },
  {
   "cell_type": "code",
   "execution_count": 26,
   "metadata": {},
   "outputs": [
    {
     "data": {
      "text/plain": [
       "True"
      ]
     },
     "execution_count": 26,
     "metadata": {},
     "output_type": "execute_result"
    }
   ],
   "source": [
    "# import os\n",
    "# a = os.path.join(r\"Z:\\datasets\",\"ori_video\",\"byd_camera_out_3/2022830_21-29-47_0.mp4\")\n",
    "# os.path.exists(a)"
   ]
  },
  {
   "cell_type": "code",
   "execution_count": 19,
   "metadata": {},
   "outputs": [
    {
     "data": {
      "text/plain": [
       "'Z:\\\\datasets\\\\ori_video\\\\byd_camera_out_3/2022830_21-29-47_0.mp4'"
      ]
     },
     "execution_count": 19,
     "metadata": {},
     "output_type": "execute_result"
    }
   ],
   "source": [
    "# a\n",
    "# a.split(\"/\")[-1]"
   ]
  },
  {
   "cell_type": "code",
   "execution_count": 15,
   "metadata": {},
   "outputs": [
    {
     "data": {
      "text/plain": [
       "'2022830_21-29-47_0.mp4'"
      ]
     },
     "execution_count": 15,
     "metadata": {},
     "output_type": "execute_result"
    }
   ],
   "source": []
  }
 ],
 "metadata": {
  "kernelspec": {
   "display_name": "Python 3",
   "language": "python",
   "name": "python3"
  },
  "language_info": {
   "codemirror_mode": {
    "name": "ipython",
    "version": 3
   },
   "file_extension": ".py",
   "mimetype": "text/x-python",
   "name": "python",
   "nbconvert_exporter": "python",
   "pygments_lexer": "ipython3",
   "version": "3.10.8"
  },
  "orig_nbformat": 4
 },
 "nbformat": 4,
 "nbformat_minor": 2
}
