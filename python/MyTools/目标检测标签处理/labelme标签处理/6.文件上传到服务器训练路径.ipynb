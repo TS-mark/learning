{
 "cells": [
  {
   "cell_type": "code",
   "execution_count": 1,
   "metadata": {},
   "outputs": [
    {
     "ename": "KeyboardInterrupt",
     "evalue": "",
     "output_type": "error",
     "traceback": [
      "\u001b[1;31m---------------------------------------------------------------------------\u001b[0m",
      "\u001b[1;31mKeyboardInterrupt\u001b[0m                         Traceback (most recent call last)",
      "Cell \u001b[1;32mIn[1], line 47\u001b[0m\n\u001b[0;32m     44\u001b[0m     sftp \u001b[39m=\u001b[39m client\u001b[39m.\u001b[39mopen_sftp()\n\u001b[0;32m     46\u001b[0m     \u001b[39m# 上传文件夹及其子文件夹中的文件到服务器\u001b[39;00m\n\u001b[1;32m---> 47\u001b[0m     upload_directory(sftp, local_directory, remote_directory)\n\u001b[0;32m     49\u001b[0m     \u001b[39mprint\u001b[39m(\u001b[39m'\u001b[39m\u001b[39m文件夹上传成功\u001b[39m\u001b[39m'\u001b[39m)\n\u001b[0;32m     51\u001b[0m \u001b[39mfinally\u001b[39;00m:\n\u001b[0;32m     52\u001b[0m     \u001b[39m# 关闭SFTP客户端和SSH客户端连接\u001b[39;00m\n",
      "Cell \u001b[1;32mIn[1], line 37\u001b[0m, in \u001b[0;36mupload_directory\u001b[1;34m(sftp, local_path, remote_path)\u001b[0m\n\u001b[0;32m     34\u001b[0m     sftp\u001b[39m.\u001b[39mput(local_file_path, remote_file_path)\n\u001b[0;32m     35\u001b[0m \u001b[39melif\u001b[39;00m os\u001b[39m.\u001b[39mpath\u001b[39m.\u001b[39misdir(local_file_path):\n\u001b[0;32m     36\u001b[0m     \u001b[39m# 递归上传子文件夹\u001b[39;00m\n\u001b[1;32m---> 37\u001b[0m     upload_directory(sftp, local_file_path, remote_file_path)\n",
      "Cell \u001b[1;32mIn[1], line 37\u001b[0m, in \u001b[0;36mupload_directory\u001b[1;34m(sftp, local_path, remote_path)\u001b[0m\n\u001b[0;32m     34\u001b[0m     sftp\u001b[39m.\u001b[39mput(local_file_path, remote_file_path)\n\u001b[0;32m     35\u001b[0m \u001b[39melif\u001b[39;00m os\u001b[39m.\u001b[39mpath\u001b[39m.\u001b[39misdir(local_file_path):\n\u001b[0;32m     36\u001b[0m     \u001b[39m# 递归上传子文件夹\u001b[39;00m\n\u001b[1;32m---> 37\u001b[0m     upload_directory(sftp, local_file_path, remote_file_path)\n",
      "Cell \u001b[1;32mIn[1], line 34\u001b[0m, in \u001b[0;36mupload_directory\u001b[1;34m(sftp, local_path, remote_path)\u001b[0m\n\u001b[0;32m     31\u001b[0m remote_file_path \u001b[39m=\u001b[39m remote_file_path\u001b[39m.\u001b[39mreplace(\u001b[39m\"\u001b[39m\u001b[39m\\\\\u001b[39;00m\u001b[39m\"\u001b[39m,\u001b[39m\"\u001b[39m\u001b[39m/\u001b[39m\u001b[39m\"\u001b[39m)\n\u001b[0;32m     32\u001b[0m \u001b[39mif\u001b[39;00m os\u001b[39m.\u001b[39mpath\u001b[39m.\u001b[39misfile(local_file_path):\n\u001b[0;32m     33\u001b[0m     \u001b[39m# 上传文件\u001b[39;00m\n\u001b[1;32m---> 34\u001b[0m     sftp\u001b[39m.\u001b[39;49mput(local_file_path, remote_file_path)\n\u001b[0;32m     35\u001b[0m \u001b[39melif\u001b[39;00m os\u001b[39m.\u001b[39mpath\u001b[39m.\u001b[39misdir(local_file_path):\n\u001b[0;32m     36\u001b[0m     \u001b[39m# 递归上传子文件夹\u001b[39;00m\n\u001b[0;32m     37\u001b[0m     upload_directory(sftp, local_file_path, remote_file_path)\n",
      "File \u001b[1;32mc:\\Users\\mark\\AppData\\Local\\Programs\\Python\\Python310\\lib\\site-packages\\paramiko\\sftp_client.py:759\u001b[0m, in \u001b[0;36mSFTPClient.put\u001b[1;34m(self, localpath, remotepath, callback, confirm)\u001b[0m\n\u001b[0;32m    757\u001b[0m file_size \u001b[39m=\u001b[39m os\u001b[39m.\u001b[39mstat(localpath)\u001b[39m.\u001b[39mst_size\n\u001b[0;32m    758\u001b[0m \u001b[39mwith\u001b[39;00m \u001b[39mopen\u001b[39m(localpath, \u001b[39m\"\u001b[39m\u001b[39mrb\u001b[39m\u001b[39m\"\u001b[39m) \u001b[39mas\u001b[39;00m fl:\n\u001b[1;32m--> 759\u001b[0m     \u001b[39mreturn\u001b[39;00m \u001b[39mself\u001b[39;49m\u001b[39m.\u001b[39;49mputfo(fl, remotepath, file_size, callback, confirm)\n",
      "File \u001b[1;32mc:\\Users\\mark\\AppData\\Local\\Programs\\Python\\Python310\\lib\\site-packages\\paramiko\\sftp_client.py:714\u001b[0m, in \u001b[0;36mSFTPClient.putfo\u001b[1;34m(self, fl, remotepath, file_size, callback, confirm)\u001b[0m\n\u001b[0;32m    687\u001b[0m \u001b[39mdef\u001b[39;00m \u001b[39mputfo\u001b[39m(\u001b[39mself\u001b[39m, fl, remotepath, file_size\u001b[39m=\u001b[39m\u001b[39m0\u001b[39m, callback\u001b[39m=\u001b[39m\u001b[39mNone\u001b[39;00m, confirm\u001b[39m=\u001b[39m\u001b[39mTrue\u001b[39;00m):\n\u001b[0;32m    688\u001b[0m     \u001b[39m\"\"\"\u001b[39;00m\n\u001b[0;32m    689\u001b[0m \u001b[39m    Copy the contents of an open file object (``fl``) to the SFTP server as\u001b[39;00m\n\u001b[0;32m    690\u001b[0m \u001b[39m    ``remotepath``. Any exception raised by operations will be passed\u001b[39;00m\n\u001b[1;32m   (...)\u001b[0m\n\u001b[0;32m    712\u001b[0m \u001b[39m    .. versionadded:: 1.10\u001b[39;00m\n\u001b[0;32m    713\u001b[0m \u001b[39m    \"\"\"\u001b[39;00m\n\u001b[1;32m--> 714\u001b[0m     \u001b[39mwith\u001b[39;00m \u001b[39mself\u001b[39m\u001b[39m.\u001b[39mfile(remotepath, \u001b[39m\"\u001b[39m\u001b[39mwb\u001b[39m\u001b[39m\"\u001b[39m) \u001b[39mas\u001b[39;00m fr:\n\u001b[0;32m    715\u001b[0m         fr\u001b[39m.\u001b[39mset_pipelined(\u001b[39mTrue\u001b[39;00m)\n\u001b[0;32m    716\u001b[0m         size \u001b[39m=\u001b[39m \u001b[39mself\u001b[39m\u001b[39m.\u001b[39m_transfer_with_callback(\n\u001b[0;32m    717\u001b[0m             reader\u001b[39m=\u001b[39mfl, writer\u001b[39m=\u001b[39mfr, file_size\u001b[39m=\u001b[39mfile_size, callback\u001b[39m=\u001b[39mcallback\n\u001b[0;32m    718\u001b[0m         )\n",
      "File \u001b[1;32mc:\\Users\\mark\\AppData\\Local\\Programs\\Python\\Python310\\lib\\site-packages\\paramiko\\util.py:290\u001b[0m, in \u001b[0;36mClosingContextManager.__exit__\u001b[1;34m(self, type, value, traceback)\u001b[0m\n\u001b[0;32m    289\u001b[0m \u001b[39mdef\u001b[39;00m \u001b[39m__exit__\u001b[39m(\u001b[39mself\u001b[39m, \u001b[39mtype\u001b[39m, value, traceback):\n\u001b[1;32m--> 290\u001b[0m     \u001b[39mself\u001b[39;49m\u001b[39m.\u001b[39;49mclose()\n",
      "File \u001b[1;32mc:\\Users\\mark\\AppData\\Local\\Programs\\Python\\Python310\\lib\\site-packages\\paramiko\\sftp_file.py:82\u001b[0m, in \u001b[0;36mSFTPFile.close\u001b[1;34m(self)\u001b[0m\n\u001b[0;32m     78\u001b[0m \u001b[39mdef\u001b[39;00m \u001b[39mclose\u001b[39m(\u001b[39mself\u001b[39m):\n\u001b[0;32m     79\u001b[0m     \u001b[39m\"\"\"\u001b[39;00m\n\u001b[0;32m     80\u001b[0m \u001b[39m    Close the file.\u001b[39;00m\n\u001b[0;32m     81\u001b[0m \u001b[39m    \"\"\"\u001b[39;00m\n\u001b[1;32m---> 82\u001b[0m     \u001b[39mself\u001b[39;49m\u001b[39m.\u001b[39;49m_close(async_\u001b[39m=\u001b[39;49m\u001b[39mFalse\u001b[39;49;00m)\n",
      "File \u001b[1;32mc:\\Users\\mark\\AppData\\Local\\Programs\\Python\\Python310\\lib\\site-packages\\paramiko\\sftp_file.py:104\u001b[0m, in \u001b[0;36mSFTPFile._close\u001b[1;34m(self, async_)\u001b[0m\n\u001b[0;32m    102\u001b[0m         \u001b[39mself\u001b[39m\u001b[39m.\u001b[39msftp\u001b[39m.\u001b[39m_async_request(\u001b[39mtype\u001b[39m(\u001b[39mNone\u001b[39;00m), CMD_CLOSE, \u001b[39mself\u001b[39m\u001b[39m.\u001b[39mhandle)\n\u001b[0;32m    103\u001b[0m     \u001b[39melse\u001b[39;00m:\n\u001b[1;32m--> 104\u001b[0m         \u001b[39mself\u001b[39;49m\u001b[39m.\u001b[39;49msftp\u001b[39m.\u001b[39;49m_request(CMD_CLOSE, \u001b[39mself\u001b[39;49m\u001b[39m.\u001b[39;49mhandle)\n\u001b[0;32m    105\u001b[0m \u001b[39mexcept\u001b[39;00m \u001b[39mEOFError\u001b[39;00m:\n\u001b[0;32m    106\u001b[0m     \u001b[39m# may have outlived the Transport connection\u001b[39;00m\n\u001b[0;32m    107\u001b[0m     \u001b[39mpass\u001b[39;00m\n",
      "File \u001b[1;32mc:\\Users\\mark\\AppData\\Local\\Programs\\Python\\Python310\\lib\\site-packages\\paramiko\\sftp_client.py:822\u001b[0m, in \u001b[0;36mSFTPClient._request\u001b[1;34m(self, t, *args)\u001b[0m\n\u001b[0;32m    820\u001b[0m \u001b[39mdef\u001b[39;00m \u001b[39m_request\u001b[39m(\u001b[39mself\u001b[39m, t, \u001b[39m*\u001b[39margs):\n\u001b[0;32m    821\u001b[0m     num \u001b[39m=\u001b[39m \u001b[39mself\u001b[39m\u001b[39m.\u001b[39m_async_request(\u001b[39mtype\u001b[39m(\u001b[39mNone\u001b[39;00m), t, \u001b[39m*\u001b[39margs)\n\u001b[1;32m--> 822\u001b[0m     \u001b[39mreturn\u001b[39;00m \u001b[39mself\u001b[39;49m\u001b[39m.\u001b[39;49m_read_response(num)\n",
      "File \u001b[1;32mc:\\Users\\mark\\AppData\\Local\\Programs\\Python\\Python310\\lib\\site-packages\\paramiko\\sftp_client.py:852\u001b[0m, in \u001b[0;36mSFTPClient._read_response\u001b[1;34m(self, waitfor)\u001b[0m\n\u001b[0;32m    850\u001b[0m \u001b[39mwhile\u001b[39;00m \u001b[39mTrue\u001b[39;00m:\n\u001b[0;32m    851\u001b[0m     \u001b[39mtry\u001b[39;00m:\n\u001b[1;32m--> 852\u001b[0m         t, data \u001b[39m=\u001b[39m \u001b[39mself\u001b[39;49m\u001b[39m.\u001b[39;49m_read_packet()\n\u001b[0;32m    853\u001b[0m     \u001b[39mexcept\u001b[39;00m \u001b[39mEOFError\u001b[39;00m \u001b[39mas\u001b[39;00m e:\n\u001b[0;32m    854\u001b[0m         \u001b[39mraise\u001b[39;00m SSHException(\u001b[39m\"\u001b[39m\u001b[39mServer connection dropped: \u001b[39m\u001b[39m{}\u001b[39;00m\u001b[39m\"\u001b[39m\u001b[39m.\u001b[39mformat(e))\n",
      "File \u001b[1;32mc:\\Users\\mark\\AppData\\Local\\Programs\\Python\\Python310\\lib\\site-packages\\paramiko\\sftp.py:212\u001b[0m, in \u001b[0;36mBaseSFTP._read_packet\u001b[1;34m(self)\u001b[0m\n\u001b[0;32m    211\u001b[0m \u001b[39mdef\u001b[39;00m \u001b[39m_read_packet\u001b[39m(\u001b[39mself\u001b[39m):\n\u001b[1;32m--> 212\u001b[0m     x \u001b[39m=\u001b[39m \u001b[39mself\u001b[39;49m\u001b[39m.\u001b[39;49m_read_all(\u001b[39m4\u001b[39;49m)\n\u001b[0;32m    213\u001b[0m     \u001b[39m# most sftp servers won't accept packets larger than about 32k, so\u001b[39;00m\n\u001b[0;32m    214\u001b[0m     \u001b[39m# anything with the high byte set (> 16MB) is just garbage.\u001b[39;00m\n\u001b[0;32m    215\u001b[0m     \u001b[39mif\u001b[39;00m byte_ord(x[\u001b[39m0\u001b[39m]):\n",
      "File \u001b[1;32mc:\\Users\\mark\\AppData\\Local\\Programs\\Python\\Python310\\lib\\site-packages\\paramiko\\sftp.py:196\u001b[0m, in \u001b[0;36mBaseSFTP._read_all\u001b[1;34m(self, n)\u001b[0m\n\u001b[0;32m    194\u001b[0m             \u001b[39mbreak\u001b[39;00m\n\u001b[0;32m    195\u001b[0m \u001b[39melse\u001b[39;00m:\n\u001b[1;32m--> 196\u001b[0m     x \u001b[39m=\u001b[39m \u001b[39mself\u001b[39;49m\u001b[39m.\u001b[39;49msock\u001b[39m.\u001b[39;49mrecv(n)\n\u001b[0;32m    198\u001b[0m \u001b[39mif\u001b[39;00m \u001b[39mlen\u001b[39m(x) \u001b[39m==\u001b[39m \u001b[39m0\u001b[39m:\n\u001b[0;32m    199\u001b[0m     \u001b[39mraise\u001b[39;00m \u001b[39mEOFError\u001b[39;00m()\n",
      "File \u001b[1;32mc:\\Users\\mark\\AppData\\Local\\Programs\\Python\\Python310\\lib\\site-packages\\paramiko\\channel.py:697\u001b[0m, in \u001b[0;36mChannel.recv\u001b[1;34m(self, nbytes)\u001b[0m\n\u001b[0;32m    684\u001b[0m \u001b[39m\"\"\"\u001b[39;00m\n\u001b[0;32m    685\u001b[0m \u001b[39mReceive data from the channel.  The return value is a string\u001b[39;00m\n\u001b[0;32m    686\u001b[0m \u001b[39mrepresenting the data received.  The maximum amount of data to be\u001b[39;00m\n\u001b[1;32m   (...)\u001b[0m\n\u001b[0;32m    694\u001b[0m \u001b[39m    if no data is ready before the timeout set by `settimeout`.\u001b[39;00m\n\u001b[0;32m    695\u001b[0m \u001b[39m\"\"\"\u001b[39;00m\n\u001b[0;32m    696\u001b[0m \u001b[39mtry\u001b[39;00m:\n\u001b[1;32m--> 697\u001b[0m     out \u001b[39m=\u001b[39m \u001b[39mself\u001b[39;49m\u001b[39m.\u001b[39;49min_buffer\u001b[39m.\u001b[39;49mread(nbytes, \u001b[39mself\u001b[39;49m\u001b[39m.\u001b[39;49mtimeout)\n\u001b[0;32m    698\u001b[0m \u001b[39mexcept\u001b[39;00m PipeTimeout:\n\u001b[0;32m    699\u001b[0m     \u001b[39mraise\u001b[39;00m socket\u001b[39m.\u001b[39mtimeout()\n",
      "File \u001b[1;32mc:\\Users\\mark\\AppData\\Local\\Programs\\Python\\Python310\\lib\\site-packages\\paramiko\\buffered_pipe.py:150\u001b[0m, in \u001b[0;36mBufferedPipe.read\u001b[1;34m(self, nbytes, timeout)\u001b[0m\n\u001b[0;32m    148\u001b[0m \u001b[39mwhile\u001b[39;00m (\u001b[39mlen\u001b[39m(\u001b[39mself\u001b[39m\u001b[39m.\u001b[39m_buffer) \u001b[39m==\u001b[39m \u001b[39m0\u001b[39m) \u001b[39mand\u001b[39;00m \u001b[39mnot\u001b[39;00m \u001b[39mself\u001b[39m\u001b[39m.\u001b[39m_closed:\n\u001b[0;32m    149\u001b[0m     then \u001b[39m=\u001b[39m time\u001b[39m.\u001b[39mtime()\n\u001b[1;32m--> 150\u001b[0m     \u001b[39mself\u001b[39;49m\u001b[39m.\u001b[39;49m_cv\u001b[39m.\u001b[39;49mwait(timeout)\n\u001b[0;32m    151\u001b[0m     \u001b[39mif\u001b[39;00m timeout \u001b[39mis\u001b[39;00m \u001b[39mnot\u001b[39;00m \u001b[39mNone\u001b[39;00m:\n\u001b[0;32m    152\u001b[0m         timeout \u001b[39m-\u001b[39m\u001b[39m=\u001b[39m time\u001b[39m.\u001b[39mtime() \u001b[39m-\u001b[39m then\n",
      "File \u001b[1;32mc:\\Users\\mark\\AppData\\Local\\Programs\\Python\\Python310\\lib\\threading.py:320\u001b[0m, in \u001b[0;36mCondition.wait\u001b[1;34m(self, timeout)\u001b[0m\n\u001b[0;32m    318\u001b[0m \u001b[39mtry\u001b[39;00m:    \u001b[39m# restore state no matter what (e.g., KeyboardInterrupt)\u001b[39;00m\n\u001b[0;32m    319\u001b[0m     \u001b[39mif\u001b[39;00m timeout \u001b[39mis\u001b[39;00m \u001b[39mNone\u001b[39;00m:\n\u001b[1;32m--> 320\u001b[0m         waiter\u001b[39m.\u001b[39;49macquire()\n\u001b[0;32m    321\u001b[0m         gotit \u001b[39m=\u001b[39m \u001b[39mTrue\u001b[39;00m\n\u001b[0;32m    322\u001b[0m     \u001b[39melse\u001b[39;00m:\n",
      "\u001b[1;31mKeyboardInterrupt\u001b[0m: "
     ]
    }
   ],
   "source": [
    "# 将文件夹上传到服务器中\n",
    "import paramiko\n",
    "import os\n",
    "\n",
    "host = '10.8.5.43'\n",
    "port = 4438\n",
    "username = 'root'\n",
    "password = '1'\n",
    "local_directory = 'g:/TLD_train7'\n",
    "remote_directory = '/home/markzhang/datasets/TLD_train7'\n",
    "\n",
    "# 创建SSH客户端对象\n",
    "client = paramiko.SSHClient()\n",
    "client.set_missing_host_key_policy(paramiko.AutoAddPolicy())\n",
    "\n",
    "def upload_directory(sftp, local_path, remote_path):\n",
    "    \"\"\"\n",
    "    递归上传文件夹及其子文件夹中的文件到服务器\n",
    "    \"\"\"\n",
    "    # 创建远程目录\n",
    "    try:\n",
    "        sftp.mkdir(remote_path)\n",
    "    except:\n",
    "        pass\n",
    "\n",
    "    # 遍历本地目录\n",
    "    for file_name in os.listdir(local_path):\n",
    "        local_file_path = os.path.join(local_path, file_name)\n",
    "        remote_file_path = os.path.join(remote_path, file_name)\n",
    "        local_file_path = local_file_path.replace(\"\\\\\",\"/\")\n",
    "        remote_file_path = remote_file_path.replace(\"\\\\\",\"/\")\n",
    "        if os.path.isfile(local_file_path):\n",
    "            # 上传文件\n",
    "            sftp.put(local_file_path, remote_file_path)\n",
    "        elif os.path.isdir(local_file_path):\n",
    "            # 递归上传子文件夹\n",
    "            upload_directory(sftp, local_file_path, remote_file_path)\n",
    "\n",
    "try:\n",
    "    # 连接服务器\n",
    "    client.connect(hostname=host, port=port, username=username, password=password)\n",
    "\n",
    "    # 创建SFTP客户端对象\n",
    "    sftp = client.open_sftp()\n",
    "\n",
    "    # 上传文件夹及其子文件夹中的文件到服务器\n",
    "    upload_directory(sftp, local_directory, remote_directory)\n",
    "\n",
    "    print('文件夹上传成功')\n",
    "\n",
    "finally:\n",
    "    # 关闭SFTP客户端和SSH客户端连接\n",
    "    sftp.close()\n",
    "    client.close()\n"
   ]
  },
  {
   "cell_type": "code",
   "execution_count": 14,
   "metadata": {},
   "outputs": [
    {
     "data": {
      "text/plain": [
       "'\\\\dasfsa'"
      ]
     },
     "execution_count": 14,
     "metadata": {},
     "output_type": "execute_result"
    }
   ],
   "source": [
    "a = \"\\\\dasfsa\"\n",
    "a.replace(\"\\\\\",\"/\")\n",
    "a"
   ]
  },
  {
   "cell_type": "code",
   "execution_count": 2,
   "metadata": {},
   "outputs": [
    {
     "name": "stdout",
     "output_type": "stream",
     "text": [
      "文件上传成功\n"
     ]
    }
   ],
   "source": [
    "# 代码功能：上传文件到服务器\n",
    "import paramiko\n",
    "\n",
    "host = '10.8.5.41'\n",
    "port = 4438\n",
    "username = 'root'\n",
    "password = '1'\n",
    "local_file = 'g:/datasets/TLD_train3.zip'\n",
    "remote_directory = '/home/markzhang/datasets/TLD_train3.zip'\n",
    "\n",
    "# 创建SSH客户端对象\n",
    "client = paramiko.SSHClient()\n",
    "client.set_missing_host_key_policy(paramiko.AutoAddPolicy())\n",
    "\n",
    "try:\n",
    "    # 连接服务器\n",
    "    client.connect(hostname=host, port=port, username=username, password=password)\n",
    "\n",
    "    # 创建SFTP客户端对象\n",
    "    sftp = client.open_sftp()\n",
    "\n",
    "    # 将本地文件上传到服务器\n",
    "    sftp.put(local_file, remote_directory)\n",
    "\n",
    "    print('文件上传成功')\n",
    "\n",
    "finally:\n",
    "    # 关闭SFTP客户端和SSH客户端连接\n",
    "    sftp.close()\n",
    "    client.close()"
   ]
  }
 ],
 "metadata": {
  "kernelspec": {
   "display_name": "Python 3",
   "language": "python",
   "name": "python3"
  },
  "language_info": {
   "codemirror_mode": {
    "name": "ipython",
    "version": 3
   },
   "file_extension": ".py",
   "mimetype": "text/x-python",
   "name": "python",
   "nbconvert_exporter": "python",
   "pygments_lexer": "ipython3",
   "version": "3.10.8"
  },
  "orig_nbformat": 4
 },
 "nbformat": 4,
 "nbformat_minor": 2
}
