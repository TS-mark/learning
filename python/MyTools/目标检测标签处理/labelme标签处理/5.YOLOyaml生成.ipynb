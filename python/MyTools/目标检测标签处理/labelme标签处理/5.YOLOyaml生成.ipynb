{
 "cells": [
  {
   "cell_type": "markdown",
   "metadata": {},
   "source": []
  },
  {
   "cell_type": "code",
   "execution_count": null,
   "metadata": {},
   "outputs": [],
   "source": []
  },
  {
   "cell_type": "code",
   "execution_count": null,
   "metadata": {},
   "outputs": [],
   "source": []
  },
  {
   "cell_type": "code",
   "execution_count": 1,
   "metadata": {},
   "outputs": [],
   "source": [
    "import os\n",
    "import pandas as pd\n",
    "\n",
    "\"\"\"\n",
    "生成数据集yaml文件中的train、test、val的txt文件以及yaml文件\n",
    "\n",
    "需要保证的数据集格式：\n",
    "如果不是的话就修改下代码\n",
    "\n",
    "dataset_path 里应该是如下格式：\n",
    "-labels\n",
    "--train\n",
    "--test\n",
    "-images\n",
    "--train\n",
    "--test\n",
    "\"\"\"\n",
    "def YOLOyamlMaker(dataset_path, train_path, label_name, yaml_name = \"default.yaml\"):\n",
    "    pic_list = os.listdir(os.path.join(dataset_path,\"./images/train\"))\n",
    "    with open(os.path.join(dataset_path, \"train.txt\"), \"w\") as f:\n",
    "        for pl in pic_list:\n",
    "            zd = train_path + \"/images/train/\" + pl\n",
    "            f.write(zd+\"\\n\")\n",
    "    pic_list = os.listdir(os.path.join(dataset_path,\"./images/test\"))\n",
    "    with open(os.path.join(dataset_path, \"test.txt\"), \"w\") as f:\n",
    "        for pl in pic_list:\n",
    "            zd = train_path + \"/images/test/\" + pl\n",
    "            f.write(zd+\"\\n\")\n",
    "    \n",
    "    if os.path.exists(os.path.join(dataset_path,\"./images/val\")):\n",
    "        pic_list = os.listdir(os.path.join(dataset_path,\"./images/val\"))\n",
    "        with open(os.path.join(dataset_path, \"val.txt\"), \"w\") as f:\n",
    "            for pl in pic_list:\n",
    "                zd = train_path + \"/images/val/\" + pl\n",
    "                f.write(zd+\"\\n\")\n",
    "\n",
    "    labels = pd.read_csv(label_name, header=None)\n",
    "    l = list(labels[0])\n",
    "\n",
    "    with open(os.path.join(dataset_path,yaml_name),\"w\") as f:\n",
    "        f.write(\"# train and val data as 1) directory: path/images/, 2) file: path/images.txt, or 3) list: [path1/images/, path2/images/]\\n\")\n",
    "        f.write(\"train: {}/train.txt\\n\".format(train_path))\n",
    "        f.write(\"test: {}/test.txt\\n\".format(train_path))\n",
    "        f.write(\"val: {}/test.txt\\n\\n\".format(train_path))\n",
    "        f.write(\"# number of classes\\n\")\n",
    "        f.write(\"nc: {}\\n\".format(str(len(l))))\n",
    "        f.write(\"\\n# class names\\n\")\n",
    "        f.write(\"names: {}\\n\".format(str(l)))\n",
    "# test: ../datasets/DualCam/train.txt\n",
    "# val: ../datasets/DualCam/val.txt"
   ]
  },
  {
   "cell_type": "code",
   "execution_count": null,
   "metadata": {},
   "outputs": [],
   "source": []
  },
  {
   "cell_type": "code",
   "execution_count": 2,
   "metadata": {},
   "outputs": [],
   "source": [
    "# datatype = [\"train\", \"test\"]\n",
    "real_path = \"G:/TLD_train6_new\"\n",
    "train_path = \"../datasets/TLD_train6_new\"\n",
    "label_name = r\"z:\\datasets\\交通灯标签2.txt\"\n",
    "yaml_name = \"TLD_train.yaml\"\n",
    "YOLOyamlMaker(real_path, train_path, label_name, yaml_name)\n",
    "\n",
    "\n",
    "\n",
    "# for i in range(100):\n"
   ]
  },
  {
   "cell_type": "code",
   "execution_count": 5,
   "metadata": {},
   "outputs": [],
   "source": [
    "# label_name = r\"z:\\datasets\\交通灯标签2.txt\"\n",
    "# pd.read_csv(label_name, header = None)"
   ]
  },
  {
   "cell_type": "code",
   "execution_count": 6,
   "metadata": {},
   "outputs": [
    {
     "data": {
      "text/plain": [
       "pandas.core.frame.DataFrame"
      ]
     },
     "execution_count": 6,
     "metadata": {},
     "output_type": "execute_result"
    }
   ],
   "source": []
  },
  {
   "cell_type": "code",
   "execution_count": 9,
   "metadata": {},
   "outputs": [
    {
     "data": {
      "text/plain": [
       "\"['GO', 'GO9', 'G<', 'G<9', 'G>', 'G>9', 'G^', 'G^9', 'RO', 'RO9', 'R<', 'R<9', 'R>', 'R>9', 'R^', 'R^9', 'YO', 'YO9', 'Y<', 'Y<9', 'Y>', 'Y>9', 'Y^', 'Y^9', 'B', 'R', 'G', 'Y', '9', 'Rpedestrian', 'Gpedestrian', 'Ypedestrian', 'Rbicycle', 'Gbicycle', 'Ybicycle', 'pass', 'passx', 'pass<', 'pass>', 'GA', 'RA', 'YA', 'R^<', 'G^<', 'R^>', 'G^>', 'G<A', 'R<A']\""
      ]
     },
     "execution_count": 9,
     "metadata": {},
     "output_type": "execute_result"
    }
   ],
   "source": [
    "\n",
    "str(l)"
   ]
  }
 ],
 "metadata": {
  "kernelspec": {
   "display_name": "Python 3",
   "language": "python",
   "name": "python3"
  },
  "language_info": {
   "codemirror_mode": {
    "name": "ipython",
    "version": 3
   },
   "file_extension": ".py",
   "mimetype": "text/x-python",
   "name": "python",
   "nbconvert_exporter": "python",
   "pygments_lexer": "ipython3",
   "version": "3.10.8"
  },
  "orig_nbformat": 4,
  "vscode": {
   "interpreter": {
    "hash": "2457cb1fc7fe65b67a8bfa8297ae36ac15699474b7b28a44eb2505adebb15336"
   }
  }
 },
 "nbformat": 4,
 "nbformat_minor": 2
}
