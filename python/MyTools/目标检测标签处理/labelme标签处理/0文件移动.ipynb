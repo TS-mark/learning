{
 "cells": [
  {
   "cell_type": "code",
   "execution_count": 2,
   "metadata": {},
   "outputs": [],
   "source": [
    "# 将标注的初始数据转存到目标路径下，将目录修改成\n",
    "# -dir_path\n",
    "# --labels_json\n",
    "# --images\n",
    "import shutil\n",
    "import os"
   ]
  },
  {
   "cell_type": "markdown",
   "metadata": {},
   "source": [
    "## 作用：将labelme标注的文件进行分摘，"
   ]
  },
  {
   "cell_type": "code",
   "execution_count": 3,
   "metadata": {},
   "outputs": [],
   "source": [
    "def movefile(ori_path, dir_path):\n",
    "    label_path = os.path.join(dir_path,\"labels_json\")\n",
    "    pic_path = os.path.join(dir_path,\"images\")\n",
    "\n",
    "    f_list = os.listdir(ori_path)\n",
    "    for f in f_list:\n",
    "        t_file = os.path.join(ori_path, f)\n",
    "        if os.path.isdir(t_file):\n",
    "            movefile(t_file,dir_path)\n",
    "            print(t_file)\n",
    "        else:\n",
    "            if t_file.endswith(\".jpg\"):\n",
    "                if not os.path.exists(os.path.join(pic_path, f)):\n",
    "                    shutil.move(t_file,pic_path)\n",
    "            elif t_file.endswith(\".json\"):\n",
    "                if not os.path.exists(os.path.join(label_path, f)):\n",
    "                    shutil.move(t_file,label_path)\n",
    "                # print(\"gg\")\n",
    "        \n",
    "            "
   ]
  },
  {
   "cell_type": "code",
   "execution_count": 4,
   "metadata": {},
   "outputs": [],
   "source": [
    "ori_path = r\"Z:\\datasets\\labels_json_RGYO2RGY\"\n",
    "dir_path = \"g:/datasets/toPicked\"\n",
    "\n",
    "\n",
    "\n",
    "label_path = os.path.join(dir_path,\"labels_json\")\n",
    "pic_path = os.path.join(dir_path,\"images\")\n",
    "if not os.path.exists(label_path):\n",
    "    os.makedirs(label_path)\n",
    "if not os.path.exists(pic_path):\n",
    "    os.makedirs(pic_path)\n",
    "movefile(ori_path, dir_path)"
   ]
  },
  {
   "cell_type": "code",
   "execution_count": null,
   "metadata": {},
   "outputs": [],
   "source": []
  }
 ],
 "metadata": {
  "kernelspec": {
   "display_name": "Python 3",
   "language": "python",
   "name": "python3"
  },
  "language_info": {
   "codemirror_mode": {
    "name": "ipython",
    "version": 3
   },
   "file_extension": ".py",
   "mimetype": "text/x-python",
   "name": "python",
   "nbconvert_exporter": "python",
   "pygments_lexer": "ipython3",
   "version": "3.10.8"
  },
  "orig_nbformat": 4
 },
 "nbformat": 4,
 "nbformat_minor": 2
}
