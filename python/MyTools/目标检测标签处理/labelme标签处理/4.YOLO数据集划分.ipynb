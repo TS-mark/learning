{
 "cells": [
  {
   "cell_type": "code",
   "execution_count": 1,
   "metadata": {},
   "outputs": [],
   "source": [
    "# 将做好的数据拆分为训练集和测试集\n",
    "import numpy as np\n",
    "import cv2\n",
    "import os\n",
    "import shutil\n",
    "import random"
   ]
  },
  {
   "cell_type": "code",
   "execution_count": 3,
   "metadata": {},
   "outputs": [],
   "source": [
    "# 函数功能：将仅有txt、jpg格式的初始数据，按照比例trainset_rate随机筛选为训练集和测试集，之后按照以下格式存储\n",
    "# shuffle=True时随机筛选验证集，shuffle=False时按每多少张取一张测试的标准\n",
    "\"\"\"\n",
    "xxxx/数据集名：\n",
    "-images\n",
    "--train\n",
    "--test\n",
    "-labels\n",
    "--train\n",
    "--test\n",
    "\"\"\"\n",
    "def YOLO_Datasets_Maker(label_path, pic_path, trainset_rate, save_path):\n",
    "    temp_list = os.listdir(label_path)\n",
    "    label_list = []\n",
    "    for lb in temp_list:\n",
    "        if lb.endswith(\".txt\"):\n",
    "            label_list.append(lb)\n",
    "    # 转存时保证每个标签文件都有图片对应\n",
    "    # temp_list = os.listdir(pic_path)\n",
    "    # pic_list = []\n",
    "    # for pb in temp_list:\n",
    "    #     if pb.endswith(\".jpg\") or pb.endswith(\".png\"):\n",
    "    #         pic_list.append(pb)\n",
    "    \n",
    "    random.shuffle(label_list)\n",
    "    split = int(trainset_rate*len(label_list))\n",
    "    train_label = label_list[:split]\n",
    "    test_label = label_list[split:]\n",
    "    total = 0\n",
    "\n",
    "    if not os.path.exists(save_path):\n",
    "        os.makedirs(save_path)\n",
    "    if not os.path.exists(os.path.join(save_path, \"./images/train\")):\n",
    "        os.makedirs(os.path.join(save_path, \"./images/train\"))\n",
    "        os.makedirs(os.path.join(save_path, \"./images/test\"))\n",
    "        os.makedirs(os.path.join(save_path, \"./labels/train\"))\n",
    "        os.makedirs(os.path.join(save_path, \"./labels/test\"))\n",
    "\n",
    "    for ipath in train_label:\n",
    "        # print(os.path.join(pic_path,ipath.replace(\".txt\",\".jpg\")))\n",
    "        if os.path.exists(os.path.join(pic_path,ipath.replace(\".txt\",\".jpg\"))):\n",
    "            img_pth = os.path.join(save_path, \"./images/train\")\n",
    "            img_oripth = os.path.join(pic_path,ipath.replace(\".txt\",\".jpg\"))\n",
    "            label_pth = os.path.join(save_path, \"./labels/train\")\n",
    "            label_oripth = os.path.join(label_path,ipath)\n",
    "            # print(img_oripth,img_pth)\n",
    "            shutil.copy(img_oripth, img_pth)\n",
    "            shutil.copy(label_oripth, label_pth)\n",
    "            total += 1\n",
    "        else:\n",
    "            print(\"label\", os.path.join(label_path,ipath),\"not found its pic\", os.path.join(pic_path,ipath.replace(\".txt\",\".jpg\")))\n",
    "    train_num = total\n",
    "    print(\"trainset has {} pic\".format(train_num))\n",
    "    for ipath in test_label:\n",
    "        if os.path.exists(os.path.join(pic_path,ipath.replace(\".txt\",\".jpg\"))):\n",
    "            img_pth = os.path.join(save_path, \"./images/test\")\n",
    "            img_oripth = os.path.join(pic_path,ipath.replace(\".txt\",\".jpg\"))\n",
    "            label_pth = os.path.join(save_path, \"./labels/test\")\n",
    "            label_oripth = os.path.join(label_path,ipath)\n",
    "            # print(img_oripth,img_pth)\n",
    "            shutil.copy(img_oripth, img_pth)\n",
    "            shutil.copy(label_oripth, label_pth)\n",
    "            total += 1\n",
    "        else:\n",
    "            print(\"label\", os.path.join(label_path,ipath),\"not found its pic\", os.path.join(pic_path,ipath.replace(\".txt\",\".jpg\")))\n",
    "    print(\"testset has {} pic\".format(total-train_num))\n",
    "    print(\"total pic:{}\".format(total))\n"
   ]
  },
  {
   "cell_type": "code",
   "execution_count": 4,
   "metadata": {},
   "outputs": [
    {
     "name": "stdout",
     "output_type": "stream",
     "text": [
      "trainset has 5804 pic\n",
      "testset has 23219 pic\n",
      "total pic:29023\n"
     ]
    }
   ],
   "source": [
    "label_path = r\"G:\\TLD_train6\\labels\\train\"\n",
    "pic_path = r\"G:\\TLD_train6\\images\\train\"\n",
    "save_path = r\"G:\\TLD_train6_new\"\n",
    "# pic_path = \"\"\n",
    "trainset_rate = 0.8 # 训练集和测试集比例(8:2)\n",
    "YOLO_Datasets_Maker(label_path, pic_path, trainset_rate, save_path)"
   ]
  },
  {
   "cell_type": "code",
   "execution_count": 28,
   "metadata": {},
   "outputs": [],
   "source": [
    "\"\"\"将新数据混入到已完成的数据集中\"\"\"\n"
   ]
  },
  {
   "cell_type": "code",
   "execution_count": 18,
   "metadata": {},
   "outputs": [
    {
     "name": "stdout",
     "output_type": "stream",
     "text": [
      "[3, 5, 7, 6, 1, 8, 4, 10, 9, 2]\n"
     ]
    }
   ],
   "source": [
    "# import random\n",
    "\n",
    "# my_list = [1, 2, 3, 4, 5, 6, 7, 8, 9, 10]\n",
    "\n",
    "# shuffled_list = my_list.copy()\n",
    "# random.shuffle(shuffled_list)\n",
    "\n",
    "# print(shuffled_list)\n",
    "\n"
   ]
  }
 ],
 "metadata": {
  "kernelspec": {
   "display_name": "Python 3",
   "language": "python",
   "name": "python3"
  },
  "language_info": {
   "codemirror_mode": {
    "name": "ipython",
    "version": 3
   },
   "file_extension": ".py",
   "mimetype": "text/x-python",
   "name": "python",
   "nbconvert_exporter": "python",
   "pygments_lexer": "ipython3",
   "version": "3.10.8"
  },
  "orig_nbformat": 4
 },
 "nbformat": 4,
 "nbformat_minor": 2
}
