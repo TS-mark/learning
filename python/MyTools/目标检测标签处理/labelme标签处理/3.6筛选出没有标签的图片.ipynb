{
 "cells": [
  {
   "cell_type": "code",
   "execution_count": null,
   "metadata": {},
   "outputs": [],
   "source": [
    "import os\n",
    "import shutil\n",
    "\n",
    "# 指定目录路径\n",
    "label_path = r'Z:\\datasets\\TLD_train5\\labels\\train'\n",
    "pic_path = r'Z:\\datasets\\TLD_train5\\images\\train'\n",
    "\n",
    "empty_label_path = r'Z:\\datasets\\labels'\n",
    "if not os.path.exists(empty_label_path):\n",
    "    os.makedirs(empty_label_path)\n",
    "empty_pic_path = r'Z:\\datasets\\images'\n",
    "if not os.path.exists(empty_pic_path):\n",
    "    os.makedirs(empty_pic_path)\n",
    "\n",
    "\n",
    "\n",
    "# 遍历目录中的文件\n",
    "for filename in os.listdir(label_path):\n",
    "    # 拼接文件的完整路径\n",
    "    file_path = os.path.join(label_path, filename)\n",
    "\n",
    "    # 检查文件是否为txt文件，并且字节数为0\n",
    "    if filename.lower().endswith('.txt') and os.path.getsize(file_path) == 0:\n",
    "        # print(f\"Empty txt file found: {filename}\")\n",
    "        os.rename(file_path,os.path.join(empty_label_path, filename))\n",
    "\n",
    "# 拉出来空目录的图片\n",
    "for pic_name in os.listdir(empty_label_path):\n",
    "    \n",
    "    tmp_path = os.path.join(pic_path, pic_name.replace(\".txt\",\".jpg\"))\n",
    "    \n",
    "    if os.path.exists(tmp_path):\n",
    "        os.rename(tmp_path, os.path.join(empty_pic_path, pic_name.replace(\".txt\",\".jpg\")))\n",
    "\n"
   ]
  },
  {
   "cell_type": "code",
   "execution_count": 7,
   "metadata": {},
   "outputs": [
    {
     "data": {
      "text/plain": [
       "'ggsdggg'"
      ]
     },
     "execution_count": 7,
     "metadata": {},
     "output_type": "execute_result"
    }
   ],
   "source": [
    "a = \"ggsdggg\"\n",
    "a.replace(\"gg\",\"zxds\")\n",
    "a"
   ]
  }
 ],
 "metadata": {
  "kernelspec": {
   "display_name": "Python 3",
   "language": "python",
   "name": "python3"
  },
  "language_info": {
   "codemirror_mode": {
    "name": "ipython",
    "version": 3
   },
   "file_extension": ".py",
   "mimetype": "text/x-python",
   "name": "python",
   "nbconvert_exporter": "python",
   "pygments_lexer": "ipython3",
   "version": "3.10.8"
  },
  "orig_nbformat": 4
 },
 "nbformat": 4,
 "nbformat_minor": 2
}
