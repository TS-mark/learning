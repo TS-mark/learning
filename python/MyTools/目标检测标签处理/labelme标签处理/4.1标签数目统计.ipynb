{
 "cells": [
  {
   "cell_type": "code",
   "execution_count": 8,
   "metadata": {},
   "outputs": [],
   "source": [
    "import os\n",
    "import collections\n",
    "label_path = \"f:/datasets/TLD_train5/labels/train_new\"\n",
    "# new_label_path = \"f:/datasets/TLD_train5/labels/train_new\"\n",
    "# if not os.path.exists(new_label_path):\n",
    "#     os.makedirs(new_label_path)\n",
    "\n",
    "list_dir = os.listdir(label_path)\n",
    "# list_dir\n",
    "\n",
    "gg = collections.defaultdict(int)\n",
    "for file in list_dir:\n",
    "    res = []\n",
    "    with open(os.path.join(label_path, file), \"r\") as f:\n",
    "        for line in f.readlines():\n",
    "            c,x,y,w,h = line.split(\" \")\n",
    "            gg[c] += 1\n",
    "        \n",
    "            # if float(w)>0.08 or float(h)>0.09:\n",
    "            #     c = str(int(c)+50)\n",
    "            # res.append(c+\" \"+x+\" \"+y+\" \"+w+\" \"+h)\n",
    "    # with open(os.path.join(new_label_path, file), \"w\") as f:\n",
    "    #     f.write(\"\".join(res))\n"
   ]
  },
  {
   "cell_type": "code",
   "execution_count": 9,
   "metadata": {},
   "outputs": [
    {
     "data": {
      "text/plain": [
       "defaultdict(int,\n",
       "            {'14': 1636,\n",
       "             '6': 2188,\n",
       "             '10': 1952,\n",
       "             '60': 356,\n",
       "             '35': 3097,\n",
       "             '75': 675,\n",
       "             '25': 6560,\n",
       "             '26': 5957,\n",
       "             '76': 193,\n",
       "             '36': 208,\n",
       "             '28': 1370,\n",
       "             '2': 1262,\n",
       "             '4': 321,\n",
       "             '30': 1165,\n",
       "             '29': 1360,\n",
       "             '24': 418,\n",
       "             '74': 20,\n",
       "             '18': 87,\n",
       "             '7': 113,\n",
       "             '3': 34,\n",
       "             '57': 7,\n",
       "             '27': 197,\n",
       "             '52': 57,\n",
       "             '56': 55,\n",
       "             '43': 202,\n",
       "             '39': 17,\n",
       "             '37': 30,\n",
       "             '22': 52,\n",
       "             '68': 17,\n",
       "             '77': 14,\n",
       "             '11': 49,\n",
       "             '20': 26,\n",
       "             '64': 50,\n",
       "             '53': 17,\n",
       "             '61': 1,\n",
       "             '72': 5,\n",
       "             '45': 88,\n",
       "             '54': 57,\n",
       "             '42': 46,\n",
       "             '78': 4,\n",
       "             '65': 1,\n",
       "             '51': 1,\n",
       "             '1': 1,\n",
       "             '40': 2,\n",
       "             '12': 88,\n",
       "             '15': 70,\n",
       "             '41': 2})"
      ]
     },
     "execution_count": 9,
     "metadata": {},
     "output_type": "execute_result"
    }
   ],
   "source": [
    "gg"
   ]
  },
  {
   "cell_type": "code",
   "execution_count": 5,
   "metadata": {},
   "outputs": [
    {
     "data": {
      "text/plain": [
       "defaultdict(int, {'1': 2})"
      ]
     },
     "execution_count": 5,
     "metadata": {},
     "output_type": "execute_result"
    }
   ],
   "source": [
    "import collections\n",
    "gg = collections.defaultdict(int)\n",
    "gg[\"1\"] += 2\n",
    "gg"
   ]
  }
 ],
 "metadata": {
  "kernelspec": {
   "display_name": "Python 3",
   "language": "python",
   "name": "python3"
  },
  "language_info": {
   "codemirror_mode": {
    "name": "ipython",
    "version": 3
   },
   "file_extension": ".py",
   "mimetype": "text/x-python",
   "name": "python",
   "nbconvert_exporter": "python",
   "pygments_lexer": "ipython3",
   "version": "3.10.8"
  },
  "orig_nbformat": 4
 },
 "nbformat": 4,
 "nbformat_minor": 2
}
