{
 "cells": [
  {
   "cell_type": "code",
   "execution_count": 1,
   "metadata": {},
   "outputs": [],
   "source": [
    "import pandas as pd\n",
    "import matplotlib.pyplot as plt\n",
    "import cv2\n",
    "import os\n",
    "import numpy as np"
   ]
  },
  {
   "cell_type": "code",
   "execution_count": 3,
   "metadata": {},
   "outputs": [
    {
     "name": "stdout",
     "output_type": "stream",
     "text": [
      "err pic path:2022830_21-29-48_0_111_7.txt\n",
      "err pic path:2022830_21-29-48_0_288_1.txt\n",
      "err pic path:2022830_21-29-48_0_288_9.txt\n",
      "err pic path:2022830_21-40-56_0_386_11.txt\n",
      "err pic path:2022830_21-40-56_0_386_15.txt\n",
      "err pic path:2022830_21-40-56_0_386_17.txt\n",
      "err pic path:2022830_22-14-42_0_168_1.txt\n",
      "err pic path:2022830_22-25-30_0_624_1.txt\n",
      "err pic path:2022830_22-25-30_0_624_1.txt\n",
      "err pic path:2022830_22-25-30_0_624_2.txt\n",
      "err pic path:2022830_22-25-30_0_624_2.txt\n",
      "err pic path:2022830_22-25-30_0_624_3.txt\n",
      "err pic path:2022830_22-25-30_0_624_3.txt\n",
      "err pic path:2022830_22-25-30_0_624_4.txt\n",
      "err pic path:2022830_22-25-30_0_624_5.txt\n",
      "err pic path:2022830_22-31-29_0_40_10.txt\n",
      "err pic path:2022830_22-31-29_0_40_11.txt\n",
      "err pic path:2022830_22-31-29_0_40_12.txt\n",
      "err pic path:2022830_22-31-29_0_40_13.txt\n",
      "err pic path:2022830_22-31-29_0_40_13.txt\n",
      "err pic path:2022830_22-31-29_0_40_14.txt\n",
      "err pic path:2022830_22-31-29_0_40_15.txt\n",
      "err pic path:2022830_22-31-29_0_40_16.txt\n",
      "err pic path:2022830_22-31-29_0_40_17.txt\n",
      "err pic path:2022830_22-31-29_0_40_17.txt\n",
      "err pic path:2022830_22-31-29_0_40_18.txt\n",
      "err pic path:2022830_22-31-29_0_40_19.txt\n",
      "err pic path:2022830_22-31-29_0_40_21.txt\n",
      "err pic path:2022830_22-31-29_0_40_21.txt\n",
      "err pic path:2022830_22-31-29_0_40_22.txt\n",
      "err pic path:2022830_22-31-29_0_40_23.txt\n",
      "err pic path:2022830_22-31-29_0_40_24.txt\n",
      "err pic path:2022830_22-31-29_0_40_25.txt\n",
      "err pic path:2022830_22-31-29_0_40_25.txt\n",
      "err pic path:2022830_22-31-29_0_40_27.txt\n",
      "err pic path:2022830_22-31-29_0_40_28.txt\n",
      "err pic path:2022830_22-31-29_0_40_29.txt\n",
      "err pic path:2022830_22-31-29_0_40_3.txt\n",
      "err pic path:2022830_22-31-29_0_40_3.txt\n",
      "err pic path:2022830_22-31-29_0_40_30.txt\n",
      "err pic path:2022830_22-31-29_0_40_8.txt\n",
      "err pic path:2022830_22-31-29_0_84_4.txt\n",
      "err pic path:2022830_22-42-35_0_34_1.txt\n",
      "err pic path:2022830_22-42-35_0_34_2.txt\n",
      "err pic path:2022830_22-42-35_0_34_4.txt\n",
      "err pic path:2022830_22-42-35_0_513_1.txt\n",
      "err pic path:2022830_23-16-8_0_31_19.txt\n",
      "err pic path:2022830_24-42-39_0_139_10.txt\n",
      "err pic path:2022830_24-42-39_0_139_7.txt\n",
      "err pic path:20230524-36_215.txt\n",
      "err pic path:20230524-36_217.txt\n",
      "err pic path:20230524-38_206.txt\n",
      "err pic path:20230524-38_207.txt\n",
      "255.0\n"
     ]
    },
    {
     "data": {
      "text/plain": [
       "True"
      ]
     },
     "execution_count": 3,
     "metadata": {},
     "output_type": "execute_result"
    }
   ],
   "source": [
    "height = 1080\n",
    "width = 1920\n",
    "image = np.zeros((height, width, 3), dtype=np.float32)\n",
    "image2 = np.zeros((height, width, 3), dtype=np.uint8)\n",
    "label_path1 = r\"F:\\datasets\\TLD_train5\\labels\\train\"\n",
    "label_path2 = r\"F:\\datasets\\TLD_train5\\labels\\test\"\n",
    "list_dir = os.listdir(label_path1)\n",
    "cnter = 0\n",
    "for txtfile in list_dir:\n",
    "    with open(os.path.join(label_path1, txtfile), \"r\") as write:\n",
    "        for lin in write.readlines():\n",
    "            temp = lin.split(\" \")\n",
    "            if float(temp[3])*1920 < 6 or float(temp[4])*1920 < 6:\n",
    "                print(\"err pic path:{}\".format(txtfile))\n",
    "            \n",
    "            x1 = int(width * (float(temp[1]) - 0.5 * float(temp[3])))\n",
    "            x2 = int(width * (float(temp[1]) + 0.5 * float(temp[3])))\n",
    "            y1 = int(height * (float(temp[2]) - 0.5 * float(temp[4])))\n",
    "            y2 = int(height * (float(temp[2]) + 0.5 * float(temp[4])))\n",
    "            image[y1:y2,x1:x2,:] += 1\n",
    "            image2[y1:y2,x1:x2,:] = 255\n",
    "            # print(\"{}:{},  {}:{}\".format(x1,x2,y1,y2))\n",
    "            cnter += 1\n",
    "# print(cnter)\n",
    "image = image / image.max() * 255\n",
    "\n",
    "\n",
    "print(image.max())\n",
    "cv2.imwrite(\"test.jpg\", image)\n",
    "cv2.imwrite(\"test2.jpg\", image2)\n",
    "\n"
   ]
  },
  {
   "cell_type": "code",
   "execution_count": 39,
   "metadata": {},
   "outputs": [],
   "source": [
    "zz = np.zeros((5,10))"
   ]
  },
  {
   "cell_type": "code",
   "execution_count": 57,
   "metadata": {},
   "outputs": [
    {
     "data": {
      "text/plain": [
       "array([[0., 0., 0., 0., 0., 0., 0., 0., 0., 0.],\n",
       "       [0., 5., 5., 5., 5., 0., 0., 0., 0., 0.],\n",
       "       [0., 5., 5., 5., 5., 0., 0., 0., 0., 0.],\n",
       "       [0., 5., 5., 5., 5., 0., 0., 0., 0., 0.],\n",
       "       [0., 0., 0., 0., 0., 0., 0., 0., 0., 0.]])"
      ]
     },
     "execution_count": 57,
     "metadata": {},
     "output_type": "execute_result"
    }
   ],
   "source": [
    "zz[1:4,1:5] = 5\n",
    "zz"
   ]
  },
  {
   "cell_type": "code",
   "execution_count": null,
   "metadata": {},
   "outputs": [],
   "source": []
  }
 ],
 "metadata": {
  "kernelspec": {
   "display_name": "Python 3",
   "language": "python",
   "name": "python3"
  },
  "language_info": {
   "codemirror_mode": {
    "name": "ipython",
    "version": 3
   },
   "file_extension": ".py",
   "mimetype": "text/x-python",
   "name": "python",
   "nbconvert_exporter": "python",
   "pygments_lexer": "ipython3",
   "version": "3.10.8"
  },
  "orig_nbformat": 4
 },
 "nbformat": 4,
 "nbformat_minor": 2
}
