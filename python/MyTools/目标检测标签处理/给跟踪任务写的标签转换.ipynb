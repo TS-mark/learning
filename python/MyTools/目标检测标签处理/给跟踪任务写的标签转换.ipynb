{
 "cells": [
  {
   "cell_type": "code",
   "execution_count": 1,
   "metadata": {},
   "outputs": [],
   "source": [
    "import os"
   ]
  },
  {
   "cell_type": "code",
   "execution_count": 6,
   "metadata": {},
   "outputs": [],
   "source": [
    "import os\n",
    "file_path = r\"E:\\yolov5-7.0\\runs\\detect\\exp74\\labels\"\n",
    "save_res_path = \"G:\\\\test_video\\\\label.txt\"\n",
    "file_list = os.listdir(file_path)\n",
    "with open(save_res_path,\"w\") as w:\n",
    "    for labeldir in file_list:\n",
    "        lab_path = os.path.join(file_path, labeldir)\n",
    "        label_index = labeldir.split(\".\")[0].split(\"_\")[-1]\n",
    "        # print(lab_path)\n",
    "        with open(lab_path,\"r\") as label_dir:\n",
    "            for line in label_dir.readlines():\n",
    "                w.write(label_index+\" \" + line)\n",
    "\n"
   ]
  },
  {
   "cell_type": "code",
   "execution_count": 2,
   "metadata": {},
   "outputs": [],
   "source": [
    "# save_res_path = \"G:\\\\test_video\\\\label.txt\"\n",
    "# with open(save_res_path,\"w\") as gtmd:\n",
    "#     gtmd.write(\"gsd\\n\\ndsfgasd\")\n",
    "#     gtmd.write(\"dddff\")"
   ]
  }
 ],
 "metadata": {
  "kernelspec": {
   "display_name": "Python 3",
   "language": "python",
   "name": "python3"
  },
  "language_info": {
   "codemirror_mode": {
    "name": "ipython",
    "version": 3
   },
   "file_extension": ".py",
   "mimetype": "text/x-python",
   "name": "python",
   "nbconvert_exporter": "python",
   "pygments_lexer": "ipython3",
   "version": "3.10.8"
  },
  "orig_nbformat": 4
 },
 "nbformat": 4,
 "nbformat_minor": 2
}
