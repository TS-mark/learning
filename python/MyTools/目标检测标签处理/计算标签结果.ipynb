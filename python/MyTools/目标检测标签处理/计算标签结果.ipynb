{
 "cells": [
  {
   "cell_type": "code",
   "execution_count": 1,
   "metadata": {},
   "outputs": [],
   "source": [
    "# 已有label，和pred,计算iou阈值下的pred和label\n",
    "import os"
   ]
  },
  {
   "cell_type": "code",
   "execution_count": 2,
   "metadata": {},
   "outputs": [],
   "source": [
    "label_mapping = {\n",
    "            0: 26,\n",
    "            1: 26,\n",
    "            2: 26,\n",
    "            3: 26,\n",
    "            4: 26,\n",
    "            5: 26,\n",
    "            6: 26,\n",
    "            7: 26,\n",
    "            8: 25,\n",
    "            9: 25,\n",
    "            10: 25,\n",
    "            11: 25,\n",
    "            12: 25,\n",
    "            13: 25,\n",
    "            14: 25,\n",
    "            15: 25,\n",
    "            16: 27,\n",
    "            17: 27,\n",
    "            18: 27,\n",
    "            19: 27,\n",
    "            20: 27,\n",
    "            21: 27,\n",
    "            22: 27,\n",
    "            23: 27,\n",
    "            24: 24,\n",
    "            25: 25,\n",
    "            26: 26,\n",
    "            27: 27,\n",
    "            28: 28,\n",
    "            29: 29, # Rpedestrian\n",
    "            30: 30, # Gpedestrian\n",
    "            31: 31, # Ypedestrian\n",
    "            32: 32,\n",
    "            33: 33,\n",
    "            34: 34,\n",
    "            35: 35,\n",
    "            36: 36,\n",
    "            37: 37,\n",
    "            38: 38,\n",
    "            39: 26,\n",
    "            40: 25,\n",
    "            41: 27,\n",
    "            42: 25,\n",
    "            43: 26,\n",
    "            44: 25,\n",
    "            45: 26,\n",
    "            46: 26,\n",
    "            47: 25,\n",
    "            48: 26,\n",
    "            49: 25\n",
    "            }"
   ]
  },
  {
   "cell_type": "code",
   "execution_count": 3,
   "metadata": {},
   "outputs": [
    {
     "name": "stdout",
     "output_type": "stream",
     "text": [
      "IoU 值: 0.14285714285714285\n"
     ]
    }
   ],
   "source": [
    "def calculate_iou(box1, box2):\n",
    "    \"\"\"\n",
    "    计算两个矩形框的 Intersection over Union（IoU）\n",
    "    \n",
    "    参数：\n",
    "    box1：(x, y, w, h) 形式的矩形框1坐标，左上角坐标、宽度和高度\n",
    "    box2：(x, y, w, h) 形式的矩形框2坐标，左上角坐标、宽度和高度\n",
    "    \n",
    "    返回：\n",
    "    IoU：Intersection over Union 值                                               \n",
    "    \"\"\"\n",
    "    # 提取框的坐标和尺寸\n",
    "    x1_box1, y1_box1, w_box1, h_box1 = box1[1], box1[2],box1[3],box1[4]\n",
    "    x1_box2, y1_box2, w_box2, h_box2 = box2[1], box2[2],box2[3],box2[4]\n",
    "    \n",
    "    # 计算两个框的交集区域的坐标\n",
    "    x1_intersection = max(x1_box1, x1_box2)\n",
    "    y1_intersection = max(y1_box1, y1_box2)\n",
    "    x2_intersection = min(x1_box1 + w_box1, x1_box2 + w_box2)\n",
    "    y2_intersection = min(y1_box1 + h_box1, y1_box2 + h_box2)\n",
    "    \n",
    "    # 计算交集区域的面积\n",
    "    intersection_area = max(0, x2_intersection - x1_intersection) * max(0, y2_intersection - y1_intersection)\n",
    "    \n",
    "    # 计算两个框的面积\n",
    "    box1_area = w_box1 * h_box1\n",
    "    box2_area = w_box2 * h_box2\n",
    "    \n",
    "    # 计算 IoU\n",
    "    iou = intersection_area / float(box1_area + box2_area - intersection_area)\n",
    "    # print(\"iou没得问题\")\n",
    "    return iou\n",
    "\n",
    "if __name__ == \"__main__\":\n",
    "    # 示例矩形框坐标：(x, y, w, h)\n",
    "    box1 = [1,50, 50, 100, 100]\n",
    "    box2 = [1,100, 100, 100, 100]\n",
    "\n",
    "    iou = calculate_iou(box1, box2)\n",
    "    print(\"IoU 值:\", iou)\n",
    "    # print(type(iou))\n"
   ]
  },
  {
   "cell_type": "code",
   "execution_count": 4,
   "metadata": {},
   "outputs": [],
   "source": [
    "#box格式：\n",
    "# -class\n",
    "# -x\n",
    "# -y\n",
    "# -w\n",
    "# -h"
   ]
  },
  {
   "cell_type": "code",
   "execution_count": 5,
   "metadata": {},
   "outputs": [],
   "source": [
    "# 传入：\n",
    "# gt:list[list]\n",
    "# pred:list[list]\n",
    "# iou_threshold:0.45\n",
    "# label_mapping = dict()\n",
    "def calcul_tp(gt_boxes, pred_boxes, iou_threshold=0.45, label_mapping = None):\n",
    "    tp = 0\n",
    "\n",
    "    for gt in gt_boxes:\n",
    "        # gt_find = False\n",
    "        for pred in pred_boxes:\n",
    "\n",
    "            if label_mapping:\n",
    "                gt[0] = label_mapping[int(gt[0])]\n",
    "                pred[0] = label_mapping[int(pred[0])]\n",
    "            if gt[0] == pred[0]:\n",
    "                # print(\"??\")\n",
    "                if calculate_iou(gt,pred) > iou_threshold:\n",
    "                    tp += 1\n",
    "                    break\n",
    "        \n",
    "    return tp\n"
   ]
  },
  {
   "cell_type": "code",
   "execution_count": 6,
   "metadata": {},
   "outputs": [],
   "source": [
    "label_mapping = {\n",
    "        0: 26,\n",
    "        1: 26,\n",
    "        2: 26,\n",
    "        3: 26,\n",
    "        4: 26,\n",
    "        5: 26,\n",
    "        6: 26,\n",
    "        7: 26,\n",
    "        8: 25,\n",
    "        9: 25,\n",
    "        10: 25,\n",
    "        11: 25,\n",
    "        12: 25,\n",
    "        13: 25,\n",
    "        14: 25,\n",
    "        15: 25,\n",
    "        16: 27,\n",
    "        17: 27,\n",
    "        18: 27,\n",
    "        19: 27,\n",
    "        20: 27,\n",
    "        21: 27,\n",
    "        22: 27,\n",
    "        23: 27,\n",
    "        24: 24,\n",
    "        25: 25,\n",
    "        26: 26,\n",
    "        27: 27,\n",
    "        28: 28,\n",
    "        29: 29, # Rpedestrian\n",
    "        30: 30, # Gpedestrian\n",
    "        31: 31, # Ypedestrian\n",
    "        32: 32,\n",
    "        33: 33,\n",
    "        34: 34,\n",
    "        35: 35,\n",
    "        36: 36,\n",
    "        37: 37,\n",
    "        38: 38,\n",
    "        39: 26,\n",
    "        40: 25,\n",
    "        41: 27,\n",
    "        42: 25,\n",
    "        43: 26,\n",
    "        44: 25,\n",
    "        45: 26,\n",
    "        46: 26,\n",
    "        47: 25,\n",
    "        48: 26,\n",
    "        49: 25\n",
    "        }"
   ]
  },
  {
   "cell_type": "code",
   "execution_count": 7,
   "metadata": {},
   "outputs": [],
   "source": [
    "a = \"52 2523.352 24235.423\"\n",
    "if int(a.split(\" \")[0]) in {25,26,27}:\n",
    "    print(\"gg\")"
   ]
  },
  {
   "cell_type": "code",
   "execution_count": 9,
   "metadata": {},
   "outputs": [
    {
     "name": "stdout",
     "output_type": "stream",
     "text": [
      "Z:\\datasets\\testlabel\\output20230925120329 1.txt\n",
      "Z:\\datasets\\testlabel\\output20230925120329 10.txt\n",
      "Z:\\datasets\\testlabel\\output20230925120329 100.txt\n",
      "Z:\\datasets\\testlabel\\output20230925120329 1000.txt\n",
      "Z:\\datasets\\testlabel\\output20230925120329 1001.txt\n",
      "Z:\\datasets\\testlabel\\output20230925120329 1002.txt\n",
      "Z:\\datasets\\testlabel\\output20230925120329 1003.txt\n",
      "Z:\\datasets\\testlabel\\output20230925120329 1004.txt\n",
      "Z:\\datasets\\testlabel\\output20230925120329 1005.txt\n",
      "Z:\\datasets\\testlabel\\output20230925120329 1006.txt\n",
      "Z:\\datasets\\testlabel\\output20230925120329 1007.txt\n",
      "Z:\\datasets\\testlabel\\output20230925120329 1008.txt\n",
      "Z:\\datasets\\testlabel\\output20230925120329 1009.txt\n",
      "Z:\\datasets\\testlabel\\output20230925120329 101.txt\n",
      "Z:\\datasets\\testlabel\\output20230925120329 1010.txt\n",
      "Z:\\datasets\\testlabel\\output20230925120329 1011.txt\n"
     ]
    },
    {
     "ename": "KeyError",
     "evalue": "54",
     "output_type": "error",
     "traceback": [
      "\u001b[1;31m---------------------------------------------------------------------------\u001b[0m",
      "\u001b[1;31mKeyError\u001b[0m                                  Traceback (most recent call last)",
      "Cell \u001b[1;32mIn[9], line 56\u001b[0m\n\u001b[0;32m     52\u001b[0m iou_threshold \u001b[39m=\u001b[39m \u001b[39m0.45\u001b[39m \u001b[39m# 这里的iou是判断框对不对\u001b[39;00m\n\u001b[0;32m     53\u001b[0m conf_threshold \u001b[39m=\u001b[39m \u001b[39m0.6\u001b[39m\n\u001b[1;32m---> 56\u001b[0m P, R \u001b[39m=\u001b[39m calcul_PR(label_path, pred_path, iou_threshold, conf_threshold, label_mapping)\n\u001b[0;32m     57\u001b[0m \u001b[39mprint\u001b[39m(\u001b[39m\"\u001b[39m\u001b[39m最后的结果P：\u001b[39m\u001b[39m{:.4f}\u001b[39;00m\u001b[39m, R：\u001b[39m\u001b[39m{:.4f}\u001b[39;00m\u001b[39m\"\u001b[39m\u001b[39m.\u001b[39mformat(P,R))\n",
      "Cell \u001b[1;32mIn[9], line 33\u001b[0m, in \u001b[0;36mcalcul_PR\u001b[1;34m(label_path, pred_path, iou_threshold, conf_threshold, label_mapping)\u001b[0m\n\u001b[0;32m     30\u001b[0m \u001b[39mfor\u001b[39;00m line \u001b[39min\u001b[39;00m f2\u001b[39m.\u001b[39mreadlines():\n\u001b[0;32m     32\u001b[0m     \u001b[39m\"\"\"只计算红绿黄\"\"\"\u001b[39;00m\n\u001b[1;32m---> 33\u001b[0m     \u001b[39mif\u001b[39;00m label_mapping[\u001b[39mint\u001b[39;49m(line\u001b[39m.\u001b[39;49msplit(\u001b[39m\"\u001b[39;49m\u001b[39m, \u001b[39;49m\u001b[39m\"\u001b[39;49m)[\u001b[39m0\u001b[39;49m])] \u001b[39mnot\u001b[39;00m \u001b[39min\u001b[39;00m {\u001b[39m25\u001b[39m,\u001b[39m26\u001b[39m,\u001b[39m27\u001b[39m}:\n\u001b[0;32m     34\u001b[0m         \u001b[39mcontinue\u001b[39;00m\n\u001b[0;32m     36\u001b[0m     \u001b[39m# print(line)\u001b[39;00m\n",
      "\u001b[1;31mKeyError\u001b[0m: 54"
     ]
    }
   ],
   "source": [
    "import os\n",
    "# 计算PR值\n",
    "\n",
    "def calcul_PR(label_path, pred_path, iou_threshold, conf_threshold, label_mapping):\n",
    "    label_list = os.listdir(label_path)\n",
    "    label_cnt = 0\n",
    "    pred_cnt = 0\n",
    "    tp = 0\n",
    "    for file in label_list:\n",
    "        if not os.path.exists(os.path.join(pred_path, file)):\n",
    "            print(\"file:{} not exists!\".format(os.path.join(pred_path, file)))\n",
    "            continue\n",
    "        \n",
    "        \n",
    "        tmp_predbox = []\n",
    "        tmp_gtbox = []\n",
    "        with open(os.path.join(label_path, file), \"r\") as f1:\n",
    "            for line in f1.readlines():\n",
    "                \"\"\"只计算红绿黄\"\"\"\n",
    "                if label_mapping[int(line.split(\" \")[0])] not in {25,26,27}:\n",
    "                    continue\n",
    "\n",
    "\n",
    "                label_cnt += 1\n",
    "                tmp_gtbox.append([float(item) for item in line.split(\" \")])\n",
    "\n",
    "        # 预测这里的结构是 class conf x y w h\n",
    "        print(pred_path,file)\n",
    "        with open(os.path.join(pred_path, file), \"r\") as f2:\n",
    "            for line in f2.readlines():\n",
    "\n",
    "                \"\"\"只计算红绿黄\"\"\"\n",
    "                if label_mapping[int(line.split(\", \")[0])] not in {25,26,27}:\n",
    "                    continue\n",
    "                \n",
    "                # print(line)\n",
    "                pred = [float(item) for item in line.split(\", \")]\n",
    "                if pred[1] >= conf_threshold:\n",
    "                    pred_cnt += 1\n",
    "                    pred.pop(1)\n",
    "                    tmp_predbox.append(pred)\n",
    "        tp += calcul_tp(tmp_gtbox, tmp_predbox, iou_threshold, label_mapping)        \n",
    "    \n",
    "    print(\"算完了，tp有{},gt有{},预测label有{}\".format(tp, label_cnt, pred_cnt))\n",
    "    P = tp/pred_cnt\n",
    "    R = tp/label_cnt\n",
    "    return P,R\n",
    "\n",
    "if __name__ == \"__main__\":\n",
    "    label_path = r\"Z:\\datasets\\testlabel\\od_labels_tld_0911\"\n",
    "    pred_path = r\"Z:\\datasets\\testlabel\\output20230925120329\"\n",
    "    iou_threshold = 0.45 # 这里的iou是判断框对不对\n",
    "    conf_threshold = 0.6\n",
    "\n",
    "    \n",
    "    P, R = calcul_PR(label_path, pred_path, iou_threshold, conf_threshold, label_mapping)\n",
    "    print(\"最后的结果P：{:.4f}, R：{:.4f}\".format(P,R))"
   ]
  },
  {
   "cell_type": "code",
   "execution_count": 24,
   "metadata": {},
   "outputs": [
    {
     "name": "stdout",
     "output_type": "stream",
     "text": [
      "fsd42.4230\n"
     ]
    }
   ],
   "source": [
    "a = 42.423\n",
    "print(\"fsd{:.4f}\".format(a))"
   ]
  },
  {
   "cell_type": "code",
   "execution_count": 27,
   "metadata": {},
   "outputs": [
    {
     "ename": "TypeError",
     "evalue": "Value after * must be an iterable, not int",
     "output_type": "error",
     "traceback": [
      "\u001b[1;31m---------------------------------------------------------------------------\u001b[0m",
      "\u001b[1;31mTypeError\u001b[0m                                 Traceback (most recent call last)",
      "Cell \u001b[1;32mIn[27], line 1\u001b[0m\n\u001b[1;32m----> 1\u001b[0m a \u001b[39m=\u001b[39m [\u001b[39m*\u001b[39m(\u001b[39m5\u001b[39m)]\n\u001b[0;32m      2\u001b[0m a\n",
      "\u001b[1;31mTypeError\u001b[0m: Value after * must be an iterable, not int"
     ]
    }
   ],
   "source": [
    "a = [*(5)]\n",
    "a"
   ]
  },
  {
   "cell_type": "code",
   "execution_count": 52,
   "metadata": {},
   "outputs": [
    {
     "name": "stdout",
     "output_type": "stream",
     "text": [
      "[35.0, 0.1558, 0.385914, 0.004979, 0.01112]\n",
      "[35.0, 0.192267, 0.381028, 0.005744, 0.012482]\n",
      "[35.0, 0.232344, 0.377977, 0.006123, 0.01443]\n",
      "[36.0, 0.096127, 0.39514, 0.006074, 0.009988]\n",
      "[36.0, 0.126748, 0.391175, 0.005389, 0.010814]\n",
      "[36.0, 0.020236, 0.408891, 0.005618, 0.010798]\n",
      "[36.0, 0.068306, 0.400475, 0.005315, 0.010258]\n",
      "[36.0, 0.042326, 0.4049, 0.005163, 0.009448]\n",
      "[36.0, 0.330926, 0.367371, 0.007551, 0.013326]\n",
      "[36.0, 0.378944, 0.363977, 0.007811, 0.013785]\n",
      "[35.0, 0.427455, 0.361791, 0.009711, 0.01616]\n"
     ]
    }
   ],
   "source": [
    "with open(os.path.join(r\"Z:\\datasets\\lbmap\\tld_label\", \"16.txt\"), \"r\") as f1:\n",
    "    for line in f1.readlines():\n",
    "        print([float(item) for item in line.split(\" \")])"
   ]
  },
  {
   "cell_type": "code",
   "execution_count": 28,
   "metadata": {},
   "outputs": [
    {
     "data": {
      "text/plain": [
       "[1, 3, 4, 5]"
      ]
     },
     "execution_count": 28,
     "metadata": {},
     "output_type": "execute_result"
    }
   ],
   "source": [
    "a = [1,2,3,4,5]\n",
    "a.pop(1)\n",
    "a"
   ]
  },
  {
   "cell_type": "code",
   "execution_count": 12,
   "metadata": {},
   "outputs": [
    {
     "data": {
      "text/plain": [
       "True"
      ]
     },
     "execution_count": 12,
     "metadata": {},
     "output_type": "execute_result"
    }
   ],
   "source": [
    "35.0 == int(35)"
   ]
  }
 ],
 "metadata": {
  "kernelspec": {
   "display_name": "Python 3",
   "language": "python",
   "name": "python3"
  },
  "language_info": {
   "codemirror_mode": {
    "name": "ipython",
    "version": 3
   },
   "file_extension": ".py",
   "mimetype": "text/x-python",
   "name": "python",
   "nbconvert_exporter": "python",
   "pygments_lexer": "ipython3",
   "version": "3.10.8"
  },
  "orig_nbformat": 4
 },
 "nbformat": 4,
 "nbformat_minor": 2
}
