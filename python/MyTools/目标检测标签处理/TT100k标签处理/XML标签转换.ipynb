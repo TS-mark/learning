{
 "cells": [
  {
   "cell_type": "code",
   "execution_count": 6,
   "metadata": {},
   "outputs": [],
   "source": [
    "class A:\n",
    "    def __init__(self, asd = None):\n",
    "        self.name = asd\n",
    "        print(\"init\")\n",
    "    # def __call__(self, name = None, add = None):\n",
    "    #     print(\"call\", name, add)"
   ]
  },
  {
   "cell_type": "code",
   "execution_count": 3,
   "metadata": {},
   "outputs": [],
   "source": [
    "import xml.etree.ElementTree as ET\n",
    "import os\n",
    "from PIL import Image, ImageDraw, ImageFont\n",
    " \n",
    " \n",
    "def parse_rec(pic_path, filename):\n",
    "    \"\"\"解析xml\"\"\"\n",
    "    tree = ET.parse(filename)  # 解析读取xml函数\n",
    "    objects = []\n",
    "    img_dir = []\n",
    "    coordinate = []\n",
    "    for xml_name in tree.findall('filename'):\n",
    "        img_path = os.path.join(pic_path, xml_name.text)\n",
    "        img_dir.append(img_path)\n",
    "    for obj in tree.findall('object'):\n",
    "        # obj_struct = {'name': obj.find('name').text, 'pose': obj.find('pose').text,\n",
    "        #               'truncated': int(obj.find('truncated').text), 'difficult': int(obj.find('difficult').text)}\n",
    "        obj_struct = {'name': obj.find('name').text, 'pose': obj.find('occluded').text,\n",
    "                      'truncated': int(obj.find('truncated').text), 'difficult': int(obj.find('difficult').text)}\n",
    "        \n",
    "        bbox = obj.find('bndbox')\n",
    "        obj_struct['bbox'] = [int(float(bbox.find('xmin').text)),\n",
    "                              int(float(bbox.find('ymin').text)),\n",
    "                              int(float(bbox.find('xmax').text)),\n",
    "                              int(float(bbox.find('ymax').text))]\n",
    "        objects.append(obj_struct)\n",
    "    for obj_one in objects:\n",
    "        xmin = int(obj_one['bbox'][0])\n",
    "        ymin = int(obj_one['bbox'][1])\n",
    "        xmax = int(obj_one['bbox'][2])\n",
    "        ymax = int(obj_one['bbox'][3])\n",
    "        label = obj_one['name']\n",
    "        coordinate.append([xmin,ymin,xmax,ymax,label])\n",
    "    return coordinate, img_dir\n",
    " \n",
    " \n",
    "def visualise_gt(objects, img_dir, now_path, font):\n",
    "    \"\"\"可视化\"\"\"\n",
    "    for _, img_path in enumerate(img_dir):\n",
    "        img = Image.open(img_path)\n",
    "        draw = ImageDraw.ImageDraw(img)\n",
    "        for obj in objects:\n",
    "            xmin = obj[0]\n",
    "            ymin = obj[1]\n",
    "            xmax = obj[2]\n",
    "            ymax = obj[3]\n",
    "            label = obj[4]\n",
    "            draw.rectangle(((xmin, ymin), (xmax, ymax)), fill=None, outline=\"red\")\n",
    "            draw.text((xmin + 10, ymin), label, \"blue\", font=font)  # 利用ImageDraw的内置函数，在图片上写入文字\n",
    "            img.save(os.path.join(now_path + '/' + os.path.split(img_path)[-1]))\n",
    "        # img.show(img_path)\n",
    " \n",
    " \n",
    "if __name__ == \"__main__\":\n",
    "    # 图片路径\n",
    "    pic_path = r\"F:\\DualCam\\train\\train\\images\"\n",
    "    # xml文件路径\n",
    "    ann_path = r\"F:\\DualCam\\train\\train\\xml\"\n",
    "    # 解析后存放地址\n",
    "    now_path = r\"F:\\DualCam\\train\\train\\sample\"\n",
    "    # 字体路径\n",
    "    fontPath = r\"..\\..\\其他组件\\simhei.ttf\"\n",
    "    font = ImageFont.truetype(fontPath, 20)\n",
    " \n",
    "    for filename in os.listdir(ann_path):\n",
    "        xml_path = os.path.join(ann_path, filename)\n",
    "        # obj_context：返回一个含有所有标注的信息，img_dir：原始图片路径\n",
    "        obj_context, img_dir = parse_rec(pic_path, xml_path)\n",
    "        # print(\"object:\", obj_context)\n",
    "        # print(\"img_dir:\", img_dir)\n",
    "        visualise_gt(obj_context, img_dir, now_path, font)"
   ]
  },
  {
   "cell_type": "code",
   "execution_count": 6,
   "metadata": {},
   "outputs": [
    {
     "name": "stdout",
     "output_type": "stream",
     "text": [
      "annotation\n"
     ]
    }
   ],
   "source": [
    "from xml.etree.ElementTree import parse\n",
    "\n",
    "f = open(r\"E:\\trafficlight_detect\\light_label\\IMG_20181124_125801.xml\")\n",
    "\n",
    "et = parse(f)\n",
    "root = et.getroot()\n",
    "print(root.tag)"
   ]
  },
  {
   "cell_type": "code",
   "execution_count": 8,
   "metadata": {},
   "outputs": [
    {
     "ename": "TypeError",
     "evalue": "element indices must be integers",
     "output_type": "error",
     "traceback": [
      "\u001b[1;31m---------------------------------------------------------------------------\u001b[0m",
      "\u001b[1;31mTypeError\u001b[0m                                 Traceback (most recent call last)",
      "Cell \u001b[1;32mIn[8], line 1\u001b[0m\n\u001b[1;32m----> 1\u001b[0m root[\u001b[39m\"\u001b[39;49m\u001b[39mannotation\u001b[39;49m\u001b[39m\"\u001b[39;49m]\n",
      "\u001b[1;31mTypeError\u001b[0m: element indices must be integers"
     ]
    }
   ],
   "source": [
    "root"
   ]
  }
 ],
 "metadata": {
  "kernelspec": {
   "display_name": "Python 3",
   "language": "python",
   "name": "python3"
  },
  "language_info": {
   "codemirror_mode": {
    "name": "ipython",
    "version": 3
   },
   "file_extension": ".py",
   "mimetype": "text/x-python",
   "name": "python",
   "nbconvert_exporter": "python",
   "pygments_lexer": "ipython3",
   "version": "3.10.8"
  },
  "orig_nbformat": 4,
  "vscode": {
   "interpreter": {
    "hash": "2457cb1fc7fe65b67a8bfa8297ae36ac15699474b7b28a44eb2505adebb15336"
   }
  }
 },
 "nbformat": 4,
 "nbformat_minor": 2
}
