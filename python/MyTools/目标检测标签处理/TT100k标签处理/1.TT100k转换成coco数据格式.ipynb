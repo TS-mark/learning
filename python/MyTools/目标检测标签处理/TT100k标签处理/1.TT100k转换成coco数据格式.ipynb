{
 "cells": [
  {
   "cell_type": "code",
   "execution_count": 1,
   "id": "26bd3b48",
   "metadata": {},
   "outputs": [],
   "source": [
    "import json\n",
    "import os"
   ]
  },
  {
   "cell_type": "code",
   "execution_count": 14,
   "id": "a7888261",
   "metadata": {},
   "outputs": [
    {
     "data": {
      "text/plain": [
       "'[\"gg\",\"gg\"]'"
      ]
     },
     "execution_count": 14,
     "metadata": {},
     "output_type": "execute_result"
    }
   ],
   "source": [
    "s = \"[\\\"\"\n",
    "s += \"gg\"\n",
    "s += \"\\\",\\\"\" \n",
    "s += \"gg\"\n",
    "s += \"\\\",\\\"\" \n",
    "s = s[:-2]+\"]\"\n",
    "s"
   ]
  },
  {
   "cell_type": "code",
   "execution_count": 4,
   "id": "edf85ea7",
   "metadata": {},
   "outputs": [],
   "source": [
    "file_path = \"z:\\\\enmm\\\\tt100k_2021\"\n",
    "with open(os.path.join(file_path, \"annotations_all.json\")) as oj:\n",
    "    origin_dict = json.load(oj)"
   ]
  },
  {
   "cell_type": "code",
   "execution_count": null,
   "id": "e884d91b",
   "metadata": {},
   "outputs": [],
   "source": []
  },
  {
   "cell_type": "code",
   "execution_count": 20,
   "id": "c570593d",
   "metadata": {},
   "outputs": [],
   "source": [
    "\n",
    "\"\"\"\n",
    "@description  :将TT100K文件转换成coco数据格式\n",
    "---------\n",
    "\"\"\"\n",
    "category = dict()\n",
    "category_num = 0\n",
    "for i in origin_dict[\"imgs\"]:\n",
    "    path = origin_dict[\"imgs\"][i][\"path\"]\n",
    "    path = os.path.join(\"annotation_yolo\",path.replace(\"jpg\", \"txt\"))\n",
    "    objects = []\n",
    "\n",
    "    for k in origin_dict[\"imgs\"][i][\"objects\"]:\n",
    "        temp = []\n",
    "        if k[\"category\"] not in category:\n",
    "            category[k[\"category\"]] = str(category_num)\n",
    "            category_num += 1\n",
    "        temp.append(category[k[\"category\"]])\n",
    "        temp.append(str((k[\"bbox\"][\"xmax\"] + k[\"bbox\"][\"xmin\"])/4096))#x\n",
    "        temp.append(str((k[\"bbox\"][\"ymax\"] + k[\"bbox\"][\"ymin\"])/4096))#y\n",
    "        temp.append(str((k[\"bbox\"][\"xmax\"] - k[\"bbox\"][\"xmin\"])/2048))#w\n",
    "        temp.append(str((k[\"bbox\"][\"ymax\"] - k[\"bbox\"][\"ymin\"])/2048))#h\n",
    "        objects.append(\"\\t\".join(temp))\n",
    "    with open(os.path.join(file_path, path),\"w\") as oj:\n",
    "        oj.write(\"\\n\".join(objects))\n",
    "\n",
    "with open(os.path.join(file_path,\"annotation_yolo\",\"class_num.txt\"), \"w\") as f:\n",
    "    s = \"[\\\"\"\n",
    "    for k in category:\n",
    "        f.write(category[k]+\"\\t\"+k+\"\\n\")\n",
    "        s += k\n",
    "        s += \"\\\",\\\"\" \n",
    "    s = s[:-2] + \"]\"\n",
    "    f.write(s)\n",
    "\n"
   ]
  },
  {
   "cell_type": "code",
   "execution_count": null,
   "id": "64f21c5d",
   "metadata": {},
   "outputs": [],
   "source": []
  },
  {
   "cell_type": "code",
   "execution_count": 4,
   "id": "a4d844aa",
   "metadata": {},
   "outputs": [
    {
     "name": "stdout",
     "output_type": "stream",
     "text": [
      "p5\t0.68017578125\t0.44189453125\t0.0458984375\t0.0498046875\n",
      "w58\t0.67431640625\t0.484375\t0.01025390625\t0.009765625\n",
      "w59\t0.68017578125\t0.49365234375\t0.04345703125\t0.0380859375\n",
      "pg\t0.6396484375\t0.4921875\t0.009765625\t0.0087890625\n"
     ]
    }
   ],
   "source": [
    "if __name__ == \"__main__\":\n",
    "    if \"88586\" in origin_dict[\"imgs\"]:\n",
    "        for k in origin_dict[\"imgs\"][\"88586\"][\"objects\"]:\n",
    "    #         res -= 1\n",
    "    #         if res == 0:\n",
    "            temp = []\n",
    "            temp.append(k[\"category\"])\n",
    "            temp.append(str(k[\"bbox\"][\"xmin\"]/2048))#x\n",
    "            temp.append(str(k[\"bbox\"][\"ymin\"]/2048))#y\n",
    "            temp.append(str((k[\"bbox\"][\"xmax\"]-k[\"bbox\"][\"xmin\"])/2048))#w\n",
    "            temp.append(str((k[\"bbox\"][\"ymax\"]-k[\"bbox\"][\"ymin\"])/2048))#h\n",
    "            print(\"\\t\".join(temp))"
   ]
  },
  {
   "cell_type": "code",
   "execution_count": null,
   "id": "0d3718e4",
   "metadata": {},
   "outputs": [],
   "source": []
  }
 ],
 "metadata": {
  "kernelspec": {
   "display_name": "Python 3",
   "language": "python",
   "name": "python3"
  },
  "language_info": {
   "codemirror_mode": {
    "name": "ipython",
    "version": 3
   },
   "file_extension": ".py",
   "mimetype": "text/x-python",
   "name": "python",
   "nbconvert_exporter": "python",
   "pygments_lexer": "ipython3",
   "version": "3.10.8"
  },
  "vscode": {
   "interpreter": {
    "hash": "2457cb1fc7fe65b67a8bfa8297ae36ac15699474b7b28a44eb2505adebb15336"
   }
  }
 },
 "nbformat": 4,
 "nbformat_minor": 5
}
