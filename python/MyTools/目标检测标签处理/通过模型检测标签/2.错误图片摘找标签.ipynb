{
 "cells": [
  {
   "cell_type": "code",
   "execution_count": 1,
   "metadata": {},
   "outputs": [],
   "source": [
    "# 根据label标签，将图像分拣\n",
    "import shutil\n",
    "import os"
   ]
  },
  {
   "cell_type": "code",
   "execution_count": null,
   "metadata": {},
   "outputs": [],
   "source": []
  },
  {
   "cell_type": "code",
   "execution_count": 2,
   "metadata": {},
   "outputs": [],
   "source": [
    "def look_through_err_pic(label_path, pic_path, gt_path, dir_path):\n",
    "\n",
    "    img_list = os.listdir(pic_path)\n",
    "\n",
    "    for img in img_list:\n",
    "        # now = int(f.split(\".\")[0].split(\"_\")[-1])\n",
    "        txt = img.replace(\".jpg\",\".txt\")\n",
    "        if os.path.exists(os.path.join(label_path, txt)):\n",
    "            shutil.copy(os.path.join(label_path, txt), os.path.join(dir_path\"/gt\", txt))\n",
    "        elif os.path.exists(os.path.join(dir_path, img)):\n",
    "            print(\"file {} has already moved\".format(os.path.join(dir_path, img)))\n",
    "        else:\n",
    "            print(\"label {},its image {} not exists\".format(os.path.join(label_path,f), os.path.join(pic_path, img)))\n",
    "\n",
    "\n",
    "        if now - last == 1:\n",
    "            continuous += 1\n",
    "            if continuous == 2 and os.path.exists(os.path.join(pic_path,img.replace(img.split(\".\")[0].split(\"_\")[-1],str(last-continuous)))):\n",
    "                shutil.move(os.path.join(pic_path,img.replace(img.split(\".\")[0].split(\"_\")[-1],str(last-continuous))),\n",
    "                            os.path.join(dir_path,img.replace(img.split(\".\")[0].split(\"_\")[-1],str(last-continuous))))\n",
    "        else:\n",
    "            continuous = 0\n",
    "        \n",
    "        last = now\n",
    "        \n",
    "        # t_file = os.path.join(ori_path, f)\n",
    "        # if os.path.isdir(t_file):\n",
    "        #     movefile(t_file,dir_path)\n",
    "        #     print(t_file)\n",
    "        # else:\n",
    "        #     if t_file.endswith(\".jpg\"):\n",
    "        #         shutil.move(t_file,pic_path)\n",
    "        #     elif t_file.endswith(\".json\"):\n",
    "        #         shutil.move(t_file,label_path)\n",
    "        #         # print(\"gg\")\n",
    "        \n",
    "            "
   ]
  },
  {
   "cell_type": "code",
   "execution_count": 4,
   "metadata": {},
   "outputs": [],
   "source": [
    "pred_path = r\"E:\\yolov5-7.0\\runs\\val\\exp94\\labels\" # 标签位置\n",
    "pic_path = r\"E:\\yolov5-7.0\\runs\\val\\exp94\\wrong_pic\" # 目标待标注图片的位置\n",
    "gt_path = r\"E:\\datasets\\TLD_train5\\labels\\test\"\n",
    "dir_path = r\"E:\\yolov5-7.0\\runs\\val\\exp94\\wrong_pic\" # 保存位置\n",
    "if not os.path.exists(dir_path):\n",
    "    os.makedirs(dir_path)\n",
    "\n",
    "look_through_err_pic(pred_path, pic_path, gt_path, dir_path)"
   ]
  },
  {
   "cell_type": "code",
   "execution_count": 15,
   "metadata": {},
   "outputs": [
    {
     "data": {
      "text/plain": [
       "'2022830_21-18-41_0_113.txt'"
      ]
     },
     "execution_count": 15,
     "metadata": {},
     "output_type": "execute_result"
    }
   ],
   "source": [
    "# f_list = os.listdir(label_path)\n",
    "# # f_list\n",
    "# img.replace(img.split(\".\")[0].split(\"_\")[-1],str(last-continuous))"
   ]
  },
  {
   "cell_type": "code",
   "execution_count": null,
   "metadata": {},
   "outputs": [],
   "source": []
  }
 ],
 "metadata": {
  "kernelspec": {
   "display_name": "Python 3",
   "language": "python",
   "name": "python3"
  },
  "language_info": {
   "codemirror_mode": {
    "name": "ipython",
    "version": 3
   },
   "file_extension": ".py",
   "mimetype": "text/x-python",
   "name": "python",
   "nbconvert_exporter": "python",
   "pygments_lexer": "ipython3",
   "version": "3.10.8"
  },
  "orig_nbformat": 4
 },
 "nbformat": 4,
 "nbformat_minor": 2
}
