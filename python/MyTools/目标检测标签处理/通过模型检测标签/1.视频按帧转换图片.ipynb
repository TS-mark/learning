{
 "cells": [
  {
   "cell_type": "code",
   "execution_count": 1,
   "id": "82e7fbb4",
   "metadata": {},
   "outputs": [],
   "source": [
    "# 批量按帧截图\n",
    "# 将一个文件夹下的所有.mp4视频文件转换为图片\n",
    "import cv2\n",
    "import numpy as np\n",
    "import os\n",
    "\n",
    "file_dir_list = [\n",
    "    \n",
    "            # r\"Z:\\datasets\\ori_video\\20230524+小雨+上午到晚上一天\",\n",
    "            # r\"Z:\\datasets\\ori_video\\20230525+晴天+一天采集数据量\",\n",
    "            # r\"Z:\\datasets\\ori_video\\20230522\"\n",
    "            r\"Z:\\datasets\\20230724SunnyLane2Day\"\n",
    "            # r\"Z:\\datasets\\ori_video\\byd_camera_out_49\",\n",
    "            # r\"Z:\\datasets\\ori_video\\byd_camera_out_48\"\n",
    "            ]\n",
    "picsave_dir = r\"G:\\to_be_detected\"\n",
    "if not os.path.exists(picsave_dir):\n",
    "    os.makedirs(picsave_dir)\n",
    "timeF = 150 # 间隔多少帧保存\n",
    "\n",
    "for file_dir in file_dir_list:\n",
    "    file_list = os.listdir(file_dir)\n",
    "\n",
    "    for f in file_list:\n",
    "        # 读取视频文件 视频文件路径\n",
    "        if not f.endswith(\".mp4\"):\n",
    "            continue\n",
    "        videoCapture = cv2.VideoCapture(os.path.join(file_dir, f))\n",
    "        # 读帧\n",
    "        success, frame = videoCapture.read()\n",
    "        i, j = 0, 0\n",
    "        while success:\n",
    "            i = i + 1\n",
    "            if (i % timeF == 0):\n",
    "                j = j + 1\n",
    "                save_path = os.path.join(picsave_dir,f.replace(\".mp4\",\"_{}.jpg\".format(j)))\n",
    "                cv2.imwrite(save_path, frame) #视频截成图片存放的位置\n",
    "                # print('save image:', save_path)\n",
    "            success, frame = videoCapture.read()"
   ]
  }
 ],
 "metadata": {
  "kernelspec": {
   "display_name": "Python 3",
   "language": "python",
   "name": "python3"
  },
  "language_info": {
   "codemirror_mode": {
    "name": "ipython",
    "version": 3
   },
   "file_extension": ".py",
   "mimetype": "text/x-python",
   "name": "python",
   "nbconvert_exporter": "python",
   "pygments_lexer": "ipython3",
   "version": "3.10.8"
  },
  "vscode": {
   "interpreter": {
    "hash": "2457cb1fc7fe65b67a8bfa8297ae36ac15699474b7b28a44eb2505adebb15336"
   }
  }
 },
 "nbformat": 4,
 "nbformat_minor": 5
}
