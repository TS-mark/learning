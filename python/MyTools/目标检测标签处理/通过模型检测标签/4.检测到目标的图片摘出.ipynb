{
 "cells": [
  {
   "cell_type": "code",
   "execution_count": 1,
   "metadata": {},
   "outputs": [],
   "source": [
    "# 根据label标签，将图像分拣\n",
    "import shutil\n",
    "import os"
   ]
  },
  {
   "cell_type": "code",
   "execution_count": 2,
   "metadata": {},
   "outputs": [],
   "source": [
    "def move_detected_file(label_path, pic_path, dir_path):\n",
    "\n",
    "    f_list = os.listdir(label_path)\n",
    "    last = -99\n",
    "    now = 0\n",
    "    continuous = 0 # 连续的数值\n",
    "    for f in f_list:\n",
    "        now = int(f.split(\".\")[0].split(\"_\")[-1])\n",
    "        img = f.replace(\".txt\",\".jpg\")\n",
    "        if os.path.exists(os.path.join(pic_path, img)):\n",
    "            \n",
    "            shutil.move(os.path.join(pic_path, img), os.path.join(dir_path, img))\n",
    "        elif os.path.exists(os.path.join(dir_path, img)):\n",
    "            print(\"file {} has already moved\".format(os.path.join(dir_path, img)))\n",
    "        else:\n",
    "            print(\"label {},its image {} not exists\".format(os.path.join(label_path,f), os.path.join(pic_path, img)))\n",
    "\n",
    "\n",
    "        if now - last == 1:\n",
    "            continuous += 1\n",
    "            if continuous == 2 and os.path.exists(os.path.join(pic_path,img.replace(img.split(\".\")[0].split(\"_\")[-1],str(last-continuous)))):\n",
    "                shutil.move(os.path.join(pic_path,img.replace(img.split(\".\")[0].split(\"_\")[-1],str(last-continuous))),\n",
    "                            os.path.join(dir_path,img.replace(img.split(\".\")[0].split(\"_\")[-1],str(last-continuous))))\n",
    "        else:\n",
    "            continuous = 0\n",
    "        \n",
    "        last = now\n",
    "        \n",
    "        # t_file = os.path.join(ori_path, f)\n",
    "        # if os.path.isdir(t_file):\n",
    "        #     movefile(t_file,dir_path)\n",
    "        #     print(t_file)\n",
    "        # else:\n",
    "        #     if t_file.endswith(\".jpg\"):\n",
    "        #         shutil.move(t_file,pic_path)\n",
    "        #     elif t_file.endswith(\".json\"):\n",
    "        #         shutil.move(t_file,label_path)\n",
    "        #         # print(\"gg\")\n",
    "        \n",
    "            "
   ]
  },
  {
   "cell_type": "code",
   "execution_count": 4,
   "metadata": {},
   "outputs": [],
   "source": [
    "label_path = r\"F:\\datasets\\TLD_train2\\labels\\detected_labels\" # 标签位置\n",
    "pic_path = r\"F:\\datasets\\TLD_train2\\images\\test\" # 目标待标注图片的位置\n",
    "dir_path = r\"F:\\datasets\\TLD_train2\\labels\\labels_json\" # 保存位置\n",
    "if not os.path.exists(dir_path):\n",
    "    os.makedirs(dir_path)\n",
    "\n",
    "move_detected_file(label_path, pic_path, dir_path)"
   ]
  },
  {
   "cell_type": "code",
   "execution_count": 15,
   "metadata": {},
   "outputs": [
    {
     "data": {
      "text/plain": [
       "'2022830_21-18-41_0_113.txt'"
      ]
     },
     "execution_count": 15,
     "metadata": {},
     "output_type": "execute_result"
    }
   ],
   "source": [
    "# f_list = os.listdir(label_path)\n",
    "# # f_list\n",
    "# img.replace(img.split(\".\")[0].split(\"_\")[-1],str(last-continuous))"
   ]
  },
  {
   "cell_type": "code",
   "execution_count": null,
   "metadata": {},
   "outputs": [],
   "source": []
  }
 ],
 "metadata": {
  "kernelspec": {
   "display_name": "Python 3",
   "language": "python",
   "name": "python3"
  },
  "language_info": {
   "codemirror_mode": {
    "name": "ipython",
    "version": 3
   },
   "file_extension": ".py",
   "mimetype": "text/x-python",
   "name": "python",
   "nbconvert_exporter": "python",
   "pygments_lexer": "ipython3",
   "version": "3.10.8"
  },
  "orig_nbformat": 4
 },
 "nbformat": 4,
 "nbformat_minor": 2
}
