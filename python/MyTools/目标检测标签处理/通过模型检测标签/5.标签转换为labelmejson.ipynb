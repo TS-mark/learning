{
 "cells": [
  {
   "cell_type": "code",
   "execution_count": 5,
   "metadata": {},
   "outputs": [],
   "source": [
    "import json\n",
    "import pandas as pd\n",
    "import os"
   ]
  },
  {
   "cell_type": "code",
   "execution_count": 6,
   "metadata": {},
   "outputs": [],
   "source": [
    "label_path = r\"E:\\yolov5-7.0\\runs\\val\\ggwp\\gt_label\"\n",
    "list_label = os.listdir(label_path)"
   ]
  },
  {
   "cell_type": "code",
   "execution_count": null,
   "metadata": {},
   "outputs": [],
   "source": []
  },
  {
   "cell_type": "code",
   "execution_count": 8,
   "metadata": {},
   "outputs": [],
   "source": [
    "# list_label"
   ]
  },
  {
   "attachments": {},
   "cell_type": "markdown",
   "metadata": {},
   "source": [
    "<!-- ssh -p 4438 root@10.8.5.43 -->\n"
   ]
  },
  {
   "cell_type": "code",
   "execution_count": 3,
   "metadata": {},
   "outputs": [],
   "source": [
    "a = pd.read_csv(r\"Z:\\datasets\\交通灯标签2.txt\", header = None)\n",
    "label_dir = zip(a.index,a[0])\n",
    "label_dir = {k: v for k, v in label_dir}\n",
    "if not os.path.exists(os.path.dirname(label_path) + \"/labels_json\"):\n",
    "    os.makedirs(os.path.dirname(label_path) + \"/labels_json\")\n",
    "for bb in list_label:\n",
    "    if bb.endswith(\".txt\"):\n",
    "        with open(os.path.join(label_path,bb), \"r\") as f:\n",
    "            label_list = []\n",
    "            for i in f.readlines():\n",
    "                ls = i.split(\" \")\n",
    "                temp_dir = {\n",
    "                    \"label\": label_dir[int(ls[0])],\n",
    "                    \"points\": [\n",
    "                        [\n",
    "                            (float(ls[1])-float(ls[3])/2)*1920,\n",
    "                            (float(ls[2])-float(ls[4])/2)*1080\n",
    "                        ],\n",
    "                        [\n",
    "                            (float(ls[1])+float(ls[3])/2)*1920,\n",
    "                            (float(ls[2])+float(ls[4])/2)*1080\n",
    "                        ]\n",
    "                    ],\n",
    "                    \"group_id\":None,\n",
    "                    \"shape_type\":\"rectangle\",\n",
    "                    \"flags\":{}\n",
    "                }\n",
    "                label_list.append(temp_dir)\n",
    "                \n",
    "        js =  {\n",
    "        \"version\": \"5.0.1\",\n",
    "        \"flags\": {},\n",
    "        \"shapes\": label_list,\n",
    "        \"imagePath\": bb.replace(\".txt\", \".jpg\"),\n",
    "        \"imageData\": None ,\n",
    "        \"imageHeight\": 1080,\n",
    "        \"imageWidth\": 1920\n",
    "        }\n",
    "        with open(os.path.dirname(label_path) + \"/labels_json/{}\".format(bb.replace(\"txt\", \"json\")), \"w\") as f:\n",
    "            json.dump(js, f, indent=4)\n"
   ]
  },
  {
   "cell_type": "code",
   "execution_count": null,
   "metadata": {},
   "outputs": [],
   "source": []
  }
 ],
 "metadata": {
  "kernelspec": {
   "display_name": "Python 3",
   "language": "python",
   "name": "python3"
  },
  "language_info": {
   "codemirror_mode": {
    "name": "ipython",
    "version": 3
   },
   "file_extension": ".py",
   "mimetype": "text/x-python",
   "name": "python",
   "nbconvert_exporter": "python",
   "pygments_lexer": "ipython3",
   "version": "3.10.8"
  },
  "orig_nbformat": 4
 },
 "nbformat": 4,
 "nbformat_minor": 2
}
