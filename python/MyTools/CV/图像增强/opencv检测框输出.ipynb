{
 "cells": [
  {
   "attachments": {},
   "cell_type": "markdown",
   "metadata": {},
   "source": [
    "### 代码流程：\n",
    "yolov5画框框\n",
    "先读取标签 -> 标签转换为xyxy -> 画个透明框(输入图像，标签) -> 输出，透明框作为GT"
   ]
  },
  {
   "cell_type": "code",
   "execution_count": 1,
   "metadata": {},
   "outputs": [],
   "source": [
    "# 画个透明框，xyxy，color\n",
    "# 将处理后的视频保存为output.avi文件\n",
    "import cv2  # OpenCV\n",
    "import numpy as np\n",
    "import os\n",
    "# import matplotlib.pyplot as plt\n",
    "import pandas as pd\n",
    "\n",
    "\n",
    "\n",
    "def drawTransparentRectangle(file_path, save_path, ob_list, label_name, color = (255,255,255), style = -1):\n",
    "    img = cv2.imread(file_path)\n",
    "    res = img\n",
    "    for ob in ob_list:\n",
    "        zeros = np.zeros((img.shape), dtype = np.uint8)\n",
    "        cv2.rectangle(zeros, (ob[0],ob[1]), (ob[2], ob[3]), color, style)\n",
    "        \n",
    "        res = res + zeros*0.4\n",
    "        res[res>255] = 255\n",
    "        cv2.putText(res, ob[4], (ob[0],ob[1]-5), cv2.FONT_HERSHEY_SIMPLEX, 1, color, 1)\n",
    "    # print(ob)\n",
    "    cv2.imwrite(save_path, res)\n",
    "\n",
    "def drawDefaultRectangle(file_path, save_path, ob_list, label_name, color = (255,0,0), style = 1):\n",
    "    img = cv2.imread(file_path)\n",
    "    res = img\n",
    "    for ob in ob_list:\n",
    "        cv2.rectangle(res, (ob[0],ob[1]), (ob[2], ob[3]), color, style)\n",
    "        cv2.putText(res, ob[4], (ob[2],ob[3]-5), cv2.FONT_HERSHEY_SIMPLEX, 1, color, 1)\n",
    "    # print(ob)\n",
    "    cv2.imwrite(save_path, res)\n",
    "\n",
    "    \n",
    "# yolov5的框xyxy\n",
    "def draw_from_label(img_path, label_path, save_path, label_name, img_width = 1920, img_height = 1080, draw_type = drawTransparentRectangle):\n",
    "    des_rec = []\n",
    "    with open(label_path, \"r\") as f:\n",
    "        for i in f.readlines():\n",
    "            temp = i.split(\" \")\n",
    "            label = label_name[int(temp[0])]\n",
    "            tempx_min = int((float(temp[1]) - 0.5*float(temp[3])) * img_width)\n",
    "            tempx_max = int((float(temp[1]) + 0.5*float(temp[3])) * img_width)\n",
    "            tempy_min = int((float(temp[2]) - 0.5*float(temp[4])) * img_height)\n",
    "            tempy_max = int((float(temp[2]) + 0.5*float(temp[4])) * img_height)\n",
    "            des_rec.append([tempx_min, tempy_min, tempx_max, tempy_max, label])\n",
    "            \n",
    "        draw_type(img_path, save_path, des_rec, label)\n",
    "            \n",
    "            \n"
   ]
  },
  {
   "cell_type": "code",
   "execution_count": 2,
   "metadata": {},
   "outputs": [],
   "source": [
    "# def add(a,b):\n",
    "#     return a+b\n",
    "\n",
    "# def do(a,b,c = add):\n",
    "#     return c(a,b)\n",
    "\n",
    "# do(5,2,add)"
   ]
  },
  {
   "cell_type": "code",
   "execution_count": 3,
   "metadata": {},
   "outputs": [
    {
     "ename": "error",
     "evalue": "OpenCV(4.6.0) D:\\a\\opencv-python\\opencv-python\\opencv\\modules\\imgcodecs\\src\\loadsave.cpp:801: error: (-215:Assertion failed) !_img.empty() in function 'cv::imwrite'\n",
     "output_type": "error",
     "traceback": [
      "\u001b[1;31m---------------------------------------------------------------------------\u001b[0m",
      "\u001b[1;31merror\u001b[0m                                     Traceback (most recent call last)",
      "Cell \u001b[1;32mIn[3], line 20\u001b[0m\n\u001b[0;32m     17\u001b[0m lb \u001b[39m=\u001b[39m img\u001b[39m.\u001b[39mreplace(\u001b[39m\"\u001b[39m\u001b[39mjpg\u001b[39m\u001b[39m\"\u001b[39m,\u001b[39m\"\u001b[39m\u001b[39mtxt\u001b[39m\u001b[39m\"\u001b[39m) \u001b[39mif\u001b[39;00m img\u001b[39m.\u001b[39mendswith(\u001b[39m\"\u001b[39m\u001b[39m.jpg\u001b[39m\u001b[39m\"\u001b[39m) \u001b[39melse\u001b[39;00m img\u001b[39m.\u001b[39mreplace(\u001b[39m\"\u001b[39m\u001b[39mpng\u001b[39m\u001b[39m\"\u001b[39m, \u001b[39m\"\u001b[39m\u001b[39mtxt\u001b[39m\u001b[39m\"\u001b[39m)\n\u001b[0;32m     18\u001b[0m \u001b[39mif\u001b[39;00m os\u001b[39m.\u001b[39mpath\u001b[39m.\u001b[39mexists(os\u001b[39m.\u001b[39mpath\u001b[39m.\u001b[39mjoin(label_path,lb)):\n\u001b[0;32m     19\u001b[0m     \u001b[39m#画检测出来的\u001b[39;00m\n\u001b[1;32m---> 20\u001b[0m     draw_from_label(os\u001b[39m.\u001b[39;49mpath\u001b[39m.\u001b[39;49mjoin(img_path,img),os\u001b[39m.\u001b[39;49mpath\u001b[39m.\u001b[39;49mjoin(label_path,lb),os\u001b[39m.\u001b[39;49mpath\u001b[39m.\u001b[39;49mjoin(save_path,img),label_name, draw_type\u001b[39m=\u001b[39;49mdrawDefaultRectangle)\n\u001b[0;32m     21\u001b[0m \u001b[39m# if os.path.exists(os.path.join(gt_path,lb)):\u001b[39;00m\n\u001b[0;32m     22\u001b[0m \u001b[39m#     #画gt框\u001b[39;00m\n\u001b[0;32m     23\u001b[0m \u001b[39m#     draw_from_label(os.path.join(save_path,img),os.path.join(gt_path,lb),os.path.join(save_path,img), label_name)\u001b[39;00m\n",
      "Cell \u001b[1;32mIn[1], line 47\u001b[0m, in \u001b[0;36mdraw_from_label\u001b[1;34m(img_path, label_path, save_path, label_name, img_width, img_height, draw_type)\u001b[0m\n\u001b[0;32m     44\u001b[0m     tempy_max \u001b[39m=\u001b[39m \u001b[39mint\u001b[39m((\u001b[39mfloat\u001b[39m(temp[\u001b[39m2\u001b[39m]) \u001b[39m+\u001b[39m \u001b[39m0.5\u001b[39m\u001b[39m*\u001b[39m\u001b[39mfloat\u001b[39m(temp[\u001b[39m4\u001b[39m])) \u001b[39m*\u001b[39m img_height)\n\u001b[0;32m     45\u001b[0m     des_rec\u001b[39m.\u001b[39mappend([tempx_min, tempy_min, tempx_max, tempy_max, label])\n\u001b[1;32m---> 47\u001b[0m draw_type(img_path, save_path, des_rec, label)\n",
      "Cell \u001b[1;32mIn[1], line 31\u001b[0m, in \u001b[0;36mdrawDefaultRectangle\u001b[1;34m(file_path, save_path, ob_list, label_name, color, style)\u001b[0m\n\u001b[0;32m     29\u001b[0m     cv2\u001b[39m.\u001b[39mputText(res, ob[\u001b[39m4\u001b[39m], (ob[\u001b[39m2\u001b[39m],ob[\u001b[39m3\u001b[39m]\u001b[39m-\u001b[39m\u001b[39m5\u001b[39m), cv2\u001b[39m.\u001b[39mFONT_HERSHEY_SIMPLEX, \u001b[39m1\u001b[39m, color, \u001b[39m1\u001b[39m)\n\u001b[0;32m     30\u001b[0m \u001b[39m# print(ob)\u001b[39;00m\n\u001b[1;32m---> 31\u001b[0m cv2\u001b[39m.\u001b[39;49mimwrite(save_path, res)\n",
      "\u001b[1;31merror\u001b[0m: OpenCV(4.6.0) D:\\a\\opencv-python\\opencv-python\\opencv\\modules\\imgcodecs\\src\\loadsave.cpp:801: error: (-215:Assertion failed) !_img.empty() in function 'cv::imwrite'\n"
     ]
    }
   ],
   "source": [
    "if __name__ == \"__main__\":\n",
    "    img_path = r\"./temp\"\n",
    "    label_path = r\"./temp\"\n",
    "    ## ground truth\n",
    "    gt_path = r\"E:\\yolov5-7.0\\runs\\val\\ggwp4\\gt_label\"\n",
    "    save_path = r\"./res\"\n",
    "    label_name_path = r\"z:\\datasets\\交通灯标签2.txt\"\n",
    "    label_namePD = pd.read_csv(label_name_path, header=None)\n",
    "    label_name = list(label_namePD[0])\n",
    "\n",
    "    if not os.path.exists(save_path):\n",
    "        os.makedirs(save_path)\n",
    "    ed = 2\n",
    "    img_list = os.listdir(img_path)\n",
    "    for img in img_list:\n",
    "        \n",
    "        lb = img.replace(\"jpg\",\"txt\") if img.endswith(\".jpg\") else img.replace(\"png\", \"txt\")\n",
    "        if os.path.exists(os.path.join(label_path,lb)):\n",
    "            #画检测出来的\n",
    "            draw_from_label(os.path.join(img_path,img),os.path.join(label_path,lb),os.path.join(save_path,img),label_name, draw_type=drawDefaultRectangle)\n",
    "        # if os.path.exists(os.path.join(gt_path,lb)):\n",
    "        #     #画gt框\n",
    "        #     draw_from_label(os.path.join(save_path,img),os.path.join(gt_path,lb),os.path.join(save_path,img), label_name)\n"
   ]
  },
  {
   "cell_type": "code",
   "execution_count": null,
   "metadata": {},
   "outputs": [],
   "source": []
  }
 ],
 "metadata": {
  "kernelspec": {
   "display_name": "Python 3",
   "language": "python",
   "name": "python3"
  },
  "language_info": {
   "codemirror_mode": {
    "name": "ipython",
    "version": 3
   },
   "file_extension": ".py",
   "mimetype": "text/x-python",
   "name": "python",
   "nbconvert_exporter": "python",
   "pygments_lexer": "ipython3",
   "version": "3.10.8"
  },
  "orig_nbformat": 4
 },
 "nbformat": 4,
 "nbformat_minor": 2
}
