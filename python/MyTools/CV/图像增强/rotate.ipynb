{
 "cells": [
  {
   "cell_type": "code",
   "execution_count": null,
   "metadata": {},
   "outputs": [],
   "source": []
  },
  {
   "cell_type": "code",
   "execution_count": 1,
   "metadata": {},
   "outputs": [
    {
     "name": "stdout",
     "output_type": "stream",
     "text": [
      "[[0.410417 0.234259]\n",
      " [0.45651  0.232407]\n",
      " [0.678646 0.299074]\n",
      " [0.702604 0.300926]\n",
      " [0.653125 0.297222]\n",
      " [0.457031 0.605556]\n",
      " [0.432812 0.606944]] 0.5\n",
      "./images/rotate_7.jpg ./labels/rotate_7.txt\n",
      "[[8.00000000e+00 4.25479165e-01 2.29648307e-01 2.81250000e-02\n",
      "  1.85190000e-02 0.00000000e+00]\n",
      " [8.00000000e+00 4.71603437e-01 2.30387261e-01 1.09370000e-02\n",
      "  2.40740000e-02 0.00000000e+00]\n",
      " [0.00000000e+00 6.89645784e-01 3.09421598e-01 1.56250000e-02\n",
      "  1.11110000e-02 0.00000000e+00]\n",
      " [0.00000000e+00 7.13462003e-01 3.12615872e-01 1.45830000e-02\n",
      "  1.11110000e-02 0.00000000e+00]\n",
      " [0.00000000e+00 6.64269031e-01 3.06139565e-01 1.56250000e-02\n",
      "  1.11110000e-02 0.00000000e+00]\n",
      " [1.40000000e+01 4.51172020e-01 6.02976854e-01 9.89600000e-03\n",
      "  1.29630000e-02 0.00000000e+00]\n",
      " [1.00000000e+01 4.26913293e-01 6.03002814e-01 1.77080000e-02\n",
      "  1.57410000e-02 0.00000000e+00]]\n"
     ]
    }
   ],
   "source": [
    "import cv2\n",
    "import numpy as np\n",
    "import random\n",
    "import os\n",
    "\n",
    "def rotate_image(image, angle):\n",
    "    height, width = image.shape[:2]\n",
    "    center = (width // 2, height // 2)\n",
    "    rotation_matrix = cv2.getRotationMatrix2D(center, angle, 1.0)\n",
    "    rotated_image = cv2.warpAffine(image, rotation_matrix, (width, height), flags=cv2.INTER_NEAREST)\n",
    "    return rotated_image\n",
    "\n",
    "def rotate_boxes(boxes, angle, center):\n",
    "    radians = np.radians(angle)\n",
    "    rotation_matrix = np.array([[np.cos(radians), -np.sin(radians)],\n",
    "                                [np.sin(radians), np.cos(radians)]])\n",
    "\n",
    "    # 添加一列用于存储类别信息\n",
    "    boxes_with_cls = np.column_stack([boxes, np.zeros(boxes.shape[0])])\n",
    "\n",
    "    # 将目标框坐标转换为相对于图像中心的坐标\n",
    "    print(boxes_with_cls[:, 1:3],0.5)\n",
    "    relative_boxes = boxes_with_cls[:, 1:3] - 0.5\n",
    "    \n",
    "    # 进行坐标旋转\n",
    "    rotated_boxes = np.dot(relative_boxes, rotation_matrix.T)\n",
    "\n",
    "    # 将坐标转换回原始坐标系\n",
    "    rotated_boxes += 0.5\n",
    "\n",
    "    rotated_boxes[rotated_boxes<0] = 0\n",
    "    # print(rotated_boxes)\n",
    "    # 更新目标框坐标\n",
    "    boxes_with_cls[:, 1:3] = rotated_boxes\n",
    "    \n",
    "    return boxes_with_cls\n",
    "\n",
    "\n",
    "\n",
    "def get_filename(path, name):\n",
    "    tep = os.listdir(path)\n",
    "    index = len(tep)\n",
    "    while(1):\n",
    "        if name + \"_\" + str(index)+\".jpg\" in tep or name + \"_\" + str(index)+\".txt\" in tep:\n",
    "            index += 1\n",
    "        else:\n",
    "            return name + \"_\" + str(index)\n",
    "\n",
    "\n",
    "def random_rotate(image, boxes, max_angle=6):\n",
    "    height, width = image.shape[:2]\n",
    "    center = (width // 2, height // 2)\n",
    "    angle = random.uniform(-max_angle, max_angle)\n",
    "    rotated_image = rotate_image(image, angle)\n",
    "    rotated_boxes = rotate_boxes(boxes, angle, center)\n",
    "    return rotated_image, rotated_boxes\n",
    "\n",
    "def rotate_augmentation(image_path,label_path,save_pic_path,save_label_path):\n",
    "    # 读取图像和标签\n",
    "    image = cv2.imread(image_path)\n",
    "    boxes = np.loadtxt(label_path, dtype=float)\n",
    "    if boxes.ndim == 1:\n",
    "        boxes=boxes.reshape(1,-1)\n",
    "\n",
    "    # 进行随机旋转增强\n",
    "    rotated_image, rotate_boxes = random_rotate(image, boxes)\n",
    "    f_name = get_filename(save_pic_path, \"rotate\")\n",
    "\n",
    "    save_pic_path = os.path.join(save_pic_path,f_name+\".jpg\")\n",
    "    save_label_path = os.path.join(save_label_path, f_name+\".txt\")\n",
    "\n",
    "    cv2.imwrite(save_pic_path, rotated_image)\n",
    "    with open(save_label_path,\"w\") as f:\n",
    "        # 绘制修正后的检测框\n",
    "        for boxes in rotate_boxes:  \n",
    "            c,x,y,w,h,_ = boxes\n",
    "            f.write(\"{} {:.6f} {:.6f} {:.6f} {:.6f}\\n\".format(int(c),x,y,w,h))\n",
    "\n",
    "# \"\"\"example\"\"\"\n",
    "# rotate_augmentation('example.jpg','example.txt','./images/','./labels/')"
   ]
  },
  {
   "cell_type": "code",
   "execution_count": null,
   "metadata": {},
   "outputs": [],
   "source": []
  },
  {
   "cell_type": "code",
   "execution_count": 24,
   "metadata": {},
   "outputs": [
    {
     "name": "stdout",
     "output_type": "stream",
     "text": [
      "[[ 3  6]\n",
      " [ 7 14]\n",
      " [ 9 18]]\n"
     ]
    }
   ],
   "source": [
    "import numpy as np\n",
    "\n",
    "# 给定的数组\n",
    "array_a = np.array([[1, 2], [3, 4], [4, 5]])\n",
    "array_b = np.array([[1, 1], [2, 2]])\n",
    "\n",
    "# 对每一行执行点乘操作\n",
    "result = np.dot(array_a, array_b.T)\n",
    "\n",
    "# 输出结果\n",
    "print(result)\n"
   ]
  }
 ],
 "metadata": {
  "kernelspec": {
   "display_name": "Python 3",
   "language": "python",
   "name": "python3"
  },
  "language_info": {
   "codemirror_mode": {
    "name": "ipython",
    "version": 3
   },
   "file_extension": ".py",
   "mimetype": "text/x-python",
   "name": "python",
   "nbconvert_exporter": "python",
   "pygments_lexer": "ipython3",
   "version": "3.10.8"
  },
  "orig_nbformat": 4
 },
 "nbformat": 4,
 "nbformat_minor": 2
}
