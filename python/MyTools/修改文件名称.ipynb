{
 "cells": [
  {
   "cell_type": "code",
   "execution_count": 8,
   "metadata": {},
   "outputs": [],
   "source": [
    "import os\n",
    "from shutil import copyfile"
   ]
  },
  {
   "attachments": {},
   "cell_type": "markdown",
   "metadata": {},
   "source": [
    "## 修改文件名称，作用：使相同文件目录下的文件名称增加"
   ]
  },
  {
   "cell_type": "code",
   "execution_count": 6,
   "metadata": {},
   "outputs": [],
   "source": [
    "file_path = r\"z:/enmm/exc_out\"\n",
    "file_list = os.listdir(file_path)\n",
    "save_path = r\"z:/enmm/res\"\n",
    "endl = \".yuv\"\n",
    "\n",
    "# os.makedirs(save_path)\n"
   ]
  },
  {
   "cell_type": "code",
   "execution_count": 9,
   "metadata": {},
   "outputs": [],
   "source": [
    "file_seq = 4001\n",
    "for f in file_list:\n",
    "    if f.endswith(endl):\n",
    "        for _ in range(10):\n",
    "            file_name = str(file_seq) + endl\n",
    "            file_seq += 1\n",
    "            copyfile(os.path.join(file_path,f),os.path.join(save_path,file_name))"
   ]
  },
  {
   "cell_type": "code",
   "execution_count": 3,
   "metadata": {},
   "outputs": [
    {
     "data": {
      "text/plain": [
       "['narrow_t1_018.yuv',\n",
       " 'narrow_t1_106.yuv',\n",
       " 'narrow_t1_160.yuv',\n",
       " 'narrow_t1_234.yuv',\n",
       " 'narrow_t1_284.yuv',\n",
       " 'narrow_t2_024.yuv',\n",
       " 'narrow_t2_080.yuv',\n",
       " 'narrow_t2_100.yuv',\n",
       " 'narrow_t2_121.yuv',\n",
       " 'narrow_t2_146.yuv',\n",
       " 'narrow_t2_220.yuv',\n",
       " 'narrow_t2_259.yuv',\n",
       " 'narrow_t2_376.yuv',\n",
       " 'narrow_t2_382.yuv',\n",
       " 'narrow_t2_454.yuv',\n",
       " 'wide_t1_018.yuv',\n",
       " 'wide_t1_106.yuv',\n",
       " 'wide_t1_160.yuv',\n",
       " 'wide_t1_234.yuv',\n",
       " 'wide_t1_284.yuv',\n",
       " 'wide_t2_024.yuv',\n",
       " 'wide_t2_080.yuv',\n",
       " 'wide_t2_100.yuv',\n",
       " 'wide_t2_121.yuv',\n",
       " 'wide_t2_146.yuv',\n",
       " 'wide_t2_220.yuv',\n",
       " 'wide_t2_259.yuv',\n",
       " 'wide_t2_376.yuv',\n",
       " 'wide_t2_382.yuv',\n",
       " 'wide_t2_454.yuv']"
      ]
     },
     "execution_count": 3,
     "metadata": {},
     "output_type": "execute_result"
    }
   ],
   "source": [
    "file_list"
   ]
  },
  {
   "cell_type": "code",
   "execution_count": 4,
   "metadata": {},
   "outputs": [
    {
     "data": {
      "text/plain": [
       "False"
      ]
     },
     "execution_count": 4,
     "metadata": {},
     "output_type": "execute_result"
    }
   ],
   "source": [
    "file_list[0].endswith(\".*\")"
   ]
  }
 ],
 "metadata": {
  "kernelspec": {
   "display_name": "Python 3",
   "language": "python",
   "name": "python3"
  },
  "language_info": {
   "codemirror_mode": {
    "name": "ipython",
    "version": 3
   },
   "file_extension": ".py",
   "mimetype": "text/x-python",
   "name": "python",
   "nbconvert_exporter": "python",
   "pygments_lexer": "ipython3",
   "version": "3.10.8"
  },
  "orig_nbformat": 4
 },
 "nbformat": 4,
 "nbformat_minor": 2
}
