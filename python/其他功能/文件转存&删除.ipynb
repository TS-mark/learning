{
 "cells": [
  {
   "cell_type": "code",
   "execution_count": null,
   "metadata": {},
   "outputs": [],
   "source": [
    "import os\n",
    "import shutil\n"
   ]
  },
  {
   "cell_type": "code",
   "execution_count": null,
   "metadata": {},
   "outputs": [],
   "source": [
    "# 图片路径\n",
    "path = \"./data\"\n",
    "dir_path = r\"C:\\python project\\datasets\\tt100K\"\n",
    "\n",
    "if not os.path.exists(dir_path):\n",
    "    os.makedirs(dir_path)"
   ]
  },
  {
   "cell_type": "code",
   "execution_count": null,
   "metadata": {},
   "outputs": [],
   "source": [
    "# 图片转存，file_type:文件类型\n",
    "def FindFile(path, new_path, file_type = \"\"):\n",
    "    if not os.path.exists(new_path):\n",
    "        os.makedirs(new_path)\n",
    "    for ipath in os.listdir(path):\n",
    "        if file_type and ipath.endswith(\".\"+file_type):\n",
    "            \n",
    "            fulldir = os.path.join(path, ipath)  # 拼接成绝对路径\n",
    "            print(fulldir)         #打印相关后缀的文件路径及名称\n",
    "            if os.path.isfile(fulldir):  # 文件，匹配->打印\n",
    "                shutil.copy(fulldir,new_path)\n",
    "            if os.path.isdir(fulldir):  # 目录，递归   \n",
    "                FindFile(fulldir)\n",
    "    return \"done\"\n"
   ]
  },
  {
   "cell_type": "code",
   "execution_count": null,
   "metadata": {},
   "outputs": [],
   "source": [
    "# 删除文件\n",
    "def RemoveFile(path, file_type = \"\"):\n",
    "    if not os.path.exists(path):\n",
    "        return \"File path not exists!\"\n",
    "    \n",
    "    if not os.path.isdir(path):\n",
    "        return r\"it`s not the file path！\"\n",
    "    \n",
    "    for f in os.listdir(path):\n",
    "        if file_type and f.endswith(file_type):\n",
    "            print(\"remove file\" + os.path.join(path,f))\n",
    "            os.remove(os.path.join(path,f))\n",
    "    \n",
    "    return \"done\"\n",
    "\n",
    "def onlyRemainFile(path, file_type = \"\"):\n",
    "    if not os.path.exists(path):\n",
    "        return \"File path not exists!\"\n",
    "    \n",
    "    if not os.path.isdir(path):\n",
    "        return r\"it`s not the file path！\"\n",
    "    \n",
    "    for f in os.listdir(path):\n",
    "        if file_type and not f.endswith(file_type):\n",
    "            print(\"remove file\" + os.path.join(path,f))\n",
    "            os.remove(os.path.join(path,f))\n",
    "            break\n",
    "        \n",
    "    \n",
    "    return \"done\""
   ]
  }
 ],
 "metadata": {
  "kernelspec": {
   "display_name": "Python 3.10.8 64-bit",
   "language": "python",
   "name": "python3"
  },
  "language_info": {
   "name": "python",
   "version": "3.10.8"
  },
  "orig_nbformat": 4,
  "vscode": {
   "interpreter": {
    "hash": "bebf9730dc43cfbc35fb329a82a69476f49cde6de038a2bbfc26f12404ad85fb"
   }
  }
 },
 "nbformat": 4,
 "nbformat_minor": 2
}
