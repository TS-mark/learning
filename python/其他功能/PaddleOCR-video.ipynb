{
 "cells": [
  {
   "cell_type": "code",
   "execution_count": null,
   "id": "8b9221e0",
   "metadata": {},
   "outputs": [],
   "source": [
    "import os\n",
    "from cv2 import cv2\n",
    "from PIL import Image\n",
    "from paddleocr import PaddleOCR, draw_ocr\n",
    " \n",
    " \n",
    "# 读入视频\n",
    "video_filename = r'F:\\pycharm_project\\OCR\\video\\demo.mp4'\n",
    "videoCap = cv2.VideoCapture(video_filename)\n",
    "# 切换图片保存目录\n",
    "os.chdir(r'F:\\pycharm_project\\OCR\\pics')\n",
    " \n",
    "np_pic_list = []\n",
    "for i in range(3, 10):\n",
    "    i = i * 700  # i代表随便抽取的某些帧\n",
    "    videoCap.set(cv2.CAP_PROP_POS_FRAMES, i)  # 设置要获取的帧号\n",
    "    TorF, frame = videoCap.read()  # read方法返回一个布尔值和一个视频帧\n",
    "    # im = frame[:, :, 0] #  显示全图\n",
    "    # 确定字幕的范围，这里仅针对该视频作展示实际情况需要更改\n",
    "    np_img = frame[870:955, :]\n",
    "    # 实现array到image的转换\n",
    "    # oir_pic = Image.fromarray(np_img)\n",
    "    # 这里颜色会出现改变，问题应该是RGB与BGR编码格式变化引起的\n",
    "    # oir_pic.save('pic_' + str(i) + '.jpg')\n",
    "    # 将字幕段进行颜色处理，未达到阈值的颜色将会变为白色背景\n",
    "    retVal, bw_img = cv2.threshold(np_img, 245, 245, cv2.THRESH_BINARY_INV)\n",
    "    # 逐段追加\n",
    "    np_pic_list.append(bw_img)\n",
    " \n",
    "# 垂直拼接并保存成一张图\n",
    "Image.fromarray(cv2.vconcat(np_pic_list)).save('result_1.jpg')\n",
    " \n",
    "# 调用paddleOCR接口\n",
    "ocr = PaddleOCR(use_angle_cls=True, lang=\"ch\")\n",
    "img_path = r'F:\\pycharm_project\\OCR\\pics\\result_1.jpg'\n",
    "result = ocr.ocr(img_path, cls=True)\n",
    "for line in result:\n",
    "    print(line)\n",
    " \n",
    "image = Image.open(img_path).convert('RGB')\n",
    "boxes = [line[0] for line in result]\n",
    "txts = [line[1][0] for line in result]\n",
    "scores = [line[1][1] for line in result]\n",
    " \n",
    "im_show = draw_ocr(image, boxes, txts, scores, font_path='/path/to/PaddleOCR/doc/simfang.ttf')\n",
    "im_show = Image.fromarray(im_show)\n",
    "im_show.save('result_2.jpg')\n"
   ]
  }
 ],
 "metadata": {
  "kernelspec": {
   "display_name": "Python 3 (ipykernel)",
   "language": "python",
   "name": "python3"
  },
  "language_info": {
   "codemirror_mode": {
    "name": "ipython",
    "version": 3
   },
   "file_extension": ".py",
   "mimetype": "text/x-python",
   "name": "python",
   "nbconvert_exporter": "python",
   "pygments_lexer": "ipython3",
   "version": "3.9.10"
  }
 },
 "nbformat": 4,
 "nbformat_minor": 5
}
