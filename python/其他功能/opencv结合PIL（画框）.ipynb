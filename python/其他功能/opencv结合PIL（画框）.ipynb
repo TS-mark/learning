{
 "cells": [
  {
   "cell_type": "markdown",
   "id": "40503d46",
   "metadata": {},
   "source": [
    "# 由于openCV不支持中文，所以有些框需要使用PIL去画"
   ]
  },
  {
   "cell_type": "code",
   "execution_count": 2,
   "id": "1f7db129",
   "metadata": {},
   "outputs": [],
   "source": [
    "from PIL import ImageFont,ImageDraw,Image\n",
    "import numpy as np\n",
    "import cv2\n",
    "img_cv=cv2.imread(r'C:\\Users\\Mark\\Pictures\\000000000034.jpg')#在程序所在目录下读取图片\n",
    "img= Image.fromarray(img_cv)#转换为PIL库可以处理的图片形式\n",
    "# img= Image.open(\"weixinjietu1.jpg\")\n",
    "font1=ImageFont.truetype(\"./simsun.ttc\",100)#设置字体类型和大小，注意：simsun.ttc为字体库文件需要你的程序目录下有此文件，如果没有需要获取，获取方法在win10系统中：在我的电脑>C盘>windows>Fonts的文件夹下面复制任意一个一个中文的库到你程序的目录下即可，不复制获取库的路径可能也可以没试过\n",
    "draw=ImageDraw.Draw(img)\n",
    "draw.text((170,10),\"欢迎赐教\",font=font1,fill=(0,0,0))#图片上加入中文，使用与cv2.putText类似\n",
    "# img_pil.show()#打开图片\n",
    "img1= np.array(img)#转换为cv库可以处理的图片形式\n",
    "cv2.imshow(\"img1\",img1)\n",
    "cv2.waitKey(0)\n",
    "cv2.destroyAllWindows()"
   ]
  },
  {
   "cell_type": "code",
   "execution_count": null,
   "id": "b2ca97a5",
   "metadata": {},
   "outputs": [],
   "source": [
    "# yolov7的画框代码，box = [x, y]\n",
    "def plot_one_box_PIL(box, img, color=None, label=None, line_thickness=None):\n",
    "    img = Image.fromarray(img)\n",
    "    draw = ImageDraw.Draw(img)\n",
    "    line_thickness = line_thickness or max(int(min(img.size) / 200), 2)\n",
    "    draw.rectangle(box, width=line_thickness, outline=tuple(color))  # plot\n",
    "    if label:\n",
    "        fontsize = max(round(max(img.size) / 40), 12)\n",
    "        font = ImageFont.truetype(\"Arial.ttf\", fontsize)\n",
    "        txt_width, txt_height = font.getsize(label)\n",
    "        draw.rectangle([box[0], box[1] - txt_height + 4, box[0] + txt_width, box[1]], fill=tuple(color))\n",
    "        draw.text((box[0], box[1] - txt_height + 1), label, fill=(255, 255, 255), font=font)\n",
    "    return np.asarray(img)"
   ]
  },
  {
   "cell_type": "markdown",
   "id": "f9571c00",
   "metadata": {},
   "source": [
    "写文字\n",
    "\n",
    "```python\n",
    "draw.text((170,10),\"欢迎赐教\",font=font1,fill=(r,g,b))\n",
    "```\n",
    "\n",
    "写矩形框\n",
    "```python\n",
    "draw.rectangle([x1,y1,x2,y2],outline = (r,g,b))\n",
    "```\n",
    "\n"
   ]
  }
 ],
 "metadata": {
  "kernelspec": {
   "display_name": "Python 3",
   "language": "python",
   "name": "python3"
  },
  "language_info": {
   "codemirror_mode": {
    "name": "ipython",
    "version": 3
   },
   "file_extension": ".py",
   "mimetype": "text/x-python",
   "name": "python",
   "nbconvert_exporter": "python",
   "pygments_lexer": "ipython3",
   "version": "3.10.8 (tags/v3.10.8:aaaf517, Oct 11 2022, 16:50:30) [MSC v.1933 64 bit (AMD64)]"
  },
  "vscode": {
   "interpreter": {
    "hash": "2457cb1fc7fe65b67a8bfa8297ae36ac15699474b7b28a44eb2505adebb15336"
   }
  }
 },
 "nbformat": 4,
 "nbformat_minor": 5
}
