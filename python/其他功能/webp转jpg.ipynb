{
 "cells": [
  {
   "cell_type": "code",
   "execution_count": 2,
   "id": "3a76b8ee",
   "metadata": {},
   "outputs": [
    {
     "name": "stdout",
     "output_type": "stream",
     "text": [
      "convert Z:\\learning documents\\成型项目\\路面异常检测\\img\\dy1.webp to Z:\\learning documents\\成型项目\\路面异常检测\\img\\dy1.jpg\n"
     ]
    }
   ],
   "source": [
    "'''\n",
    "网图(webp)转换jpg格式\n",
    "author = \"Mark Zhang\"\n",
    "'''\n",
    "\n",
    "# convert webp to jpg\n",
    "from PIL import Image\n",
    "import os\n",
    "import sys\n",
    "import glob\n",
    "\n",
    "# convert webp to jpg\n",
    "def convert(webp_file):\n",
    "    jpg_file = webp_file.replace('.webp', '.jpg')\n",
    "    im = Image.open(webp_file)\n",
    "    im.save(jpg_file)\n",
    "    print('convert ' + webp_file + ' to ' + jpg_file)\n",
    "    return jpg_file\n",
    "\n",
    "def main(path_name):\n",
    "    # get webp files\n",
    "    webp_files = glob.glob(path_name + r'\\*.webp')\n",
    "    for webp_file in webp_files:\n",
    "        convert(webp_file)\n",
    "\n",
    "        \n",
    "if __name__ == \"__main__\":\n",
    "    main(r\"Z:\\learning documents\\成型项目\\路面异常检测\\img\")\n"
   ]
  }
 ],
 "metadata": {
  "kernelspec": {
   "display_name": "Python 3.10.8 64-bit",
   "language": "python",
   "name": "python3"
  },
  "language_info": {
   "codemirror_mode": {
    "name": "ipython",
    "version": 3
   },
   "file_extension": ".py",
   "mimetype": "text/x-python",
   "name": "python",
   "nbconvert_exporter": "python",
   "pygments_lexer": "ipython3",
   "version": "3.10.8"
  },
  "vscode": {
   "interpreter": {
    "hash": "bebf9730dc43cfbc35fb329a82a69476f49cde6de038a2bbfc26f12404ad85fb"
   }
  }
 },
 "nbformat": 4,
 "nbformat_minor": 5
}
