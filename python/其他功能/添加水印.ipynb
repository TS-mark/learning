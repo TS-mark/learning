{
 "cells": [
  {
   "cell_type": "code",
   "execution_count": 1,
   "id": "2486b4b6",
   "metadata": {},
   "outputs": [],
   "source": [
    "import cv2\n",
    "from matplotlib import pyplot as plt"
   ]
  },
  {
   "cell_type": "code",
   "execution_count": 4,
   "id": "da409491",
   "metadata": {},
   "outputs": [],
   "source": [
    "img_path = \"C:/Users/Mark/Pictures/Saved Pictures/g.jpg\"\n",
    "watermark_path = \"C:/Users/Mark/Pictures/Saved Pictures/2.jpg\"\n"
   ]
  },
  {
   "cell_type": "code",
   "execution_count": 5,
   "id": "bd7cdae1",
   "metadata": {},
   "outputs": [],
   "source": [
    "img = cv2.imread(img_path)\n",
    "watermark = cv2.imread(watermark_path)"
   ]
  },
  {
   "cell_type": "code",
   "execution_count": 8,
   "id": "d605d6f6",
   "metadata": {},
   "outputs": [
    {
     "data": {
      "text/plain": [
       "True"
      ]
     },
     "execution_count": 8,
     "metadata": {},
     "output_type": "execute_result"
    }
   ],
   "source": [
    "percent_of_scaling = 100\n",
    "new_width = int(img.shape[1] * percent_of_scaling/100)\n",
    "new_height = int(img.shape[0] * percent_of_scaling/100)\n",
    "\n",
    "new_dim = (new_width, new_height)\n",
    "\n",
    "resized_img = cv2.resize(img, new_dim, interpolation=cv2.INTER_AREA)\n",
    "\n",
    "\n",
    "\n",
    "\n",
    "wm_scale = 40\n",
    "\n",
    "wm_width = int(watermark.shape[1] * wm_scale/100)\n",
    "\n",
    "wm_height = int(watermark.shape[0] * wm_scale/100)\n",
    "\n",
    "wm_dim = (wm_width, wm_height)\n",
    "\n",
    "\n",
    "\n",
    "\n",
    "resized_wm = cv2.resize(watermark, wm_dim, interpolation=cv2.INTER_AREA)\n",
    "\n",
    "\n",
    "\n",
    "\n",
    "h_img, w_img, _ = resized_img.shape\n",
    "\n",
    "center_y = int(h_img/2)\n",
    "\n",
    "center_x = int(w_img/2)\n",
    "\n",
    "h_wm, w_wm, _ = resized_wm.shape\n",
    "\n",
    "top_y = center_y - int(h_wm/2)\n",
    "\n",
    "left_x = center_x - int(w_wm/2)\n",
    "\n",
    "bottom_y = top_y + h_wm\n",
    "\n",
    "right_x = left_x + w_wm\n",
    "\n",
    "\n",
    "\n",
    "\n",
    "roi = resized_img[top_y:bottom_y, left_x:right_x]\n",
    "\n",
    "result = cv2.addWeighted(roi, 1, resized_wm, 0.3, 0)\n",
    "\n",
    "resized_img[top_y:bottom_y, left_x:right_x] = result\n",
    "\n",
    "\n",
    "\n",
    "\n",
    "filename = 'Watermakred_Image.jpg'\n",
    "\n",
    "cv2.imwrite(filename, resized_img)\n",
    "\n",
    "# plt.imshow(\"Resized Input Image\", resized_img)\n",
    "# plt.show()\n",
    "# cv2.waitKey(0)\n",
    "# cv2.destroyAllWindows()"
   ]
  }
 ],
 "metadata": {
  "kernelspec": {
   "display_name": "Python 3.10.8 64-bit",
   "language": "python",
   "name": "python3"
  },
  "language_info": {
   "codemirror_mode": {
    "name": "ipython",
    "version": 3
   },
   "file_extension": ".py",
   "mimetype": "text/x-python",
   "name": "python",
   "nbconvert_exporter": "python",
   "pygments_lexer": "ipython3",
   "version": "3.10.8"
  },
  "vscode": {
   "interpreter": {
    "hash": "bebf9730dc43cfbc35fb329a82a69476f49cde6de038a2bbfc26f12404ad85fb"
   }
  }
 },
 "nbformat": 4,
 "nbformat_minor": 5
}
