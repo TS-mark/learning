{
 "cells": [
  {
   "cell_type": "code",
   "execution_count": 1,
   "metadata": {},
   "outputs": [],
   "source": [
    "import torch"
   ]
  },
  {
   "cell_type": "code",
   "execution_count": 3,
   "metadata": {},
   "outputs": [
    {
     "data": {
      "text/plain": [
       "tensor([0., 1., 2., 3.])"
      ]
     },
     "execution_count": 3,
     "metadata": {},
     "output_type": "execute_result"
    }
   ],
   "source": [
    "x = torch.arange(4, device = \"cpu\", dtype = torch.float)\n",
    "x"
   ]
  },
  {
   "cell_type": "code",
   "execution_count": 19,
   "metadata": {},
   "outputs": [
    {
     "data": {
      "text/plain": [
       "torch.Size([1, 45, 80, 80])"
      ]
     },
     "execution_count": 19,
     "metadata": {},
     "output_type": "execute_result"
    }
   ],
   "source": [
    "x = torch.ones(1,45,80,80)\n",
    "x.shape"
   ]
  },
  {
   "cell_type": "code",
   "execution_count": 20,
   "metadata": {},
   "outputs": [
    {
     "data": {
      "text/plain": [
       "torch.Size([1, 45, 40, 40])"
      ]
     },
     "execution_count": 20,
     "metadata": {},
     "output_type": "execute_result"
    }
   ],
   "source": [
    "y = torch.ones(1,45,40,40)\n",
    "y = y+y\n",
    "y.shape"
   ]
  },
  {
   "cell_type": "code",
   "execution_count": 29,
   "metadata": {},
   "outputs": [
    {
     "data": {
      "text/plain": [
       "torch.Size([1, 45, 20, 20])"
      ]
     },
     "execution_count": 29,
     "metadata": {},
     "output_type": "execute_result"
    }
   ],
   "source": [
    "z = torch.zeros(1,45,20,20)\n",
    "z.reshape(1,45,400)\n",
    "z.shape"
   ]
  },
  {
   "cell_type": "code",
   "execution_count": 41,
   "metadata": {},
   "outputs": [
    {
     "data": {
      "text/plain": [
       "8400"
      ]
     },
     "execution_count": 41,
     "metadata": {},
     "output_type": "execute_result"
    }
   ],
   "source": [
    "res = torch.concat((x.reshape(1,45,6400),y.reshape(1,45,1600),z.reshape(1,45,400)),2)\n",
    "\n",
    "bs, ac, oo = res.shape\n",
    "oo"
   ]
  },
  {
   "cell_type": "code",
   "execution_count": 43,
   "metadata": {},
   "outputs": [
    {
     "data": {
      "text/plain": [
       "tensor([[[[     0,      1,      2,  ...,     77,     78,     79],\n",
       "          [    80,     81,     82,  ...,    157,    158,    159],\n",
       "          [   160,    161,    162,  ...,    237,    238,    239],\n",
       "          ...,\n",
       "          [  6160,   6161,   6162,  ...,   6237,   6238,   6239],\n",
       "          [  6240,   6241,   6242,  ...,   6317,   6318,   6319],\n",
       "          [  6320,   6321,   6322,  ...,   6397,   6398,   6399]],\n",
       "\n",
       "         [[  6400,   6401,   6402,  ...,   6477,   6478,   6479],\n",
       "          [  6480,   6481,   6482,  ...,   6557,   6558,   6559],\n",
       "          [  6560,   6561,   6562,  ...,   6637,   6638,   6639],\n",
       "          ...,\n",
       "          [ 12560,  12561,  12562,  ...,  12637,  12638,  12639],\n",
       "          [ 12640,  12641,  12642,  ...,  12717,  12718,  12719],\n",
       "          [ 12720,  12721,  12722,  ...,  12797,  12798,  12799]],\n",
       "\n",
       "         [[ 12800,  12801,  12802,  ...,  12877,  12878,  12879],\n",
       "          [ 12880,  12881,  12882,  ...,  12957,  12958,  12959],\n",
       "          [ 12960,  12961,  12962,  ...,  13037,  13038,  13039],\n",
       "          ...,\n",
       "          [ 18960,  18961,  18962,  ...,  19037,  19038,  19039],\n",
       "          [ 19040,  19041,  19042,  ...,  19117,  19118,  19119],\n",
       "          [ 19120,  19121,  19122,  ...,  19197,  19198,  19199]],\n",
       "\n",
       "         ...,\n",
       "\n",
       "         [[268800, 268801, 268802,  ..., 268877, 268878, 268879],\n",
       "          [268880, 268881, 268882,  ..., 268957, 268958, 268959],\n",
       "          [268960, 268961, 268962,  ..., 269037, 269038, 269039],\n",
       "          ...,\n",
       "          [274960, 274961, 274962,  ..., 275037, 275038, 275039],\n",
       "          [275040, 275041, 275042,  ..., 275117, 275118, 275119],\n",
       "          [275120, 275121, 275122,  ..., 275197, 275198, 275199]],\n",
       "\n",
       "         [[275200, 275201, 275202,  ..., 275277, 275278, 275279],\n",
       "          [275280, 275281, 275282,  ..., 275357, 275358, 275359],\n",
       "          [275360, 275361, 275362,  ..., 275437, 275438, 275439],\n",
       "          ...,\n",
       "          [281360, 281361, 281362,  ..., 281437, 281438, 281439],\n",
       "          [281440, 281441, 281442,  ..., 281517, 281518, 281519],\n",
       "          [281520, 281521, 281522,  ..., 281597, 281598, 281599]],\n",
       "\n",
       "         [[281600, 281601, 281602,  ..., 281677, 281678, 281679],\n",
       "          [281680, 281681, 281682,  ..., 281757, 281758, 281759],\n",
       "          [281760, 281761, 281762,  ..., 281837, 281838, 281839],\n",
       "          ...,\n",
       "          [287760, 287761, 287762,  ..., 287837, 287838, 287839],\n",
       "          [287840, 287841, 287842,  ..., 287917, 287918, 287919],\n",
       "          [287920, 287921, 287922,  ..., 287997, 287998, 287999]]]])"
      ]
     },
     "execution_count": 43,
     "metadata": {},
     "output_type": "execute_result"
    }
   ],
   "source": [
    "x = torch.arange(45*80*80)\n",
    "x = x.reshape(1,45,80,80)\n",
    "x"
   ]
  },
  {
   "cell_type": "code",
   "execution_count": 18,
   "metadata": {},
   "outputs": [
    {
     "data": {
      "text/plain": [
       "tensor([[[     0,      1,      2,  ...,   6397,   6398,   6399],\n",
       "         [  6400,   6401,   6402,  ...,  12797,  12798,  12799],\n",
       "         [ 12800,  12801,  12802,  ...,  19197,  19198,  19199],\n",
       "         ...,\n",
       "         [268800, 268801, 268802,  ..., 275197, 275198, 275199],\n",
       "         [275200, 275201, 275202,  ..., 281597, 281598, 281599],\n",
       "         [281600, 281601, 281602,  ..., 287997, 287998, 287999]]])"
      ]
     },
     "execution_count": 18,
     "metadata": {},
     "output_type": "execute_result"
    }
   ],
   "source": [
    "x.reshape(1,45,6400)"
   ]
  },
  {
   "cell_type": "code",
   "execution_count": 37,
   "metadata": {},
   "outputs": [
    {
     "data": {
      "text/plain": [
       "tensor([[[1., 1., 1., 1., 1., 1.],\n",
       "         [1., 1., 1., 1., 1., 1.]]])"
      ]
     },
     "execution_count": 37,
     "metadata": {},
     "output_type": "execute_result"
    }
   ],
   "source": [
    "a = torch.ones([1,2,4])\n",
    "b = torch.ones([1,2,2])\n",
    "torch.cat([a,b],2)\n"
   ]
  }
 ],
 "metadata": {
  "kernelspec": {
   "display_name": "Python 3",
   "language": "python",
   "name": "python3"
  },
  "language_info": {
   "codemirror_mode": {
    "name": "ipython",
    "version": 3
   },
   "file_extension": ".py",
   "mimetype": "text/x-python",
   "name": "python",
   "nbconvert_exporter": "python",
   "pygments_lexer": "ipython3",
   "version": "3.10.8"
  },
  "orig_nbformat": 4,
  "vscode": {
   "interpreter": {
    "hash": "2457cb1fc7fe65b67a8bfa8297ae36ac15699474b7b28a44eb2505adebb15336"
   }
  }
 },
 "nbformat": 4,
 "nbformat_minor": 2
}
