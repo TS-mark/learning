{
 "cells": [
  {
   "cell_type": "code",
   "execution_count": 1,
   "metadata": {},
   "outputs": [],
   "source": [
    "# from torchvision.datasets import MNIST\n",
    "# import torchvision.transforms as transforms\n",
    "# from torch.utils.data import DataLoader\n",
    "\n",
    "# data_train = MNIST(\"./data\",\n",
    "#                     download = False,\n",
    "#                     transform = transforms.Compose([\n",
    "#                        transforms.Resize((32,32)),\n",
    "#                        transforms.ToTensor()])\n",
    "#                    )\n",
    "# data_test = MNIST(\"./data\",\n",
    "#                     train = False, \n",
    "#                     download = False,\n",
    "#                     transform = transforms.Compose([\n",
    "#                        transforms.Resize((32,32)),\n",
    "#                        transforms.ToTensor()])\n",
    "#                    )\n",
    "# data_train_loader = DataLoader(data_train, batch_size=256,\n",
    "#                                shuffle=True, num_workers=2)\n",
    "# data_test_loader = DataLoader(data_test, batch_size = 1024,\n",
    "#                               num_workers=2)"
   ]
  },
  {
   "cell_type": "code",
   "execution_count": 2,
   "metadata": {},
   "outputs": [],
   "source": [
    "# for imgs,targets in data_train_loader:\n",
    "#     print(imgs.size())\n",
    "#     break\n",
    "# # imgs.size()\n",
    "# \"\"\"这里的256是batch size\"\"\"\n",
    "# imgs.view(imgs.size(2),-1).size()"
   ]
  },
  {
   "cell_type": "code",
   "execution_count": null,
   "metadata": {},
   "outputs": [],
   "source": []
  },
  {
   "cell_type": "code",
   "execution_count": 3,
   "metadata": {},
   "outputs": [],
   "source": [
    "# import matplotlib.pyplot as plt\n",
    "# figure = plt.figure()\n",
    "# num_of_images = 60\n",
    "\n",
    "# for imgs,targets in data_train_loader:\n",
    "#     break\n",
    "\n",
    "# for index in range(num_of_images):\n",
    "#     plt.subplot(6, 10, index + 1)\n",
    "#     plt.axis('off')\n",
    "#     img = imgs[index, ...]\n",
    "#     plt.imshow(img.numpy().squeeze(),cmap = \"gray_r\")\n",
    "# plt.show()"
   ]
  },
  {
   "cell_type": "code",
   "execution_count": 3,
   "metadata": {},
   "outputs": [],
   "source": [
    "import torch\n",
    "import torch.nn as nn\n",
    "\n",
    "class LeNet(nn.Module):\n",
    "    def __init__(self):\n",
    "        super(LeNet, self).__init__()\n",
    "        self.conv1 = nn.Conv2d(1,6,3)\n",
    "        self.pool1 = nn.MaxPool2d(2,2)\n",
    "        self.conv2 = nn.Conv2d(6,16,3)\n",
    "        self.pool2 = nn.MaxPool2d(2,2)\n",
    "        self.fc3 = nn.Linear(16*6*6, 120)\n",
    "        self.fc4 = nn.Linear(120,84)\n",
    "        self.fc5 = nn.Linear(84,10)\n",
    "    \n",
    "    def forward(self, x):\n",
    "        x = self.pool1(torch.relu(self.conv1(x)))\n",
    "        x = self.pool2(torch.relu(self.conv2(x)))\n",
    "        x = x.view(x.size(0),-1)\n",
    "        x = torch.relu(self.fc3(x))\n",
    "        x = torch.relu(self.fc4(x))\n",
    "        x = self.fc5(x)\n",
    "        return x"
   ]
  },
  {
   "cell_type": "code",
   "execution_count": 4,
   "metadata": {},
   "outputs": [],
   "source": [
    "\"\"\"测试模块\"\"\"\n",
    "if __name__ == \"__main__\":\n",
    "    model = LeNet()\n",
    "\n",
    "    ret = model(torch.randn(1,1,32,32))\n",
    "    ret.shape"
   ]
  },
  {
   "cell_type": "code",
   "execution_count": 4,
   "metadata": {},
   "outputs": [
    {
     "ename": "NameError",
     "evalue": "name 'LeNet' is not defined",
     "output_type": "error",
     "traceback": [
      "\u001b[1;31m---------------------------------------------------------------------------\u001b[0m",
      "\u001b[1;31mNameError\u001b[0m                                 Traceback (most recent call last)",
      "Cell \u001b[1;32mIn[4], line 1\u001b[0m\n\u001b[1;32m----> 1\u001b[0m model \u001b[39m=\u001b[39m LeNet()\n\u001b[0;32m      2\u001b[0m model\u001b[39m.\u001b[39mtrain()\n\u001b[0;32m      3\u001b[0m lr \u001b[39m=\u001b[39m \u001b[39m0.01\u001b[39m\n",
      "\u001b[1;31mNameError\u001b[0m: name 'LeNet' is not defined"
     ]
    }
   ],
   "source": [
    "model = LeNet()\n",
    "model.train()\n",
    "lr = 0.01\n",
    "criterion = nn.CrossEntropyLoss()\n",
    "optimizer = torch.optim.SGD(model.parameters(), lr = lr, momentum = 0.9, weight_decay = 5e-4)\n",
    "\n",
    "\n",
    "train_loss = 0\n",
    "correct = 0\n",
    "total = 0\n",
    "epoch = 10\n",
    "\n",
    "for _ in range(epoch):\n",
    "    for batch_idx, (inputs,targets) in enumerate(data_train_loader):\n",
    "        optimizer.zero_grad()\n",
    "        outputs = model(inputs)\n",
    "        loss = criterion(outputs, targets)\n",
    "        loss.backward()\n",
    "        optimizer.step()\n",
    "\n",
    "        train_loss += loss.item()\n",
    "        _, predicted = outputs.max(1)\n",
    "        total += targets.size(0)\n",
    "        correct += predicted.eq(targets).sum().item()\n",
    "\n",
    "        # print(batch_idx, optimizer.state_dict(), 'Loss: %.3f | Acc: %.3f%%(%d/%d)' % (train_loss/(batch_idx + 1), 100.*correct/total, correct, total))"
   ]
  },
  {
   "cell_type": "code",
   "execution_count": null,
   "metadata": {},
   "outputs": [],
   "source": [
    "type(outputs)"
   ]
  },
  {
   "cell_type": "code",
   "execution_count": 18,
   "metadata": {},
   "outputs": [
    {
     "name": "stdout",
     "output_type": "stream",
     "text": [
      "state :b\n",
      "torch.Size([6, 1, 3, 3])\n",
      "torch.Size([6])\n",
      "torch.Size([16, 6, 3, 3])\n",
      "torch.Size([16])\n",
      "torch.Size([120, 576])\n",
      "torch.Size([120])\n",
      "torch.Size([84, 120])\n",
      "torch.Size([84])\n",
      "torch.Size([10, 84])\n",
      "torch.Size([10])\n",
      "param_groups :b\n"
     ]
    }
   ],
   "source": [
    "for k in optimizer.state_dict():\n",
    "    print(k,\":b\")\n",
    "\n",
    "    if k ==\"state\":\n",
    "        for k2 in optimizer.state_dict()[k]:\n",
    "            print(optimizer.state_dict()[k][k2][\"momentum_buffer\"].size())"
   ]
  },
  {
   "cell_type": "code",
   "execution_count": null,
   "metadata": {},
   "outputs": [],
   "source": [
    "model_path = \"./model.pth\"                                                                  "
   ]
  }
 ],
 "metadata": {
  "kernelspec": {
   "display_name": "Python 3",
   "language": "python",
   "name": "python3"
  },
  "language_info": {
   "codemirror_mode": {
    "name": "ipython",
    "version": 3
   },
   "file_extension": ".py",
   "mimetype": "text/x-python",
   "name": "python",
   "nbconvert_exporter": "python",
   "pygments_lexer": "ipython3",
   "version": "3.10.8"
  },
  "orig_nbformat": 4
 },
 "nbformat": 4,
 "nbformat_minor": 2
}
