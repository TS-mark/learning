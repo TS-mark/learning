{
 "cells": [
  {
   "cell_type": "code",
   "execution_count": 1,
   "metadata": {},
   "outputs": [],
   "source": [
    "label_map = {\n",
    "    \"0\":\"0\",\n",
    "    \"1\":\"6\",\n",
    "    \"2\":\"4\",\n",
    "    \"3\":\"2\",\n",
    "    \"4\":\"8\",\n",
    "    \"5\":\"10\",\n",
    "    \"6\":\"0\",\n",
    "    \"7\":\"8\",\n",
    "    \"8\":\"27\",\n",
    "    \"9\":\"16\",\n",
    "    \"10\":\"6\",\n",
    "    \"11\":\"4\",\n",
    "    \"12\":\"2\",\n",
    "    \"13\":\"10\",\n",
    "    \"14\":\"14\",\n",
    "    \"15\":\"12\",\n",
    "    \"16\":\"20\",\n",
    "    \"17\":\"36\",\n",
    "    \"18\":\"35\"\n",
    "}"
   ]
  },
  {
   "cell_type": "code",
   "execution_count": 21,
   "metadata": {},
   "outputs": [
    {
     "data": {
      "text/plain": [
       "tensor([[1, 0],\n",
       "        [1, 0],\n",
       "        [1, 1],\n",
       "        [1, 1],\n",
       "        [1, 2],\n",
       "        [1, 2],\n",
       "        [1, 3],\n",
       "        [1, 3],\n",
       "        [0, 0],\n",
       "        [0, 0],\n",
       "        [0, 1],\n",
       "        [0, 1],\n",
       "        [0, 2],\n",
       "        [0, 2],\n",
       "        [0, 3],\n",
       "        [0, 3],\n",
       "        [2, 0],\n",
       "        [2, 0],\n",
       "        [2, 1],\n",
       "        [2, 1],\n",
       "        [2, 2],\n",
       "        [2, 2],\n",
       "        [2, 3],\n",
       "        [2, 3],\n",
       "        [3, 9],\n",
       "        [0, 9],\n",
       "        [1, 9],\n",
       "        [2, 9],\n",
       "        [4, 9],\n",
       "        [0, 5],\n",
       "        [1, 5],\n",
       "        [2, 5],\n",
       "        [0, 9],\n",
       "        [1, 9],\n",
       "        [2, 9],\n",
       "        [1, 8],\n",
       "        [0, 8],\n",
       "        [1, 8],\n",
       "        [1, 8],\n",
       "        [1, 4],\n",
       "        [0, 4],\n",
       "        [2, 4],\n",
       "        [0, 6],\n",
       "        [1, 6],\n",
       "        [0, 7],\n",
       "        [1, 7],\n",
       "        [1, 9],\n",
       "        [0, 9],\n",
       "        [1, 9],\n",
       "        [0, 9]])"
      ]
     },
     "execution_count": 21,
     "metadata": {},
     "output_type": "execute_result"
    }
   ],
   "source": [
    "label_mapping = {\n",
    "            0: [1, 0],\n",
    "            1: [1, 0],\n",
    "            2: [1, 1],\n",
    "            3: [1, 1],\n",
    "            4: [1, 2],\n",
    "            5: [1, 2],\n",
    "            6: [1, 3],\n",
    "            7: [1, 3],\n",
    "            8: [0, 0],\n",
    "            9: [0, 0],\n",
    "            10: [0, 1],\n",
    "            11: [0, 1],\n",
    "            12: [0, 2],\n",
    "            13: [0, 2],\n",
    "            14: [0, 3],\n",
    "            15: [0, 3],\n",
    "            16: [2, 0],\n",
    "            17: [2, 0],\n",
    "            18: [2, 1],\n",
    "            19: [2, 1],\n",
    "            20: [2, 2],\n",
    "            21: [2, 2],\n",
    "            22: [2, 3],\n",
    "            23: [2, 3],\n",
    "            24: [3, 9],\n",
    "            25: [0, 9],\n",
    "            26: [1, 9],\n",
    "            27: [2, 9],\n",
    "            28: [4, 9],\n",
    "            29: [0, 5],\n",
    "            30: [1, 5],\n",
    "            31: [2, 5],\n",
    "            32: [0, 9],\n",
    "            33: [1, 9],\n",
    "            34: [2, 9],\n",
    "            35: [1, 8],\n",
    "            36: [0, 8],\n",
    "            37: [1, 8],\n",
    "            38: [1, 8],\n",
    "            39: [1, 4],\n",
    "            40: [0, 4],\n",
    "            41: [2, 4],\n",
    "            42: [0, 6],\n",
    "            43: [1, 6],\n",
    "            44: [0, 7],\n",
    "            45: [1, 7],\n",
    "            46: [1, 9],\n",
    "            47: [0, 9],\n",
    "            48: [1, 9],\n",
    "            49: [0, 9]\n",
    "        }\n",
    "\n",
    "a = torch.tensor(list(label_mapping.values()))\n",
    "a"
   ]
  },
  {
   "cell_type": "code",
   "execution_count": 17,
   "metadata": {},
   "outputs": [
    {
     "data": {
      "text/plain": [
       "tensor([[[ 0,  1,  2,  3,  4],\n",
       "         [ 5,  6,  7,  8,  9],\n",
       "         [10, 11, 12, 13, 14]]])"
      ]
     },
     "execution_count": 17,
     "metadata": {},
     "output_type": "execute_result"
    }
   ],
   "source": [
    "c = torch.arange((15)).reshape((1,3,5))\n",
    "c"
   ]
  },
  {
   "cell_type": "code",
   "execution_count": 18,
   "metadata": {},
   "outputs": [
    {
     "data": {
      "text/plain": [
       "tensor([[[ 0.,  1.,  2.,  3.,  4.,  0.,  0.,  0.,  0.,  0.],\n",
       "         [ 5.,  6.,  7.,  8.,  9.,  0.,  0.,  0.,  0.,  0.],\n",
       "         [10., 11., 12., 13., 14.,  0.,  0.,  0.,  0.,  0.]]])"
      ]
     },
     "execution_count": 18,
     "metadata": {},
     "output_type": "execute_result"
    }
   ],
   "source": [
    "# c = torch.arange((1,3,5))\n",
    "a[...,:5] = c\n",
    "a"
   ]
  },
  {
   "cell_type": "code",
   "execution_count": 22,
   "metadata": {},
   "outputs": [
    {
     "name": "stdout",
     "output_type": "stream",
     "text": [
      "torch.Size([1, 5, 4, 21])\n"
     ]
    }
   ],
   "source": [
    "import torch\n",
    "\n",
    "# 假设a是1*5*4*22的张量\n",
    "a = torch.randn(1, 5, 4, 22)\n",
    "\n",
    "# 假设b是22*21的张量\n",
    "b = torch.randn(22, 21)\n",
    "\n",
    "# 执行矩阵乘法，将最后一个维度(22)与第一个维度(22)进行矩阵乘法\n",
    "result = torch.matmul(a, b)\n",
    "\n",
    "# 结果的形状是1*5*4*21\n",
    "print(result.shape)"
   ]
  },
  {
   "cell_type": "code",
   "execution_count": 25,
   "metadata": {},
   "outputs": [
    {
     "name": "stdout",
     "output_type": "stream",
     "text": [
      "torch.Size([1, 2, 2, 2, 3])\n"
     ]
    }
   ],
   "source": [
    "import torch\n",
    "\n",
    "# 假设你有一个形状为(1, 2, 2, 2, 3)的张量\n",
    "original_tensor = torch.randint(0, 3, (1, 2, 2, 2, 1))  # 假设张量中的值是0, 1, 2\n",
    "\n",
    "# 获取类别的数量\n",
    "num_classes = original_tensor.max() + 1\n",
    "\n",
    "# 使用torch.eye创建单位矩阵，维度为(3, 3)，其中3是类别的数量\n",
    "eye_matrix = torch.eye(num_classes)\n",
    "\n",
    "# 使用索引操作符将原始张量映射到对应的单位矩阵的行\n",
    "one_hot_tensor = eye_matrix[original_tensor.squeeze()]\n",
    "\n",
    "# 在第一个维度上添加一个维度，使得形状变为(1, 2, 2, 2, 3)\n",
    "one_hot_tensor = one_hot_tensor.unsqueeze(0)\n",
    "\n",
    "print(one_hot_tensor.shape)\n"
   ]
  },
  {
   "cell_type": "code",
   "execution_count": null,
   "metadata": {},
   "outputs": [],
   "source": [
    "torch.Tensor"
   ]
  },
  {
   "cell_type": "code",
   "execution_count": 74,
   "metadata": {},
   "outputs": [
    {
     "data": {
      "text/plain": [
       "torch.Size([10, 50])"
      ]
     },
     "execution_count": 74,
     "metadata": {},
     "output_type": "execute_result"
    }
   ],
   "source": [
    "label_mapping = {\n",
    "            0: [1, 0],\n",
    "            1: [1, 0],\n",
    "            2: [1, 1],\n",
    "            3: [1, 1],\n",
    "            4: [1, 2],\n",
    "            5: [1, 2],\n",
    "            6: [1, 3],\n",
    "            7: [1, 3],\n",
    "            8: [0, 0],\n",
    "            9: [0, 0],\n",
    "            10: [0, 1],\n",
    "            11: [0, 1],\n",
    "            12: [0, 2],\n",
    "            13: [0, 2],\n",
    "            14: [0, 3],\n",
    "            15: [0, 3],\n",
    "            16: [2, 0],\n",
    "            17: [2, 0],\n",
    "            18: [2, 1],\n",
    "            19: [2, 1],\n",
    "            20: [2, 2],\n",
    "            21: [2, 2],\n",
    "            22: [2, 3],\n",
    "            23: [2, 3],\n",
    "            24: [3, 9],\n",
    "            25: [0, 9],\n",
    "            26: [1, 9],\n",
    "            27: [2, 9],\n",
    "            28: [4, 9],\n",
    "            29: [0, 5],\n",
    "            30: [1, 5],\n",
    "            31: [2, 5],\n",
    "            32: [0, 9],\n",
    "            33: [1, 9],\n",
    "            34: [2, 9],\n",
    "            35: [1, 8],\n",
    "            36: [0, 8],\n",
    "            37: [1, 8],\n",
    "            38: [1, 8],\n",
    "            39: [1, 4],\n",
    "            40: [0, 4],\n",
    "            41: [2, 4],\n",
    "            42: [0, 6],\n",
    "            43: [1, 6],\n",
    "            44: [0, 7],\n",
    "            45: [1, 7],\n",
    "            46: [1, 9],\n",
    "            47: [0, 9],\n",
    "            48: [1, 9],\n",
    "            49: [0, 9]\n",
    "        }\n",
    "\n",
    "class_mapping = torch.Tensor(list(label_mapping.values()))\n",
    "class_mapping = class_mapping.to(int)\n",
    "\n",
    "cls1_map,cls2_map = torch.split(class_mapping,[1,1],1)\n",
    "cls1_map = cls1_map.squeeze(1)\n",
    "cls2_map = cls2_map.squeeze(1)\n",
    "# print(cls1_map.dtype)\n",
    "cls1 = torch.zeros((int(cls1_map.max())+1,len(cls1_map)))\n",
    "cls1 = cls1.scatter(0,cls1_map.unsqueeze(0),1)\n",
    "\n",
    "\n",
    "cls2 = torch.zeros((int(cls2_map.max())+1,len(cls2_map)))\n",
    "cls2 = cls2.scatter(0,cls2_map.unsqueeze(0),1)\n",
    "# cls2.shape"
   ]
  },
  {
   "cell_type": "code",
   "execution_count": 83,
   "metadata": {},
   "outputs": [],
   "source": [
    "pred = torch.rand((1,23,20))\n",
    "# cc = torch.rand((1,23,10))\n",
    "\n",
    "predn = torch.matmul(pred[...,5:5+cls1.shape[0]],cls1) + \\\n",
    "torch.matmul(pred[...,5+cls1.shape[0]:5+cls1.shape[0]+cls2.shape[0]],cls2)\n",
    "# dd = torch.matmul(gg[...,5+cls1.shape[0]:5+cls1.shape[0]+cls2.shape[0]],cls2)\n",
    "# 5+cls1.shape[0]+cls2.shape[0]"
   ]
  },
  {
   "cell_type": "code",
   "execution_count": 48,
   "metadata": {},
   "outputs": [
    {
     "data": {
      "text/plain": [
       "torch.Size([50])"
      ]
     },
     "execution_count": 48,
     "metadata": {},
     "output_type": "execute_result"
    }
   ],
   "source": [
    "cls1_map.squeeze().shape"
   ]
  },
  {
   "cell_type": "code",
   "execution_count": 45,
   "metadata": {},
   "outputs": [
    {
     "name": "stdout",
     "output_type": "stream",
     "text": [
      "Original shape: torch.Size([50, 1])\n",
      "New shape: torch.Size([50])\n"
     ]
    }
   ],
   "source": [
    "import torch\n",
    "\n",
    "# 假设你有一个形状为 (50, 1) 的张量 a\n",
    "a = torch.randn(50, 1)\n",
    "\n",
    "# 使用 squeeze 函数去除大小为 1 的维度\n",
    "a_flat = a.squeeze()\n",
    "\n",
    "# 打印结果的形状\n",
    "print(\"Original shape:\", a.shape)  # 应该是 (50, 1)\n",
    "print(\"New shape:\", a_flat.shape)  # 应该是 (50,)\n"
   ]
  },
  {
   "cell_type": "code",
   "execution_count": 6,
   "metadata": {},
   "outputs": [],
   "source": [
    "import os\n",
    "label_path = \"G:\\TLD_train7\\labels\\train\"\n",
    "new_label_path = \"f:/datasets/TSR_TFL/labels/test2_new\"\n",
    "if not os.path.exists(new_label_path):\n",
    "    os.makedirs(new_label_path)\n",
    "\n",
    "list_dir = os.listdir(label_path)\n",
    "# list_dir\n",
    "for file in list_dir:\n",
    "    res = []\n",
    "    with open(os.path.join(label_path, file), \"r\") as f:\n",
    "        for line in f.readlines():\n",
    "            c,x,y,w,h = line.split(\" \")\n",
    "            #这里写修改规则\n",
    "            c = label_map[c]\n",
    "            # if float(w)>0.08 or float(h)>0.09 and int(c) <= 28:\n",
    "            #     c = str(int(c)+50)\n",
    "            res.append(c+\" \"+x+\" \"+y+\" \"+w+\" \"+h)\n",
    "    with open(os.path.join(new_label_path, file), \"w\") as f:\n",
    "        f.write(\"\".join(res))\n"
   ]
  },
  {
   "cell_type": "code",
   "execution_count": 28,
   "metadata": {},
   "outputs": [
    {
     "data": {
      "text/plain": [
       "torch.Size([1, 50])"
      ]
     },
     "execution_count": 28,
     "metadata": {},
     "output_type": "execute_result"
    }
   ],
   "source": [
    "a = [1, 4, 2, 5, 8, 5, 2, 1, 6, 3, 5, 7, 4, 0, 3, 9, 2, 8, 1, 5,\n",
    "     7, 0, 4, 3, 6, 9, 1, 5, 7, 2, 8, 0, 6, 3, 4, 9, 2, 5, 7, 1,\n",
    "     8, 0, 6, 3, 9, 4, 2, 5, 7, 1]\n",
    "a_tensor = torch.tensor(a)\n",
    "a_tensor.unsqueeze(0).shape"
   ]
  },
  {
   "cell_type": "code",
   "execution_count": null,
   "metadata": {},
   "outputs": [],
   "source": [
    "values_tensor = torch.tensor(list(self.label_mapping.values()), device=self.device)"
   ]
  },
  {
   "cell_type": "code",
   "execution_count": 62,
   "metadata": {},
   "outputs": [
    {
     "name": "stdout",
     "output_type": "stream",
     "text": [
      "torch.Size([10, 50])\n"
     ]
    }
   ],
   "source": [
    "import torch\n",
    "\n",
    "# 假设你有一个长度为50的列表a\n",
    "a = [1, 4, 2, 5, 8, 5, 2, 1, 6, 3, 5, 7, 4, 0, 3, 9, 2, 8, 1, 5,\n",
    "     7, 0, 4, 3, 6, 9, 1, 5, 7, 2, 8, 0, 6, 3, 4, 9, 2, 5, 7, 1,\n",
    "     8, 0, 6, 3, 9, 4, 2, 5, 7, 1]\n",
    "\n",
    "# 将列表转换为张量\n",
    "a_tensor = torch.tensor(a)\n",
    "\n",
    "# 创建一个全零的张量，形状为(10, 50)\n",
    "b = torch.zeros(10, len(a))\n",
    "\n",
    "# 使用scatter_函数更新张量b，将对应位置的元素设为1\n",
    "b.scatter_(0, a_tensor.unsqueeze(0), 1)\n",
    "\n",
    "# 打印结果\n",
    "print(b.shape)\n"
   ]
  },
  {
   "cell_type": "markdown",
   "metadata": {},
   "source": []
  },
  {
   "cell_type": "code",
   "execution_count": 7,
   "metadata": {},
   "outputs": [
    {
     "name": "stdout",
     "output_type": "stream",
     "text": [
      "超出49了 G:\\TLD_train7\\labels\\train h5f_39_97454.txt\n"
     ]
    }
   ],
   "source": [
    "# /*temp 查看label*/\n",
    "import os\n",
    "label_path = r\"G:\\TLD_train7\\labels\\train\"\n",
    "# new_label_path = \"f:/datasets/TSR_TFL/labels/test2_new\"\n",
    "# if not os.path.exists(new_label_path):\n",
    "    # os.makedirs(new_label_path)\n",
    "\n",
    "list_dir = os.listdir(label_path)\n",
    "# list_dir\n",
    "for file in list_dir:\n",
    "    res = []\n",
    "    with open(os.path.join(label_path, file), \"r\") as f:\n",
    "        for line in f.readlines():\n",
    "            c,x,y,w,h = line.split(\" \")\n",
    "            #这里写修改规则\n",
    "            if int(c) > 49:\n",
    "                print(\"超出49了\",label_path,file)\n",
    "            # c = label_map[c]\n",
    "            # if float(w)>0.08 or float(h)>0.09 and int(c) <= 28:\n",
    "            #     c = str(int(c)+50)\n",
    "            res.append(c+\" \"+x+\" \"+y+\" \"+w+\" \"+h)\n",
    "    # with open(os.path.join(new_label_path, file), \"w\") as f:\n",
    "    #     f.write(\"\".join(res))\n"
   ]
  },
  {
   "cell_type": "code",
   "execution_count": 5,
   "metadata": {},
   "outputs": [
    {
     "data": {
      "text/plain": [
       "'0.664188'"
      ]
     },
     "execution_count": 5,
     "metadata": {},
     "output_type": "execute_result"
    }
   ],
   "source": [
    "a = \"14 0.664188 0.290529 0.025355 0.106994\"\n",
    "q,w,e,r,t = a.split(\" \")\n",
    "w"
   ]
  },
  {
   "cell_type": "code",
   "execution_count": null,
   "metadata": {},
   "outputs": [],
   "source": []
  }
 ],
 "metadata": {
  "kernelspec": {
   "display_name": "Python 3",
   "language": "python",
   "name": "python3"
  },
  "language_info": {
   "codemirror_mode": {
    "name": "ipython",
    "version": 3
   },
   "file_extension": ".py",
   "mimetype": "text/x-python",
   "name": "python",
   "nbconvert_exporter": "python",
   "pygments_lexer": "ipython3",
   "version": "3.10.8"
  },
  "orig_nbformat": 4
 },
 "nbformat": 4,
 "nbformat_minor": 2
}
