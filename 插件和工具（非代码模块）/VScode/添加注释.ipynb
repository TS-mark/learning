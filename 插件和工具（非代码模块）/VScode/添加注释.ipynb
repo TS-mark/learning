{
 "cells": [
  {
   "cell_type": "code",
   "execution_count": null,
   "metadata": {},
   "outputs": [],
   "source": []
  },
  {
   "cell_type": "markdown",
   "metadata": {},
   "source": [
    "# VScode 自动生成头部和函数注释"
   ]
  },
  {
   "cell_type": "markdown",
   "metadata": {},
   "source": [
    "## 进入用户代码代码片段\n",
    "### 进入File > Preferences > User Snippets\n",
    "选择语言：python，在python.json中添加头注释和函数注释"
   ]
  },
  {
   "cell_type": "code",
   "execution_count": null,
   "metadata": {},
   "outputs": [],
   "source": [
    "{    \n",
    "\t// Place your snippets for python here. Each snippet is defined under a snippet name and has a prefix, body and     \n",
    "\t// description. The prefix is what is used to trigger the snippet and the body will be expanded and inserted. Possible variables are:    \n",
    "\t// $1, $2 for tab stops, $0 for the final cursor position, and ${1:label}, ${2:another} for placeholders. Placeholders with the     \n",
    "\t// same ids are connected.    \n",
    "\t// Example:    \n",
    "\t// \"Print to console\": {    \n",
    "\t//  \"prefix\": \"log\",    \n",
    "\t//  \"body\": [    \n",
    "\t//      \"console.log('$1');\",    \n",
    "\t//      \"$2\"    \n",
    "\t//  ],    \n",
    "\t//  \"description\": \"Log output to console\"    \n",
    "\t// }\n",
    "\t\"HEADER\": {\n",
    "\t        \"prefix\": \"header\",        \n",
    "\t        \"body\": [            \n",
    "\t        \"#!/usr/bin/env python\",            \n",
    "\t        \"# -*- encoding: utf-8 -*-\",            \n",
    "\t        \"'''\",            \n",
    "\t        // \"@文件        :$TM_FILENAME\",            \n",
    "\t        \"@Description:       :\",            \n",
    "\t        \"@Date     :$CURRENT_YEAR/$CURRENT_MONTH/$CURRENT_DATE $CURRENT_HOUR:$CURRENT_MINUTE:$CURRENT_SECOND\",            \n",
    "\t        \"@Author      :xia\",            \n",
    "\t        \"@version      :1.0\",                        \n",
    "\t        \"'''\",            \n",
    "\t        // \"\",            \n",
    "\t        // \"$0\"        \n",
    "\t        ],    \n",
    "\t  },        \n",
    "\t  \"function\": {        \n",
    "\t  \t\"prefix\": \"function\",        \n",
    "\t  \t\"body\": [            \n",
    "\t  \t\"\\\"\\\"\\\"\",            \n",
    "\t  \t\"@description  :\",            \n",
    "\t  \t\"---------\",            \n",
    "\t  \t\"@param  :\",            \n",
    "\t  \t\"-------\",            \n",
    "\t  \t\"@Returns  :\",            \n",
    "\t  \t\"-------\",           \n",
    "\t  \t\"\\\"\\\"\\\"\",            \n",
    "\t  \t\"\",            \n",
    "\t  \t\"$0\"        \n",
    "\t  \t],\t\n",
    "\t}\n",
    "}\n"
   ]
  },
  {
   "cell_type": "code",
   "execution_count": 2,
   "metadata": {},
   "outputs": [
    {
     "ename": "SyntaxError",
     "evalue": "invalid character '，' (U+FF0C) (1327361686.py, line 1)",
     "output_type": "error",
     "traceback": [
      "\u001b[1;36m  Cell \u001b[1;32mIn [2], line 1\u001b[1;36m\u001b[0m\n\u001b[1;33m    profix:在操作的时候，输入这个里面的东西然后回车，自动注释了，例如\u001b[0m\n\u001b[1;37m                 ^\u001b[0m\n\u001b[1;31mSyntaxError\u001b[0m\u001b[1;31m:\u001b[0m invalid character '，' (U+FF0C)\n"
     ]
    }
   ],
   "source": [
    "profix:在操作的时候，输入这个里面的东西然后回车，自动注释了，例如“header”和“function”"
   ]
  },
  {
   "cell_type": "code",
   "execution_count": null,
   "metadata": {},
   "outputs": [],
   "source": []
  }
 ],
 "metadata": {
  "kernelspec": {
   "display_name": "Python 3.10.8 64-bit",
   "language": "python",
   "name": "python3"
  },
  "language_info": {
   "codemirror_mode": {
    "name": "ipython",
    "version": 3
   },
   "file_extension": ".py",
   "mimetype": "text/x-python",
   "name": "python",
   "nbconvert_exporter": "python",
   "pygments_lexer": "ipython3",
   "version": "3.10.8"
  },
  "orig_nbformat": 4,
  "vscode": {
   "interpreter": {
    "hash": "bebf9730dc43cfbc35fb329a82a69476f49cde6de038a2bbfc26f12404ad85fb"
   }
  }
 },
 "nbformat": 4,
 "nbformat_minor": 2
}
